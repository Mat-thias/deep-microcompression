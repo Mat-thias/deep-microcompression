{
 "cells": [
  {
   "cell_type": "code",
   "execution_count": 1,
   "id": "a701f847",
   "metadata": {},
   "outputs": [],
   "source": [
    "import sys\n",
    "import copy\n",
    "import random\n",
    "import os\n",
    "from typing import Tuple\n",
    "from collections import OrderedDict\n",
    "\n",
    "import numpy as np\n",
    "import PIL \n",
    "import matplotlib.pyplot as plt\n",
    "\n",
    "# os.environ[\"CUDA_VISIBLE_DEVICES\"] = \"-1\"\n",
    "# import tensorflow as tf\n",
    "\n",
    "import torch\n",
    "from torch import nn, optim\n",
    "from torch.utils import data\n",
    "from torchvision import datasets, transforms"
   ]
  },
  {
   "cell_type": "code",
   "execution_count": 2,
   "id": "8d355ed0",
   "metadata": {},
   "outputs": [
    {
     "name": "stderr",
     "output_type": "stream",
     "text": [
      "/home/matthias/Documents/EmbeddedAI/deep-microcompression/.venv/lib/python3.12/site-packages/tqdm/auto.py:21: TqdmWarning: IProgress not found. Please update jupyter and ipywidgets. See https://ipywidgets.readthedocs.io/en/stable/user_install.html\n",
      "  from .autonotebook import tqdm as notebook_tqdm\n"
     ]
    }
   ],
   "source": [
    "# sys.path.append(\"/home/matthias/Documents/EmbeddedAI/deep-microcompression/\")\n",
    "sys.path.append(\"../../\")\n",
    "\n",
    "from development.models.utils import convert_from_sequential_torch_to_dmc\n",
    "\n",
    "from development import (\n",
    "    Sequential,\n",
    "    AvgPool2d,\n",
    "    BatchNorm2d,\n",
    "    Conv2d,\n",
    "    Flatten,\n",
    "    Linear,\n",
    "    ReLU6,\n",
    "\n",
    "    EarlyStopper,\n",
    "\n",
    "    QuantizationGranularity,\n",
    "    QuantizationScheme\n",
    ")"
   ]
  },
  {
   "cell_type": "code",
   "execution_count": 3,
   "id": "b377d266",
   "metadata": {},
   "outputs": [
    {
     "data": {
      "text/plain": [
       "'cpu'"
      ]
     },
     "execution_count": 3,
     "metadata": {},
     "output_type": "execute_result"
    }
   ],
   "source": [
    "DEVICE = \"cuda\" if torch.cuda.is_available() else \"cpu\"\n",
    "\n",
    "input_shape = (3, 32, 32)\n",
    "LUCKY_NUMBER = 25\n",
    "torch.manual_seed(LUCKY_NUMBER)\n",
    "torch.random.manual_seed(LUCKY_NUMBER)\n",
    "torch.cuda.manual_seed(LUCKY_NUMBER)\n",
    "\n",
    "DEVICE"
   ]
  },
  {
   "cell_type": "markdown",
   "id": "5d6b0bac",
   "metadata": {},
   "source": [
    "## Getting the Datasets"
   ]
  },
  {
   "cell_type": "code",
   "execution_count": 4,
   "id": "b1326b94",
   "metadata": {},
   "outputs": [],
   "source": [
    "data_transform = transforms.Compose([\n",
    "    # transforms.RandomCrop((24, 24)),\n",
    "    transforms.Resize((32, 32)),\n",
    "    transforms.ToTensor(),\n",
    "    transforms.Normalize(\n",
    "        mean=(0.5071, 0.4867, 0.4408),\n",
    "        std=(0.2675, 0.2565, 0.2761)\n",
    "    )\n",
    "])\n",
    "\n",
    "\n",
    "cifar100_train_dataset = datasets.CIFAR100(\"../../../Datasets/CIFAR_100/\", train=True, download=True, transform=data_transform)\n",
    "cifar100_test_dataset = datasets.CIFAR100(\"../../../Datasets/CIFAR_100/\", train=False, download=True, transform=data_transform)\n",
    "\n",
    "cifar100_train_loader = data.DataLoader(cifar100_train_dataset, batch_size=256, shuffle=True, num_workers=os.cpu_count())\n",
    "cifar100_test_loader = data.DataLoader(cifar100_test_dataset, batch_size=256, shuffle=False, num_workers=os.cpu_count())\n",
    "\n",
    "top1_acc_fun = lambda y_pred, y_true: ((y_pred).argmax(dim=1) == y_true).sum().item()*100\n",
    "top5_acc_fun = lambda y_pred, y_true: (y_pred.topk(5, dim=1).indices == y_true.unsqueeze(1)).any(dim=1).sum().item()*100\n",
    "\n",
    "metrics = {\n",
    "    \"top1acc\": top1_acc_fun,\n",
    "    \"top5acc\" : top5_acc_fun\n",
    "}"
   ]
  },
  {
   "cell_type": "code",
   "execution_count": 5,
   "id": "738701c2",
   "metadata": {},
   "outputs": [
    {
     "name": "stderr",
     "output_type": "stream",
     "text": [
      "Using cache found in /home/matthias/.cache/torch/hub/chenyaofo_pytorch-cifar-models_master\n"
     ]
    }
   ],
   "source": [
    "pretraind_vqq_13_torch = torch.hub.load(\"chenyaofo/pytorch-cifar-models\", \"cifar100_vgg13_bn\", pretrained=True)\n",
    "vgg_13_torch_model = pretraind_vqq_13_torch.features + nn.Sequential(nn.Flatten()) + pretraind_vqq_13_torch.classifier\n",
    "vgg_13_dmc_model = convert_from_sequential_torch_to_dmc(vgg_13_torch_model)\n"
   ]
  },
  {
   "cell_type": "markdown",
   "id": "d4266296",
   "metadata": {},
   "source": [
    "## Original Model"
   ]
  },
  {
   "cell_type": "code",
   "execution_count": 6,
   "id": "032a8756",
   "metadata": {},
   "outputs": [
    {
     "name": "stderr",
     "output_type": "stream",
     "text": [
      "100%|██████████| 40/40 [00:39<00:00,  1.00it/s]\n"
     ]
    },
    {
     "data": {
      "text/plain": [
       "{'top1acc': 74.63, 'top5acc': 91.09}"
      ]
     },
     "execution_count": 6,
     "metadata": {},
     "output_type": "execute_result"
    }
   ],
   "source": [
    "vgg_13_dmc_model.evaluate(cifar100_test_loader, metrics=metrics)"
   ]
  },
  {
   "cell_type": "code",
   "execution_count": 7,
   "id": "386d13a1",
   "metadata": {},
   "outputs": [
    {
     "name": "stderr",
     "output_type": "stream",
     "text": [
      "100%|██████████| 40/40 [00:38<00:00,  1.03it/s]"
     ]
    },
    {
     "name": "stdout",
     "output_type": "stream",
     "text": [
      "The original model accuracy is top1acc = 74.63%  top5acc = 91.09% with size 39926416 bytes.\n"
     ]
    },
    {
     "name": "stderr",
     "output_type": "stream",
     "text": [
      "\n"
     ]
    }
   ],
   "source": [
    "vgg_13_dmc_model = vgg_13_dmc_model.fuse()\n",
    "\n",
    "evaluate_result = vgg_13_dmc_model.evaluate(cifar100_test_loader, metrics=metrics, device=DEVICE)\n",
    "original_size = vgg_13_dmc_model.get_size_in_bytes()\n",
    "print(f\"The original model accuracy is top1acc = {evaluate_result[\"top1acc\"]:.2f}%  top5acc = {evaluate_result[\"top5acc\"]:.2f}% with size {original_size} bytes.\")\n",
    "\n"
   ]
  },
  {
   "cell_type": "code",
   "execution_count": 8,
   "id": "3d9aaafc",
   "metadata": {},
   "outputs": [],
   "source": [
    "# fused_vgg_13_dmc_model = vgg_13_dmc_model.fuse().to(DEVICE)\n",
    "\n",
    "# evaluate_result = fused_vgg_13_dmc_model.evaluate(cifar100_test_loader, metrics=metrics, device=DEVICE)\n",
    "# original_size = fused_vgg_13_dmc_model.get_size_in_bytes()\n",
    "# print(f\"The fused model accuracy is top1acc = {evaluate_result[\"top1acc\"]:.2f}%  top5acc = {evaluate_result[\"top5acc\"]:.2f}% with size {original_size} bytes.\")\n"
   ]
  },
  {
   "cell_type": "code",
   "execution_count": 9,
   "id": "a605c71d",
   "metadata": {},
   "outputs": [],
   "source": [
    "# fused_vgg_13_dmc_model = vgg_13_dmc_model.fuse().to(DEVICE)\n",
    "\n",
    "# evaluate_result = fused_vgg_13_dmc_model.evaluate(cifar100_test_loader, metrics=metrics, device=DEVICE)\n",
    "# original_size = fused_vgg_13_dmc_model.get_size_in_bytes()\n",
    "# print(f\"The original model accuracy is {evaluate_result[\"acc\"]*100:.2f}% with size {original_size} bytes.\")\n",
    "\n",
    "# # fused_vgg_13_dmc_model.convert_to_c(var_name=\"vgg_13_dmc_model\", src_dir=\"./Arduino Nano 33 BLE/src/\", include_dir=\"./Arduino Nano 33 BLE/include/\")\n",
    "# fused_vgg_13_dmc_model.convert_to_c(input_shape=input_shape, var_name=\"vgg_13_dmc_model\", src_dir=\"./HP HP Pavilion Laptop 15-cs3xxx/src/\", include_dir=\"./HP HP Pavilion Laptop 15-cs3xxx/include/\")\n",
    "\n",
    "# print(fused_vgg_13_dmc_model.test(device=DEVICE, var_name=\"vgg_13_dmc_model\", src_dir=\"./HP HP Pavilion Laptop 15-cs3xxx/src/\", include_dir=\"./HP HP Pavilion Laptop 15-cs3xxx/include/\"))\n",
    "# # print(fused_vgg_13_dmc_model(vgg_13_dmc_model.test_input[0].unsqueeze(dim=0).detach().clone()))\n",
    "# evaluate_result[\"acc\"], original_size"
   ]
  },
  {
   "cell_type": "markdown",
   "id": "fa2d9566",
   "metadata": {},
   "source": [
    "## Testing Compression on VGG13"
   ]
  },
  {
   "cell_type": "markdown",
   "id": "129e7df6",
   "metadata": {},
   "source": [
    "## Pruning"
   ]
  },
  {
   "cell_type": "code",
   "execution_count": 10,
   "id": "43fb74b2",
   "metadata": {},
   "outputs": [
    {
     "name": "stderr",
     "output_type": "stream",
     "text": [
      "  0%|          | 0/40 [00:00<?, ?it/s]"
     ]
    },
    {
     "name": "stderr",
     "output_type": "stream",
     "text": [
      "100%|██████████| 40/40 [00:40<00:00,  1.01s/it]\n"
     ]
    },
    {
     "name": "stdout",
     "output_type": "stream",
     "text": [
      "Before training, sparsity = 0.0 acc1 = 74.63% acc5 = 91.09% size =  100.0000\n"
     ]
    },
    {
     "name": "stderr",
     "output_type": "stream",
     "text": [
      "100%|██████████| 40/40 [00:43<00:00,  1.08s/it]\n"
     ]
    },
    {
     "name": "stdout",
     "output_type": "stream",
     "text": [
      "Before training, sparsity = 0.1 acc1 = 44.80% acc5 = 65.40% size =   81.2115\n"
     ]
    },
    {
     "name": "stderr",
     "output_type": "stream",
     "text": [
      "100%|██████████| 40/40 [00:46<00:00,  1.16s/it]\n"
     ]
    },
    {
     "name": "stdout",
     "output_type": "stream",
     "text": [
      "Before training, sparsity = 0.2 acc1 = 16.97% acc5 = 34.68% size =   64.2513\n"
     ]
    },
    {
     "name": "stderr",
     "output_type": "stream",
     "text": [
      "100%|██████████| 40/40 [00:41<00:00,  1.05s/it]\n"
     ]
    },
    {
     "name": "stdout",
     "output_type": "stream",
     "text": [
      "Before training, sparsity = 0.3 acc1 = 4.07% acc5 = 12.53% size =   49.3318\n"
     ]
    },
    {
     "name": "stderr",
     "output_type": "stream",
     "text": [
      "100%|██████████| 40/40 [00:41<00:00,  1.03s/it]\n"
     ]
    },
    {
     "name": "stdout",
     "output_type": "stream",
     "text": [
      "Before training, sparsity = 0.4 acc1 = 1.24% acc5 = 6.56% size =   36.3321\n"
     ]
    },
    {
     "name": "stderr",
     "output_type": "stream",
     "text": [
      "100%|██████████| 40/40 [00:40<00:00,  1.01s/it]\n"
     ]
    },
    {
     "name": "stdout",
     "output_type": "stream",
     "text": [
      "Before training, sparsity = 0.5 acc1 = 1.20% acc5 = 4.97% size =   25.1433\n"
     ]
    },
    {
     "name": "stderr",
     "output_type": "stream",
     "text": [
      "100%|██████████| 40/40 [00:38<00:00,  1.03it/s]\n"
     ]
    },
    {
     "name": "stdout",
     "output_type": "stream",
     "text": [
      "Before training, sparsity = 0.6 acc1 = 1.00% acc5 = 5.04% size =   16.2091\n"
     ]
    },
    {
     "name": "stderr",
     "output_type": "stream",
     "text": [
      "100%|██████████| 40/40 [00:38<00:00,  1.03it/s]\n"
     ]
    },
    {
     "name": "stdout",
     "output_type": "stream",
     "text": [
      "Before training, sparsity = 0.7 acc1 = 1.00% acc5 = 5.00% size =    9.1811\n"
     ]
    },
    {
     "name": "stderr",
     "output_type": "stream",
     "text": [
      "100%|██████████| 40/40 [00:37<00:00,  1.06it/s]\n"
     ]
    },
    {
     "name": "stdout",
     "output_type": "stream",
     "text": [
      "Before training, sparsity = 0.8 acc1 = 1.00% acc5 = 5.00% size =    4.1533\n"
     ]
    },
    {
     "name": "stderr",
     "output_type": "stream",
     "text": [
      "100%|██████████| 40/40 [00:35<00:00,  1.13it/s]\n"
     ]
    },
    {
     "name": "stdout",
     "output_type": "stream",
     "text": [
      "Before training, sparsity = 0.9 acc1 = 1.00% acc5 = 5.00% size =    1.0858\n"
     ]
    },
    {
     "name": "stderr",
     "output_type": "stream",
     "text": [
      "100%|██████████| 40/40 [00:36<00:00,  1.11it/s]\n"
     ]
    },
    {
     "name": "stdout",
     "output_type": "stream",
     "text": [
      "Before training, sparsity = 1.0 acc1 = 1.00% acc5 = 5.00% size =    0.0032\n"
     ]
    }
   ],
   "source": [
    "for i in range(0, 11, 1):\n",
    "    sp = i/10\n",
    "    compression_config = {\n",
    "        \"prune_channel\" :{\n",
    "            \"sparsity\" : sp,\n",
    "            \"metric\" : \"l2\"\n",
    "        },\n",
    "    }\n",
    "    compressed_vgg_13_dmc_model = vgg_13_dmc_model.init_compress(compression_config, input_shape=input_shape)\n",
    "\n",
    "    evaluate_result = compressed_vgg_13_dmc_model.evaluate(cifar100_test_loader, metrics, device=DEVICE)\n",
    "    size = compressed_vgg_13_dmc_model.get_size_in_bytes()\n",
    "    print(f\"Before training, sparsity = {sp} acc1 = {evaluate_result[\"top1acc\"]:.2f}% acc5 = {evaluate_result[\"top5acc\"]:.2f}% size = {size/original_size*100:9.4f}\")\n"
   ]
  },
  {
   "cell_type": "markdown",
   "id": "e85f72d8",
   "metadata": {},
   "source": [
    "### Dynamic Quantization Per Tensor"
   ]
  },
  {
   "cell_type": "code",
   "execution_count": 11,
   "id": "c0c303ba",
   "metadata": {},
   "outputs": [
    {
     "name": "stderr",
     "output_type": "stream",
     "text": [
      "  0%|          | 0/40 [00:00<?, ?it/s]"
     ]
    },
    {
     "name": "stderr",
     "output_type": "stream",
     "text": [
      "100%|██████████| 40/40 [00:44<00:00,  1.11s/it]\n"
     ]
    },
    {
     "name": "stdout",
     "output_type": "stream",
     "text": [
      "Before training, sparsity = 1.0 acc1 = 74.43% acc5 = 90.94% size =   25.0307\n"
     ]
    },
    {
     "name": "stderr",
     "output_type": "stream",
     "text": [
      "100%|██████████| 40/40 [00:44<00:00,  1.11s/it]\n"
     ]
    },
    {
     "name": "stdout",
     "output_type": "stream",
     "text": [
      "Before training, sparsity = 1.0 acc1 = 45.30% acc5 = 67.25% size =   12.5358\n"
     ]
    },
    {
     "name": "stderr",
     "output_type": "stream",
     "text": [
      "100%|██████████| 40/40 [00:41<00:00,  1.04s/it]\n"
     ]
    },
    {
     "name": "stdout",
     "output_type": "stream",
     "text": [
      "Before training, sparsity = 1.0 acc1 = 1.00% acc5 = 5.00% size =    6.2883\n"
     ]
    }
   ],
   "source": [
    "for b in [8, 4, 2]:\n",
    "    compression_config = {\n",
    "        \"quantize\" : {\n",
    "            \"scheme\" : QuantizationScheme.DYNAMIC,\n",
    "            \"granularity\": QuantizationGranularity.PER_TENSOR,\n",
    "            \"bitwidth\" : b\n",
    "        }\n",
    "    }\n",
    "    compressed_vgg_13_dmc_model = vgg_13_dmc_model.init_compress(compression_config, input_shape=input_shape)\n",
    "\n",
    "    evaluate_result = compressed_vgg_13_dmc_model.evaluate(cifar100_test_loader, metrics, device=DEVICE)\n",
    "    size = compressed_vgg_13_dmc_model.get_size_in_bytes()\n",
    "    print(f\"Before training, sparsity = {sp} acc1 = {evaluate_result[\"top1acc\"]:.2f}% acc5 = {evaluate_result[\"top5acc\"]:.2f}% size = {size/original_size*100:9.4f}\")\n"
   ]
  },
  {
   "cell_type": "markdown",
   "id": "d044184f",
   "metadata": {},
   "source": [
    "### Dynamic Quantization Per Channel"
   ]
  },
  {
   "cell_type": "code",
   "execution_count": 12,
   "id": "e9989302",
   "metadata": {},
   "outputs": [
    {
     "name": "stderr",
     "output_type": "stream",
     "text": [
      "100%|██████████| 40/40 [00:38<00:00,  1.05it/s]\n"
     ]
    },
    {
     "name": "stdout",
     "output_type": "stream",
     "text": [
      "Before training, sparsity = 1.0 acc1 = 74.66% acc5 = 91.06% size =   25.0713\n"
     ]
    },
    {
     "name": "stderr",
     "output_type": "stream",
     "text": [
      "100%|██████████| 40/40 [00:37<00:00,  1.07it/s]\n"
     ]
    },
    {
     "name": "stdout",
     "output_type": "stream",
     "text": [
      "Before training, sparsity = 1.0 acc1 = 72.38% acc5 = 90.03% size =   12.5764\n"
     ]
    },
    {
     "name": "stderr",
     "output_type": "stream",
     "text": [
      "100%|██████████| 40/40 [00:37<00:00,  1.06it/s]\n"
     ]
    },
    {
     "name": "stdout",
     "output_type": "stream",
     "text": [
      "Before training, sparsity = 1.0 acc1 = 1.00% acc5 = 5.09% size =    6.3290\n"
     ]
    }
   ],
   "source": [
    "for b in [8, 4, 2]:\n",
    "    compression_config = {\n",
    "        \"quantize\" : {\n",
    "            \"scheme\" : QuantizationScheme.DYNAMIC,\n",
    "            \"granularity\": QuantizationGranularity.PER_CHANNEL,\n",
    "            \"bitwidth\" : b\n",
    "        }\n",
    "    }\n",
    "    compressed_vgg_13_dmc_model = vgg_13_dmc_model.init_compress(compression_config, input_shape=input_shape)\n",
    "\n",
    "    evaluate_result = compressed_vgg_13_dmc_model.evaluate(cifar100_test_loader, metrics, device=DEVICE)\n",
    "    size = compressed_vgg_13_dmc_model.get_size_in_bytes()\n",
    "    print(f\"Before training, sparsity = {sp} acc1 = {evaluate_result[\"top1acc\"]:.2f}% acc5 = {evaluate_result[\"top5acc\"]:.2f}% size = {size/original_size*100:9.4f}\")\n"
   ]
  },
  {
   "cell_type": "markdown",
   "id": "1b24ced1",
   "metadata": {},
   "source": [
    "### Static Quantization Per Tensor"
   ]
  },
  {
   "cell_type": "code",
   "execution_count": 16,
   "id": "3b189647",
   "metadata": {},
   "outputs": [
    {
     "name": "stderr",
     "output_type": "stream",
     "text": [
      "100%|██████████| 40/40 [01:02<00:00,  1.57s/it]\n"
     ]
    },
    {
     "name": "stdout",
     "output_type": "stream",
     "text": [
      "Before training, sparsity = 1.0 acc1 = 74.28% acc5 = 90.90% size =   25.0309\n"
     ]
    },
    {
     "name": "stderr",
     "output_type": "stream",
     "text": [
      "100%|██████████| 40/40 [00:59<00:00,  1.50s/it]\n"
     ]
    },
    {
     "name": "stdout",
     "output_type": "stream",
     "text": [
      "Before training, sparsity = 1.0 acc1 = 27.19% acc5 = 44.92% size =   12.5360\n"
     ]
    },
    {
     "name": "stderr",
     "output_type": "stream",
     "text": [
      "100%|██████████| 40/40 [00:57<00:00,  1.43s/it]\n"
     ]
    },
    {
     "name": "stdout",
     "output_type": "stream",
     "text": [
      "Before training, sparsity = 1.0 acc1 = 1.00% acc5 = 5.00% size =    6.2885\n"
     ]
    }
   ],
   "source": [
    "for b in [8, 4, 2]:\n",
    "    compression_config = {\n",
    "        \"quantize\" : {\n",
    "            \"scheme\" : QuantizationScheme.STATIC,\n",
    "            \"granularity\": QuantizationGranularity.PER_TENSOR,\n",
    "            \"bitwidth\" : b\n",
    "        }\n",
    "    }\n",
    "    compressed_vgg_13_dmc_model = vgg_13_dmc_model.init_compress(compression_config, input_shape=input_shape, calibration_data=next(iter(cifar100_test_loader))[0])\n",
    "\n",
    "    evaluate_result = compressed_vgg_13_dmc_model.evaluate(cifar100_test_loader, metrics, device=DEVICE)\n",
    "    size = compressed_vgg_13_dmc_model.get_size_in_bytes()\n",
    "    print(f\"Before training, sparsity = {sp} acc1 = {evaluate_result[\"top1acc\"]:.2f}% acc5 = {evaluate_result[\"top5acc\"]:.2f}% size = {size/original_size*100:9.4f}\")\n"
   ]
  },
  {
   "cell_type": "markdown",
   "id": "bafe9327",
   "metadata": {},
   "source": [
    "### Static Quantization Per Channel"
   ]
  },
  {
   "cell_type": "code",
   "execution_count": 17,
   "id": "5271bdb2",
   "metadata": {},
   "outputs": [
    {
     "name": "stderr",
     "output_type": "stream",
     "text": [
      "100%|██████████| 40/40 [00:54<00:00,  1.37s/it]\n"
     ]
    },
    {
     "name": "stdout",
     "output_type": "stream",
     "text": [
      "Before training, sparsity = 1.0 acc1 = 74.64% acc5 = 91.12% size =   25.0715\n"
     ]
    },
    {
     "name": "stderr",
     "output_type": "stream",
     "text": [
      "100%|██████████| 40/40 [00:53<00:00,  1.35s/it]\n"
     ]
    },
    {
     "name": "stdout",
     "output_type": "stream",
     "text": [
      "Before training, sparsity = 1.0 acc1 = 59.75% acc5 = 78.69% size =   12.5766\n"
     ]
    },
    {
     "name": "stderr",
     "output_type": "stream",
     "text": [
      "100%|██████████| 40/40 [00:52<00:00,  1.32s/it]\n"
     ]
    },
    {
     "name": "stdout",
     "output_type": "stream",
     "text": [
      "Before training, sparsity = 1.0 acc1 = 1.09% acc5 = 5.13% size =    6.3292\n"
     ]
    }
   ],
   "source": [
    "for b in [8, 4, 2]:\n",
    "    compression_config = {\n",
    "        \"quantize\" : {\n",
    "            \"scheme\" : QuantizationScheme.STATIC,\n",
    "            \"granularity\": QuantizationGranularity.PER_CHANNEL,\n",
    "            \"bitwidth\" : b\n",
    "        }\n",
    "    }\n",
    "    compressed_vgg_13_dmc_model = vgg_13_dmc_model.init_compress(compression_config, input_shape=input_shape,calibration_data=next(iter(cifar100_test_loader))[0])\n",
    "\n",
    "    evaluate_result = compressed_vgg_13_dmc_model.evaluate(cifar100_test_loader, metrics, device=DEVICE)\n",
    "    size = compressed_vgg_13_dmc_model.get_size_in_bytes()\n",
    "    print(f\"Before training, sparsity = {sp} acc1 = {evaluate_result[\"top1acc\"]:.2f}% acc5 = {evaluate_result[\"top5acc\"]:.2f}% size = {size/original_size*100:9.4f}\")\n"
   ]
  },
  {
   "cell_type": "markdown",
   "id": "c72e6d4f",
   "metadata": {},
   "source": [
    "## Training with Compression"
   ]
  },
  {
   "cell_type": "markdown",
   "id": "48d311d4",
   "metadata": {},
   "source": [
    "### Pruning"
   ]
  },
  {
   "cell_type": "code",
   "execution_count": 21,
   "id": "6a4112f1",
   "metadata": {},
   "outputs": [
    {
     "name": "stderr",
     "output_type": "stream",
     "text": [
      "  0%|          | 0/40 [00:00<?, ?it/s]"
     ]
    },
    {
     "name": "stderr",
     "output_type": "stream",
     "text": [
      "100%|██████████| 40/40 [00:41<00:00,  1.04s/it]\n"
     ]
    },
    {
     "name": "stdout",
     "output_type": "stream",
     "text": [
      "Before training, sparsity = 0.1 acc1 = 44.80% acc5 = 65.40% size =   81.2115\n"
     ]
    },
    {
     "name": "stderr",
     "output_type": "stream",
     "text": [
      "100%|██████████| 40/40 [00:40<00:00,  1.01s/it]\n",
      "  0%|          | 1/52000 [10:30<9108:12:31, 630.58s/it]"
     ]
    },
    {
     "name": "stdout",
     "output_type": "stream",
     "text": [
      "epoch    0 | train loss 0.0004 | validation loss 0.0052 | train top1acc 97.4200 | validation top1acc 70.8700 | train top5acc 99.6200 | validation top5acc 89.0100\n"
     ]
    },
    {
     "name": "stderr",
     "output_type": "stream",
     "text": [
      "100%|██████████| 40/40 [00:40<00:00,  1.01s/it]\n",
      "  0%|          | 2/52000 [20:52<9036:56:09, 625.66s/it]"
     ]
    },
    {
     "name": "stdout",
     "output_type": "stream",
     "text": [
      "epoch    1 | train loss 0.0001 | validation loss 0.0052 | train top1acc 99.7360 | validation top1acc 71.3800 | train top5acc 99.9960 | validation top5acc 89.1800\n"
     ]
    },
    {
     "name": "stderr",
     "output_type": "stream",
     "text": [
      "100%|██████████| 40/40 [00:40<00:00,  1.02s/it]\n",
      "  0%|          | 3/52000 [31:17<9028:23:35, 625.08s/it]"
     ]
    },
    {
     "name": "stdout",
     "output_type": "stream",
     "text": [
      "epoch    2 | train loss 0.0000 | validation loss 0.0052 | train top1acc 99.9360 | validation top1acc 71.6200 | train top5acc 100.0000 | validation top5acc 89.3700\n"
     ]
    },
    {
     "name": "stderr",
     "output_type": "stream",
     "text": [
      "100%|██████████| 40/40 [00:39<00:00,  1.00it/s]\n",
      "  0%|          | 4/52000 [41:26<8936:27:57, 618.73s/it]"
     ]
    },
    {
     "name": "stdout",
     "output_type": "stream",
     "text": [
      "epoch    3 | train loss 0.0000 | validation loss 0.0053 | train top1acc 99.9720 | validation top1acc 71.7800 | train top5acc 100.0000 | validation top5acc 89.5400\n"
     ]
    },
    {
     "name": "stderr",
     "output_type": "stream",
     "text": [
      "100%|██████████| 40/40 [00:42<00:00,  1.06s/it]\n",
      "  0%|          | 5/52000 [51:28<8851:36:18, 612.86s/it]"
     ]
    },
    {
     "name": "stdout",
     "output_type": "stream",
     "text": [
      "epoch    4 | train loss 0.0000 | validation loss 0.0053 | train top1acc 99.9680 | validation top1acc 71.7100 | train top5acc 100.0000 | validation top5acc 89.6000\n"
     ]
    },
    {
     "name": "stderr",
     "output_type": "stream",
     "text": [
      "100%|██████████| 40/40 [00:40<00:00,  1.00s/it]\n",
      "  0%|          | 6/52000 [1:01:49<8891:17:47, 615.62s/it]"
     ]
    },
    {
     "name": "stdout",
     "output_type": "stream",
     "text": [
      "epoch    5 | train loss 0.0000 | validation loss 0.0053 | train top1acc 99.9760 | validation top1acc 71.7300 | train top5acc 100.0000 | validation top5acc 89.5800\n"
     ]
    },
    {
     "name": "stderr",
     "output_type": "stream",
     "text": [
      "100%|██████████| 40/40 [00:40<00:00,  1.01s/it]\n",
      "  0%|          | 7/52000 [1:12:08<8906:30:55, 616.69s/it]"
     ]
    },
    {
     "name": "stdout",
     "output_type": "stream",
     "text": [
      "epoch    6 | train loss 0.0000 | validation loss 0.0053 | train top1acc 99.9780 | validation top1acc 71.7700 | train top5acc 100.0000 | validation top5acc 89.5900\n"
     ]
    },
    {
     "name": "stderr",
     "output_type": "stream",
     "text": [
      "100%|██████████| 40/40 [00:40<00:00,  1.00s/it]\n",
      "  0%|          | 7/52000 [1:22:17<10186:52:03, 705.34s/it]\n"
     ]
    },
    {
     "name": "stdout",
     "output_type": "stream",
     "text": [
      "epoch    7 | train loss 0.0000 | validation loss 0.0053 | train top1acc 99.9780 | validation top1acc 71.6800 | train top5acc 100.0000 | validation top5acc 89.6000\n",
      "Stopping Training of Sequential with at 0 epoch with best validation_loss = 0.005220910534262657\n"
     ]
    },
    {
     "name": "stderr",
     "output_type": "stream",
     "text": [
      "100%|██████████| 40/40 [00:38<00:00,  1.03it/s]"
     ]
    },
    {
     "name": "stdout",
     "output_type": "stream",
     "text": [
      "After training, sparsity = 0.1 acc1 = 71.68% acc5 = 89.60% size =   81.2115\n"
     ]
    },
    {
     "name": "stderr",
     "output_type": "stream",
     "text": [
      "\n"
     ]
    }
   ],
   "source": [
    "sp = 1/10\n",
    "compression_config = {\n",
    "    \"prune_channel\" :{\n",
    "        \"sparsity\" : sp,\n",
    "        \"metric\" : \"l2\"\n",
    "    },\n",
    "}\n",
    "compressed_vgg_13_dmc_model = vgg_13_dmc_model.init_compress(compression_config, input_shape=input_shape)\n",
    "\n",
    "evaluate_result = compressed_vgg_13_dmc_model.evaluate(cifar100_test_loader, metrics, device=DEVICE)\n",
    "size = compressed_vgg_13_dmc_model.get_size_in_bytes()\n",
    "print(f\"Before training, sparsity = {sp} acc1 = {evaluate_result[\"top1acc\"]:.2f}% acc5 = {evaluate_result[\"top5acc\"]:.2f}% size = {size/original_size*100:9.4f}\")\n",
    "\n",
    "criterion_fun = nn.CrossEntropyLoss()\n",
    "optimizion_fun = optim.SGD(compressed_vgg_13_dmc_model.parameters(), lr=1e-3, momentum=0.9, weight_decay=5e-4)\n",
    "lr_scheduler = optim.lr_scheduler.ReduceLROnPlateau(optimizion_fun, mode=\"min\", patience=3)\n",
    "\n",
    "early_stopper = EarlyStopper(\n",
    "    metric_name=\"validation_loss\",\n",
    "    min_valid_diff=1e-5,\n",
    "    mode=\"min\",\n",
    "    patience=7,\n",
    "    restore_best_state_dict=True,\n",
    ")\n",
    "\n",
    "compressed_vgg_13_dmc_model.fit(\n",
    "    cifar100_train_loader, \n",
    "    52000,\n",
    "    criterion_fun, optimizion_fun, lr_scheduler,\n",
    "    validation_dataloader=cifar100_test_loader,\n",
    "    metrics=metrics,\n",
    "    verbose=True, \n",
    "    callbacks=[early_stopper]\n",
    ")\n",
    "\n",
    "evaluate_result = compressed_vgg_13_dmc_model.evaluate(cifar100_test_loader, metrics, device=DEVICE)\n",
    "print(f\"After training, sparsity = {sp} acc1 = {evaluate_result[\"top1acc\"]:.2f}% acc5 = {evaluate_result[\"top5acc\"]:.2f}% size = {size/original_size*100:9.4f}\")\n"
   ]
  },
  {
   "cell_type": "code",
   "execution_count": 22,
   "id": "f4171851",
   "metadata": {},
   "outputs": [
    {
     "name": "stderr",
     "output_type": "stream",
     "text": [
      "100%|██████████| 40/40 [00:41<00:00,  1.03s/it]\n"
     ]
    },
    {
     "name": "stdout",
     "output_type": "stream",
     "text": [
      "Before training, sparsity = 0.3 acc1 = 4.07% acc5 = 12.53% size =   49.3318\n"
     ]
    },
    {
     "name": "stderr",
     "output_type": "stream",
     "text": [
      "100%|██████████| 40/40 [00:40<00:00,  1.02s/it]\n",
      "  2%|▏         | 1/50 [10:40<8:43:01, 640.43s/it]"
     ]
    },
    {
     "name": "stdout",
     "output_type": "stream",
     "text": [
      "epoch    0 | train loss 0.0070 | validation loss 0.0066 | train top1acc 60.8940 | validation top1acc 61.2000 | train top5acc 79.6760 | validation top5acc 82.2400\n"
     ]
    },
    {
     "name": "stderr",
     "output_type": "stream",
     "text": [
      "100%|██████████| 40/40 [00:40<00:00,  1.02s/it]\n",
      "  4%|▍         | 2/50 [21:01<8:23:25, 629.28s/it]"
     ]
    },
    {
     "name": "stdout",
     "output_type": "stream",
     "text": [
      "epoch    1 | train loss 0.0020 | validation loss 0.0059 | train top1acc 87.0580 | validation top1acc 65.5800 | train top5acc 97.9560 | validation top5acc 85.0600\n"
     ]
    },
    {
     "name": "stderr",
     "output_type": "stream",
     "text": [
      "100%|██████████| 40/40 [00:39<00:00,  1.01it/s]\n",
      "  6%|▌         | 3/50 [31:12<8:06:17, 620.80s/it]"
     ]
    },
    {
     "name": "stdout",
     "output_type": "stream",
     "text": [
      "epoch    2 | train loss 0.0011 | validation loss 0.0058 | train top1acc 92.7740 | validation top1acc 67.0100 | train top5acc 99.2940 | validation top5acc 86.4700\n"
     ]
    },
    {
     "name": "stderr",
     "output_type": "stream",
     "text": [
      "100%|██████████| 40/40 [00:39<00:00,  1.02it/s]\n",
      "  8%|▊         | 4/50 [41:17<7:51:01, 614.38s/it]"
     ]
    },
    {
     "name": "stdout",
     "output_type": "stream",
     "text": [
      "epoch    3 | train loss 0.0007 | validation loss 0.0058 | train top1acc 95.7080 | validation top1acc 67.2500 | train top5acc 99.6940 | validation top5acc 87.3300\n"
     ]
    },
    {
     "name": "stderr",
     "output_type": "stream",
     "text": [
      "100%|██████████| 40/40 [00:39<00:00,  1.02it/s]\n",
      " 10%|█         | 5/50 [51:19<7:37:35, 610.13s/it]"
     ]
    },
    {
     "name": "stdout",
     "output_type": "stream",
     "text": [
      "epoch    4 | train loss 0.0005 | validation loss 0.0059 | train top1acc 97.4860 | validation top1acc 67.8500 | train top5acc 99.8840 | validation top5acc 87.3900\n"
     ]
    },
    {
     "name": "stderr",
     "output_type": "stream",
     "text": [
      "100%|██████████| 40/40 [00:39<00:00,  1.02it/s]\n",
      " 12%|█▏        | 6/50 [1:01:22<7:25:42, 607.78s/it]"
     ]
    },
    {
     "name": "stdout",
     "output_type": "stream",
     "text": [
      "epoch    5 | train loss 0.0003 | validation loss 0.0061 | train top1acc 98.5280 | validation top1acc 67.8000 | train top5acc 99.9440 | validation top5acc 87.4900\n"
     ]
    },
    {
     "name": "stderr",
     "output_type": "stream",
     "text": [
      "100%|██████████| 40/40 [00:38<00:00,  1.04it/s]\n",
      " 14%|█▍        | 7/50 [1:11:28<7:15:03, 607.07s/it]"
     ]
    },
    {
     "name": "stdout",
     "output_type": "stream",
     "text": [
      "epoch    6 | train loss 0.0002 | validation loss 0.0063 | train top1acc 99.2540 | validation top1acc 68.1600 | train top5acc 99.9720 | validation top5acc 87.6200\n"
     ]
    },
    {
     "name": "stderr",
     "output_type": "stream",
     "text": [
      "100%|██████████| 40/40 [00:38<00:00,  1.05it/s]\n",
      " 16%|█▌        | 8/50 [1:21:32<7:04:18, 606.16s/it]"
     ]
    },
    {
     "name": "stdout",
     "output_type": "stream",
     "text": [
      "epoch    7 | train loss 0.0001 | validation loss 0.0063 | train top1acc 99.7700 | validation top1acc 68.4000 | train top5acc 99.9900 | validation top5acc 87.7000\n"
     ]
    },
    {
     "name": "stderr",
     "output_type": "stream",
     "text": [
      "100%|██████████| 40/40 [00:39<00:00,  1.00it/s]\n",
      " 18%|█▊        | 9/50 [1:31:36<6:53:45, 605.50s/it]"
     ]
    },
    {
     "name": "stdout",
     "output_type": "stream",
     "text": [
      "epoch    8 | train loss 0.0001 | validation loss 0.0063 | train top1acc 99.8060 | validation top1acc 68.4300 | train top5acc 99.9900 | validation top5acc 87.6900\n"
     ]
    },
    {
     "name": "stderr",
     "output_type": "stream",
     "text": [
      "100%|██████████| 40/40 [00:39<00:00,  1.01it/s]\n",
      " 18%|█▊        | 9/50 [1:41:41<7:43:15, 677.93s/it]\n"
     ]
    },
    {
     "name": "stdout",
     "output_type": "stream",
     "text": [
      "epoch    9 | train loss 0.0001 | validation loss 0.0063 | train top1acc 99.8240 | validation top1acc 68.4700 | train top5acc 99.9900 | validation top5acc 87.6700\n",
      "Stopping Training of Sequential with at 2 epoch with best validation_loss = 0.005783408880233765\n"
     ]
    },
    {
     "name": "stderr",
     "output_type": "stream",
     "text": [
      "100%|██████████| 40/40 [00:39<00:00,  1.01it/s]"
     ]
    },
    {
     "name": "stdout",
     "output_type": "stream",
     "text": [
      "After training, sparsity = 0.3 acc1 = 68.47% acc5 = 87.67% size =   49.3318\n"
     ]
    },
    {
     "name": "stderr",
     "output_type": "stream",
     "text": [
      "\n"
     ]
    }
   ],
   "source": [
    "sp = 3/10\n",
    "compression_config = {\n",
    "    \"prune_channel\" :{\n",
    "        \"sparsity\" : sp,\n",
    "        \"metric\" : \"l2\"\n",
    "    },\n",
    "}\n",
    "compressed_vgg_13_dmc_model = vgg_13_dmc_model.init_compress(compression_config, input_shape=input_shape)\n",
    "\n",
    "evaluate_result = compressed_vgg_13_dmc_model.evaluate(cifar100_test_loader, metrics, device=DEVICE)\n",
    "size = compressed_vgg_13_dmc_model.get_size_in_bytes()\n",
    "print(f\"Before training, sparsity = {sp} acc1 = {evaluate_result[\"top1acc\"]:.2f}% acc5 = {evaluate_result[\"top5acc\"]:.2f}% size = {size/original_size*100:9.4f}\")\n",
    "\n",
    "criterion_fun = nn.CrossEntropyLoss()\n",
    "optimizion_fun = optim.SGD(compressed_vgg_13_dmc_model.parameters(), lr=1e-3, momentum=0.9, weight_decay=5e-4)\n",
    "lr_scheduler = optim.lr_scheduler.ReduceLROnPlateau(optimizion_fun, mode=\"min\", patience=3)\n",
    "\n",
    "early_stopper = EarlyStopper(\n",
    "    metric_name=\"validation_loss\",\n",
    "    min_valid_diff=1e-5,\n",
    "    mode=\"min\",\n",
    "    patience=7,\n",
    "    restore_best_state_dict=True,\n",
    ")\n",
    "\n",
    "compressed_vgg_13_dmc_model.fit(\n",
    "    cifar100_train_loader, \n",
    "    50,\n",
    "    criterion_fun, optimizion_fun, lr_scheduler,\n",
    "    validation_dataloader=cifar100_test_loader,\n",
    "    metrics=metrics,\n",
    "    verbose=True, \n",
    "    callbacks=[early_stopper]\n",
    ")\n",
    "\n",
    "evaluate_result = compressed_vgg_13_dmc_model.evaluate(cifar100_test_loader, metrics, device=DEVICE)\n",
    "print(f\"After training, sparsity = {sp} acc1 = {evaluate_result[\"top1acc\"]:.2f}% acc5 = {evaluate_result[\"top5acc\"]:.2f}% size = {size/original_size*100:9.4f}\")\n"
   ]
  },
  {
   "cell_type": "code",
   "execution_count": 23,
   "id": "489ebfa5",
   "metadata": {},
   "outputs": [
    {
     "name": "stderr",
     "output_type": "stream",
     "text": [
      "100%|██████████| 40/40 [00:37<00:00,  1.08it/s]\n"
     ]
    },
    {
     "name": "stdout",
     "output_type": "stream",
     "text": [
      "Before training, sparsity = 0.3 acc1 = 45.30% acc5 = 67.25% size =   12.5358\n"
     ]
    },
    {
     "name": "stderr",
     "output_type": "stream",
     "text": [
      "100%|██████████| 40/40 [00:35<00:00,  1.12it/s]\n",
      "  2%|▏         | 1/50 [09:16<7:34:26, 556.46s/it]"
     ]
    },
    {
     "name": "stdout",
     "output_type": "stream",
     "text": [
      "epoch    0 | train loss 0.0005 | validation loss 0.0056 | train top1acc 97.1360 | validation top1acc 71.0400 | train top5acc 99.5240 | validation top5acc 89.3000\n"
     ]
    },
    {
     "name": "stderr",
     "output_type": "stream",
     "text": [
      "100%|██████████| 40/40 [00:37<00:00,  1.06it/s]\n",
      "  4%|▍         | 2/50 [18:38<7:27:46, 559.72s/it]"
     ]
    },
    {
     "name": "stdout",
     "output_type": "stream",
     "text": [
      "epoch    1 | train loss 0.0001 | validation loss 0.0057 | train top1acc 99.6820 | validation top1acc 71.1100 | train top5acc 100.0000 | validation top5acc 89.6500\n"
     ]
    },
    {
     "name": "stderr",
     "output_type": "stream",
     "text": [
      "100%|██████████| 40/40 [00:35<00:00,  1.13it/s]\n",
      "  6%|▌         | 3/50 [27:48<7:15:00, 555.33s/it]"
     ]
    },
    {
     "name": "stdout",
     "output_type": "stream",
     "text": [
      "epoch    2 | train loss 0.0000 | validation loss 0.0057 | train top1acc 99.7740 | validation top1acc 71.0600 | train top5acc 100.0000 | validation top5acc 89.8000\n"
     ]
    },
    {
     "name": "stderr",
     "output_type": "stream",
     "text": [
      "100%|██████████| 40/40 [00:35<00:00,  1.13it/s]\n",
      "  8%|▊         | 4/50 [37:01<7:05:05, 554.46s/it]"
     ]
    },
    {
     "name": "stdout",
     "output_type": "stream",
     "text": [
      "epoch    3 | train loss 0.0000 | validation loss 0.0057 | train top1acc 99.8960 | validation top1acc 72.1000 | train top5acc 99.9980 | validation top5acc 90.1900\n"
     ]
    },
    {
     "name": "stderr",
     "output_type": "stream",
     "text": [
      "100%|██████████| 40/40 [00:35<00:00,  1.13it/s]\n",
      " 10%|█         | 5/50 [46:12<6:54:45, 553.02s/it]"
     ]
    },
    {
     "name": "stdout",
     "output_type": "stream",
     "text": [
      "epoch    4 | train loss 0.0000 | validation loss 0.0058 | train top1acc 99.9080 | validation top1acc 71.9400 | train top5acc 100.0000 | validation top5acc 89.6500\n"
     ]
    },
    {
     "name": "stderr",
     "output_type": "stream",
     "text": [
      "100%|██████████| 40/40 [00:35<00:00,  1.12it/s]\n",
      " 12%|█▏        | 6/50 [55:24<6:45:29, 552.94s/it]"
     ]
    },
    {
     "name": "stdout",
     "output_type": "stream",
     "text": [
      "epoch    5 | train loss 0.0000 | validation loss 0.0057 | train top1acc 99.9680 | validation top1acc 72.2300 | train top5acc 100.0000 | validation top5acc 90.2300\n"
     ]
    },
    {
     "name": "stderr",
     "output_type": "stream",
     "text": [
      "100%|██████████| 40/40 [00:35<00:00,  1.14it/s]\n",
      " 14%|█▍        | 7/50 [1:04:37<6:36:15, 552.92s/it]"
     ]
    },
    {
     "name": "stdout",
     "output_type": "stream",
     "text": [
      "epoch    6 | train loss 0.0000 | validation loss 0.0056 | train top1acc 99.9700 | validation top1acc 72.4500 | train top5acc 100.0000 | validation top5acc 90.1900\n"
     ]
    },
    {
     "name": "stderr",
     "output_type": "stream",
     "text": [
      "100%|██████████| 40/40 [00:35<00:00,  1.13it/s]\n",
      " 14%|█▍        | 7/50 [1:13:47<7:33:20, 632.57s/it]\n"
     ]
    },
    {
     "name": "stdout",
     "output_type": "stream",
     "text": [
      "epoch    7 | train loss 0.0000 | validation loss 0.0057 | train top1acc 99.9760 | validation top1acc 72.2900 | train top5acc 100.0000 | validation top5acc 89.9000\n",
      "Stopping Training of Sequential with at 0 epoch with best validation_loss = 0.00564540596678853\n"
     ]
    },
    {
     "name": "stderr",
     "output_type": "stream",
     "text": [
      "100%|██████████| 40/40 [00:35<00:00,  1.14it/s]\n"
     ]
    },
    {
     "name": "stdout",
     "output_type": "stream",
     "text": [
      "After training, sparsity = 0.3 acc1 = 72.29% acc5 = 89.90% size =   12.5358\n"
     ]
    }
   ],
   "source": [
    "b = 4\n",
    "compression_config = {\n",
    "\"quantize\" : {\n",
    "    \"scheme\" : QuantizationScheme.DYNAMIC,\n",
    "    \"granularity\": QuantizationGranularity.PER_TENSOR,\n",
    "    \"bitwidth\" : b\n",
    "}\n",
    "}\n",
    "compressed_vgg_13_dmc_model = vgg_13_dmc_model.init_compress(compression_config, input_shape=input_shape)\n",
    "\n",
    "evaluate_result = compressed_vgg_13_dmc_model.evaluate(cifar100_test_loader, metrics, device=DEVICE)\n",
    "size = compressed_vgg_13_dmc_model.get_size_in_bytes()\n",
    "print(f\"Before training, sparsity = {sp} acc1 = {evaluate_result[\"top1acc\"]:.2f}% acc5 = {evaluate_result[\"top5acc\"]:.2f}% size = {size/original_size*100:9.4f}\")\n",
    "\n",
    "criterion_fun = nn.CrossEntropyLoss()\n",
    "optimizion_fun = optim.SGD(compressed_vgg_13_dmc_model.parameters(), lr=1e-3, momentum=0.9, weight_decay=5e-4)\n",
    "lr_scheduler = optim.lr_scheduler.ReduceLROnPlateau(optimizion_fun, mode=\"min\", patience=3)\n",
    "\n",
    "early_stopper = EarlyStopper(\n",
    "    metric_name=\"validation_loss\",\n",
    "    min_valid_diff=1e-5,\n",
    "    mode=\"min\",\n",
    "    patience=7,\n",
    "    restore_best_state_dict=True,\n",
    ")\n",
    "\n",
    "compressed_vgg_13_dmc_model.fit(\n",
    "    cifar100_train_loader, \n",
    "    50,\n",
    "    criterion_fun, optimizion_fun, lr_scheduler,\n",
    "    validation_dataloader=cifar100_test_loader,\n",
    "    metrics=metrics,\n",
    "    verbose=True, \n",
    "    callbacks=[early_stopper]\n",
    ")\n",
    "\n",
    "evaluate_result = compressed_vgg_13_dmc_model.evaluate(cifar100_test_loader, metrics, device=DEVICE)\n",
    "print(f\"After training, sparsity = {sp} acc1 = {evaluate_result[\"top1acc\"]:.2f}% acc5 = {evaluate_result[\"top5acc\"]:.2f}% size = {size/original_size*100:9.4f}\")\n"
   ]
  },
  {
   "cell_type": "code",
   "execution_count": null,
   "id": "97f8843a",
   "metadata": {},
   "outputs": [],
   "source": []
  },
  {
   "cell_type": "code",
   "execution_count": null,
   "id": "1684f26e",
   "metadata": {},
   "outputs": [],
   "source": []
  }
 ],
 "metadata": {
  "kernelspec": {
   "display_name": ".venv",
   "language": "python",
   "name": "python3"
  },
  "language_info": {
   "codemirror_mode": {
    "name": "ipython",
    "version": 3
   },
   "file_extension": ".py",
   "mimetype": "text/x-python",
   "name": "python",
   "nbconvert_exporter": "python",
   "pygments_lexer": "ipython3",
   "version": "3.12.3"
  }
 },
 "nbformat": 4,
 "nbformat_minor": 5
}
