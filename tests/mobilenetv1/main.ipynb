{
 "cells": [
  {
   "cell_type": "code",
   "execution_count": 1,
   "id": "ec1ccebb",
   "metadata": {},
   "outputs": [],
   "source": [
    "import sys\n",
    "import copy\n",
    "\n",
    "import torch\n",
    "from torch import nn, optim\n",
    "from torch.utils import data\n",
    "from torchvision import datasets, transforms"
   ]
  },
  {
   "cell_type": "code",
   "execution_count": 2,
   "id": "8dfb0413",
   "metadata": {},
   "outputs": [
    {
     "name": "stderr",
     "output_type": "stream",
     "text": [
      "/home/matthias/Documents/EmbeddedAI/deep-microcompression/.venv/lib/python3.12/site-packages/tqdm/auto.py:21: TqdmWarning: IProgress not found. Please update jupyter and ipywidgets. See https://ipywidgets.readthedocs.io/en/stable/user_install.html\n",
      "  from .autonotebook import tqdm as notebook_tqdm\n"
     ]
    }
   ],
   "source": [
    "# sys.path.append(\"/home/matthias/Documents/EmbeddedAI/deep-microcompression/\")\n",
    "sys.path.append(\"../../\")\n",
    "\n",
    "from development import (\n",
    "    Sequential,\n",
    "    BatchNorm2d,\n",
    "    Conv2d,\n",
    "    Linear,\n",
    "    ReLU,\n",
    "    MaxPool2d,\n",
    "    Flatten\n",
    ")"
   ]
  },
  {
   "cell_type": "code",
   "execution_count": 3,
   "id": "8fb51357",
   "metadata": {},
   "outputs": [],
   "source": [
    "DEVICE = \"cuda\" if torch.cuda.is_available() else \"cpu\"\n",
    "mobilenetv1_file = f\"mobilenetv1_state_dict_{DEVICE}.pth\"\n",
    "\n",
    "LUCKY_NUMBER = 25\n",
    "torch.manual_seed(LUCKY_NUMBER)\n",
    "torch.random.manual_seed(LUCKY_NUMBER)\n",
    "torch.cuda.manual_seed(LUCKY_NUMBER)\n"
   ]
  },
  {
   "cell_type": "code",
   "execution_count": 4,
   "id": "84fd87ac",
   "metadata": {},
   "outputs": [
    {
     "data": {
      "text/plain": [
       "'cuda'"
      ]
     },
     "execution_count": 4,
     "metadata": {},
     "output_type": "execute_result"
    }
   ],
   "source": [
    "DEVICE"
   ]
  },
  {
   "cell_type": "code",
   "execution_count": 5,
   "id": "908c6129",
   "metadata": {},
   "outputs": [],
   "source": [
    "data_transform = transforms.Compose([\n",
    "    # transforms.RandomCrop((24, 24)),\n",
    "    # transforms.Resize((32, 32)),\n",
    "    transforms.ToTensor(),\n",
    "])\n",
    "\n",
    "cifar10_train_dataset = datasets.CIFAR10(\"./datasets\", train=True, download=True, transform=data_transform)\n",
    "cifar10_test_dataset = datasets.CIFAR10(\"./datasets\", train=False, download=True, transform=data_transform)\n",
    "\n",
    "cifar10_train_loader = data.DataLoader(cifar10_train_dataset, batch_size=32, shuffle=True)\n",
    "cifar10_test_loader = data.DataLoader(cifar10_test_dataset, batch_size=32)\n",
    "\n",
    "cifar100_train_dataset = datasets.CIFAR100(\"./datasets\", train=True, download=True, transform=data_transform)\n",
    "cifar100_test_dataset = datasets.CIFAR100(\"./datasets\", train=False, download=True, transform=data_transform)\n",
    "\n",
    "cifar100_train_loader = data.DataLoader(cifar100_train_dataset, batch_size=32, shuffle=True)\n",
    "cifar100_test_loader = data.DataLoader(cifar100_test_dataset, batch_size=32)\n"
   ]
  },
  {
   "cell_type": "code",
   "execution_count": 6,
   "id": "85580195",
   "metadata": {},
   "outputs": [],
   "source": [
    "def ConvBatchReLU(\n",
    "        in_channels:int,\n",
    "        out_channels:int,\n",
    "        kernel_size:int,\n",
    "        stride:int = 1,\n",
    "        padding:int = 0,\n",
    "        groups:int = 1,\n",
    "):\n",
    "    return (Conv2d(in_channels=in_channels, out_channels=out_channels, kernel_size=kernel_size, stride=stride, groups=groups, padding=padding),\n",
    "            BatchNorm2d(num_features=out_channels),\n",
    "            ReLU())"
   ]
  },
  {
   "cell_type": "code",
   "execution_count": 7,
   "id": "123a1a2b",
   "metadata": {},
   "outputs": [],
   "source": [
    "def DeepWiseSeperableConv2d(\n",
    "        in_channels:int,\n",
    "        out_channels:int,\n",
    "        kernel_size:int,\n",
    "        stride:int,\n",
    "        padding:int,\n",
    "):\n",
    "    return (\n",
    "        *ConvBatchReLU(in_channels=in_channels, out_channels=in_channels, kernel_size=kernel_size, stride=stride, padding=padding,  groups=in_channels),\n",
    "        *ConvBatchReLU(in_channels=in_channels, out_channels=out_channels, kernel_size=1, stride=1, padding=0, groups=1)\n",
    "    )"
   ]
  },
  {
   "cell_type": "code",
   "execution_count": 8,
   "id": "91070989",
   "metadata": {},
   "outputs": [],
   "source": [
    "mobilenetv1_model = Sequential(\n",
    "    *ConvBatchReLU(in_channels=3, out_channels=32, kernel_size=3, stride=2, padding=0),\n",
    "    *ConvBatchReLU(in_channels=32, out_channels=64, kernel_size=3, stride=1, padding=0),\n",
    "    *DeepWiseSeperableConv2d(in_channels=64, out_channels=64, kernel_size=3, stride=1, padding=0),\n",
    "    *DeepWiseSeperableConv2d(in_channels=64, out_channels=64, kernel_size=3, stride=1, padding=0),\n",
    "    *DeepWiseSeperableConv2d(in_channels=64, out_channels=64, kernel_size=3, stride=1, padding=0),\n",
    "    *DeepWiseSeperableConv2d(in_channels=64, out_channels=16, kernel_size=3, stride=1, padding=0),\n",
    "    Flatten(),\n",
    "    Linear(in_features= 16*5*5, out_features=10)\n",
    ").to(DEVICE)\n",
    "\n",
    "top1_acc_fun = lambda y_pred, y_true: (y_pred.argmax(dim=1) == y_true).sum().item()\n",
    "# top5_acc_fun = lambda y_pred, y_true: (y_true in (y_pred.topk(dim=1))).sum().item()"
   ]
  },
  {
   "cell_type": "code",
   "execution_count": 9,
   "id": "1abbfeeb",
   "metadata": {},
   "outputs": [
    {
     "name": "stderr",
     "output_type": "stream",
     "text": [
      "100%|██████████| 313/313 [00:03<00:00, 93.86it/s] \n"
     ]
    },
    {
     "data": {
      "text/plain": [
       "0.4692"
      ]
     },
     "execution_count": 9,
     "metadata": {},
     "output_type": "execute_result"
    }
   ],
   "source": [
    "try:\n",
    "    # raise RuntimeError\n",
    "    mobilenetv1_model.load_state_dict(torch.load(mobilenetv1_file, weights_only=True))\n",
    "    \n",
    "except (RuntimeError, FileNotFoundError, RuntimeError) as e:\n",
    "    \n",
    "    criterion_fun = nn.CrossEntropyLoss()\n",
    "    optimizion_fun = optim.Adam(mobilenetv1_model.parameters(), lr=1.e-3)\n",
    "    lr_scheduler = optim.lr_scheduler.ReduceLROnPlateau(optimizion_fun, mode=\"min\", patience=2, factor=.1)\n",
    "\n",
    "    mobilenetv1_model.fit(\n",
    "        cifar10_train_loader, 1, \n",
    "        criterion_fun, optimizion_fun, lr_scheduler,\n",
    "        validation_dataloader=cifar10_test_loader, \n",
    "        metrics={\"top1_acc\" : top1_acc_fun},\n",
    "        device=DEVICE,\n",
    "    )\n",
    "    torch.save(mobilenetv1_model.state_dict(), mobilenetv1_file)\n",
    "    \n",
    "mobilenetv1_model.evaluate(cifar10_test_loader, top1_acc_fun, device=DEVICE)"
   ]
  },
  {
   "cell_type": "code",
   "execution_count": 10,
   "id": "d2b496c1",
   "metadata": {},
   "outputs": [
    {
     "data": {
      "text/plain": [
       "tensor([[-1.7732, -2.4490,  0.4521,  0.2767,  0.4370,  0.2624, -1.9979,  1.0788,\n",
       "         -3.4145, -1.5809]], device='cuda:0')"
      ]
     },
     "execution_count": 10,
     "metadata": {},
     "output_type": "execute_result"
    }
   ],
   "source": [
    "mobilenetv1_model.convert_to_c(var_name=\"mobilenetv1_mcu_model\", src_dir=\"./HP HP Pavilion Laptop 15-cs3xxx/src/\", include_dir=\"./HP HP Pavilion Laptop 15-cs3xxx/include/\")\n",
    "mobilenetv1_model.to(DEVICE)\n",
    "mobilenetv1_model.test(DEVICE)"
   ]
  },
  {
   "cell_type": "code",
   "execution_count": 11,
   "id": "6341981f",
   "metadata": {},
   "outputs": [
    {
     "data": {
      "text/plain": [
       "Sequential(\n",
       "  (conv2d_0): Conv2d(3, 32, kernel_size=(3, 3), stride=(2, 2))\n",
       "  (batchnorm2d_0): BatchNorm2d(32, eps=1e-05, momentum=0.1, affine=True, track_running_stats=True)\n",
       "  (relu_0): ReLU()\n",
       "  (conv2d_1): Conv2d(32, 64, kernel_size=(3, 3), stride=(1, 1))\n",
       "  (batchnorm2d_1): BatchNorm2d(64, eps=1e-05, momentum=0.1, affine=True, track_running_stats=True)\n",
       "  (relu_1): ReLU()\n",
       "  (conv2d_2): Conv2d(64, 64, kernel_size=(3, 3), stride=(1, 1), groups=64)\n",
       "  (batchnorm2d_2): BatchNorm2d(64, eps=1e-05, momentum=0.1, affine=True, track_running_stats=True)\n",
       "  (relu_2): ReLU()\n",
       "  (conv2d_3): Conv2d(64, 64, kernel_size=(1, 1), stride=(1, 1))\n",
       "  (batchnorm2d_3): BatchNorm2d(64, eps=1e-05, momentum=0.1, affine=True, track_running_stats=True)\n",
       "  (relu_3): ReLU()\n",
       "  (conv2d_4): Conv2d(64, 64, kernel_size=(3, 3), stride=(1, 1), groups=64)\n",
       "  (batchnorm2d_4): BatchNorm2d(64, eps=1e-05, momentum=0.1, affine=True, track_running_stats=True)\n",
       "  (relu_4): ReLU()\n",
       "  (conv2d_5): Conv2d(64, 64, kernel_size=(1, 1), stride=(1, 1))\n",
       "  (batchnorm2d_5): BatchNorm2d(64, eps=1e-05, momentum=0.1, affine=True, track_running_stats=True)\n",
       "  (relu_5): ReLU()\n",
       "  (conv2d_6): Conv2d(64, 64, kernel_size=(3, 3), stride=(1, 1), groups=64)\n",
       "  (batchnorm2d_6): BatchNorm2d(64, eps=1e-05, momentum=0.1, affine=True, track_running_stats=True)\n",
       "  (relu_6): ReLU()\n",
       "  (conv2d_7): Conv2d(64, 64, kernel_size=(1, 1), stride=(1, 1))\n",
       "  (batchnorm2d_7): BatchNorm2d(64, eps=1e-05, momentum=0.1, affine=True, track_running_stats=True)\n",
       "  (relu_7): ReLU()\n",
       "  (conv2d_8): Conv2d(64, 64, kernel_size=(3, 3), stride=(1, 1), groups=64)\n",
       "  (batchnorm2d_8): BatchNorm2d(64, eps=1e-05, momentum=0.1, affine=True, track_running_stats=True)\n",
       "  (relu_8): ReLU()\n",
       "  (conv2d_9): Conv2d(64, 16, kernel_size=(1, 1), stride=(1, 1))\n",
       "  (batchnorm2d_9): BatchNorm2d(16, eps=1e-05, momentum=0.1, affine=True, track_running_stats=True)\n",
       "  (relu_9): ReLU()\n",
       "  (flatten_0): Flatten(start_dim=1, end_dim=-1)\n",
       "  (linear_0): Linear(in_features=400, out_features=10, bias=True)\n",
       ")"
      ]
     },
     "execution_count": 11,
     "metadata": {},
     "output_type": "execute_result"
    }
   ],
   "source": [
    "mobilenetv1_model.cpu()"
   ]
  },
  {
   "cell_type": "markdown",
   "id": "19e00b6a",
   "metadata": {},
   "source": [
    "## Prunning"
   ]
  },
  {
   "cell_type": "code",
   "execution_count": 12,
   "id": "12e17f17",
   "metadata": {},
   "outputs": [
    {
     "name": "stderr",
     "output_type": "stream",
     "text": [
      "100%|██████████| 313/313 [00:03<00:00, 94.01it/s] \n"
     ]
    },
    {
     "name": "stdout",
     "output_type": "stream",
     "text": [
      "Pruned with 0.34, acc = 0.1665\n"
     ]
    },
    {
     "data": {
      "text/plain": [
       "tensor([[-1.4526, -2.7972,  0.7867,  1.6661,  0.2931,  0.6367,  1.9935, -1.4532,\n",
       "         -1.7374, -3.2327]], device='cuda:0')"
      ]
     },
     "execution_count": 12,
     "metadata": {},
     "output_type": "execute_result"
    }
   ],
   "source": [
    "sparsity = .34\n",
    "\n",
    "mobilenetv1_model.cpu()\n",
    "mobilenetv1_mcu_model = mobilenetv1_model.prune_channel(sparsity)\n",
    "\n",
    "mobilenetv1_mcu_model.to(DEVICE)\n",
    "print(f\"Pruned with {sparsity}, acc = {mobilenetv1_mcu_model.evaluate(cifar10_test_loader, top1_acc_fun, device=DEVICE)}\")\n",
    "\n",
    "mobilenetv1_mcu_model.cpu()\n",
    "mobilenetv1_mcu_model.convert_to_c(var_name=\"mobilenetv1_mcu_model\", src_dir=\"./HP HP Pavilion Laptop 15-cs3xxx/src/\", include_dir=\"./HP HP Pavilion Laptop 15-cs3xxx/include/\")\n",
    "\n",
    "mobilenetv1_mcu_model.to(DEVICE)\n",
    "mobilenetv1_mcu_model.test(DEVICE)"
   ]
  },
  {
   "cell_type": "code",
   "execution_count": 13,
   "id": "e7cad936",
   "metadata": {},
   "outputs": [
    {
     "data": {
      "text/plain": [
       "Sequential(\n",
       "  (conv2d_0): Conv2d(3, 32, kernel_size=(3, 3), stride=(2, 2))\n",
       "  (batchnorm2d_0): BatchNorm2d(32, eps=1e-05, momentum=0.1, affine=True, track_running_stats=True)\n",
       "  (relu_0): ReLU()\n",
       "  (conv2d_1): Conv2d(32, 64, kernel_size=(3, 3), stride=(1, 1))\n",
       "  (batchnorm2d_1): BatchNorm2d(64, eps=1e-05, momentum=0.1, affine=True, track_running_stats=True)\n",
       "  (relu_1): ReLU()\n",
       "  (conv2d_2): Conv2d(64, 64, kernel_size=(3, 3), stride=(1, 1), groups=64)\n",
       "  (batchnorm2d_2): BatchNorm2d(64, eps=1e-05, momentum=0.1, affine=True, track_running_stats=True)\n",
       "  (relu_2): ReLU()\n",
       "  (conv2d_3): Conv2d(64, 64, kernel_size=(1, 1), stride=(1, 1))\n",
       "  (batchnorm2d_3): BatchNorm2d(64, eps=1e-05, momentum=0.1, affine=True, track_running_stats=True)\n",
       "  (relu_3): ReLU()\n",
       "  (conv2d_4): Conv2d(64, 64, kernel_size=(3, 3), stride=(1, 1), groups=64)\n",
       "  (batchnorm2d_4): BatchNorm2d(64, eps=1e-05, momentum=0.1, affine=True, track_running_stats=True)\n",
       "  (relu_4): ReLU()\n",
       "  (conv2d_5): Conv2d(64, 64, kernel_size=(1, 1), stride=(1, 1))\n",
       "  (batchnorm2d_5): BatchNorm2d(64, eps=1e-05, momentum=0.1, affine=True, track_running_stats=True)\n",
       "  (relu_5): ReLU()\n",
       "  (conv2d_6): Conv2d(64, 64, kernel_size=(3, 3), stride=(1, 1), groups=64)\n",
       "  (batchnorm2d_6): BatchNorm2d(64, eps=1e-05, momentum=0.1, affine=True, track_running_stats=True)\n",
       "  (relu_6): ReLU()\n",
       "  (conv2d_7): Conv2d(64, 64, kernel_size=(1, 1), stride=(1, 1))\n",
       "  (batchnorm2d_7): BatchNorm2d(64, eps=1e-05, momentum=0.1, affine=True, track_running_stats=True)\n",
       "  (relu_7): ReLU()\n",
       "  (conv2d_8): Conv2d(64, 64, kernel_size=(3, 3), stride=(1, 1), groups=64)\n",
       "  (batchnorm2d_8): BatchNorm2d(64, eps=1e-05, momentum=0.1, affine=True, track_running_stats=True)\n",
       "  (relu_8): ReLU()\n",
       "  (conv2d_9): Conv2d(64, 16, kernel_size=(1, 1), stride=(1, 1))\n",
       "  (batchnorm2d_9): BatchNorm2d(16, eps=1e-05, momentum=0.1, affine=True, track_running_stats=True)\n",
       "  (relu_9): ReLU()\n",
       "  (flatten_0): Flatten(start_dim=1, end_dim=-1)\n",
       "  (linear_0): Linear(in_features=400, out_features=10, bias=True)\n",
       ")"
      ]
     },
     "execution_count": 13,
     "metadata": {},
     "output_type": "execute_result"
    }
   ],
   "source": [
    "mobilenetv1_mcu_model.cpu()"
   ]
  },
  {
   "cell_type": "code",
   "execution_count": 14,
   "id": "6b9256f6",
   "metadata": {},
   "outputs": [
    {
     "data": {
      "text/plain": [
       "torch.Size([1, 3, 32, 32])"
      ]
     },
     "execution_count": 14,
     "metadata": {},
     "output_type": "execute_result"
    }
   ],
   "source": [
    "test_input = mobilenetv1_mcu_model.test_input.clone()\n",
    "test_input.shape"
   ]
  },
  {
   "cell_type": "code",
   "execution_count": 15,
   "id": "0edb12c8",
   "metadata": {},
   "outputs": [
    {
     "ename": "NameError",
     "evalue": "name 'conv_0_weight' is not defined",
     "output_type": "error",
     "traceback": [
      "\u001b[31m---------------------------------------------------------------------------\u001b[39m",
      "\u001b[31mNameError\u001b[39m                                 Traceback (most recent call last)",
      "\u001b[36mCell\u001b[39m\u001b[36m \u001b[39m\u001b[32mIn[15]\u001b[39m\u001b[32m, line 1\u001b[39m\n\u001b[32m----> \u001b[39m\u001b[32m1\u001b[39m torch.mul(test_input[\u001b[32m0\u001b[39m, \u001b[32m0\u001b[39m, :\u001b[32m3\u001b[39m, :\u001b[32m3\u001b[39m], \u001b[43mconv_0_weight\u001b[49m[\u001b[32m0\u001b[39m, \u001b[32m0\u001b[39m, :, :])\n",
      "\u001b[31mNameError\u001b[39m: name 'conv_0_weight' is not defined"
     ]
    }
   ],
   "source": [
    "torch.mul(test_input[0, 0, :3, :3], conv_0_weight[0, 0, :, :])"
   ]
  },
  {
   "cell_type": "code",
   "execution_count": null,
   "id": "c9f47f65",
   "metadata": {},
   "outputs": [
    {
     "name": "stdout",
     "output_type": "stream",
     "text": [
      "\n",
      "prev  tensor([0, 1, 2])\n",
      "current  tensor([0, 3])\n"
     ]
    }
   ],
   "source": [
    "conv = mobilenetv1_mcu_model[0]\n",
    "conv_0_weight, conv_01_bias = conv.get_compression_parameters()"
   ]
  },
  {
   "cell_type": "code",
   "execution_count": null,
   "id": "d3e594c4",
   "metadata": {},
   "outputs": [
    {
     "data": {
      "text/plain": [
       "tensor([[[[-0.2533, -0.2824, -0.2574, -0.1810, -0.2239, -0.2670],\n",
       "          [-0.3305, -0.3295, -0.3087, -0.2380, -0.2280, -0.2843],\n",
       "          [-0.2637, -0.4784, -0.3115, -0.2665, -0.1900, -0.1550],\n",
       "          [-0.3471, -0.3795, -0.5152, -0.2797, -0.4471, -0.4776],\n",
       "          [-0.3192, -0.3125, -0.4427, -0.2451, -0.3010, -0.4832],\n",
       "          [-0.3074, -0.3045, -0.3776, -0.1619, -0.2142, -0.3204]],\n",
       "\n",
       "         [[-0.1799, -0.2380, -0.2670, -0.4844, -0.3505, -0.2095],\n",
       "          [-0.5141, -0.5323, -0.5396, -0.1620, -0.4902, -0.4292],\n",
       "          [-0.6067, -0.7609, -0.5807, -0.2428, -0.3661, -0.4772],\n",
       "          [-0.6538, -0.6226, -0.8619, -0.3631, -0.3921, -0.7202],\n",
       "          [-0.8195, -0.8020, -0.5469, -0.5109, -0.7914, -0.5722],\n",
       "          [-0.7686, -0.7674, -0.6896, -0.3620, -0.5315, -0.4710]]]])"
      ]
     },
     "execution_count": 22,
     "metadata": {},
     "output_type": "execute_result"
    }
   ],
   "source": [
    "    # *ConvBatchReLU(in_channels=3, out_channels=4, kernel_size=3, stride=5, padding=0),\n",
    "nn.functional.conv2d(test_input, conv_0_weight, conv_01_bias, stride=5, padding=0, groups=1)"
   ]
  },
  {
   "cell_type": "code",
   "execution_count": null,
   "id": "895d97a3",
   "metadata": {},
   "outputs": [],
   "source": [
    "\n",
    "# criterion_fun = nn.CrossEntropyLoss()\n",
    "# optimizion_fun = optim.Adam(mobilenetv1_mcu_model.parameters(), lr=1.e-3)\n",
    "# lr_scheduler = optim.lr_scheduler.ReduceLROnPlateau(optimizion_fun, mode=\"min\", patience=2)\n",
    "\n",
    "# mobilenetv1_mcu_model.fit(\n",
    "#     cifar10_train_loader, 15, \n",
    "#     criterion_fun, optimizion_fun, lr_scheduler,\n",
    "#     validation_dataloader=cifar10_test_loader, \n",
    "#     metrics={\"top1_acc\" : top1_acc_fun},\n",
    "#     device=DEVICE,\n",
    "# )"
   ]
  }
 ],
 "metadata": {
  "kernelspec": {
   "display_name": ".venv",
   "language": "python",
   "name": "python3"
  },
  "language_info": {
   "codemirror_mode": {
    "name": "ipython",
    "version": 3
   },
   "file_extension": ".py",
   "mimetype": "text/x-python",
   "name": "python",
   "nbconvert_exporter": "python",
   "pygments_lexer": "ipython3",
   "version": "3.12.3"
  }
 },
 "nbformat": 4,
 "nbformat_minor": 5
}
