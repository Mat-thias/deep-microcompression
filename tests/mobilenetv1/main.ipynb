{
 "cells": [
  {
   "cell_type": "code",
   "execution_count": 1,
   "id": "ec1ccebb",
   "metadata": {},
   "outputs": [],
   "source": [
    "import sys\n",
    "import copy\n",
    "\n",
    "import torch\n",
    "from torch import nn, optim\n",
    "from torch.utils import data\n",
    "from torchvision import datasets, transforms"
   ]
  },
  {
   "cell_type": "code",
   "execution_count": 2,
   "id": "8dfb0413",
   "metadata": {},
   "outputs": [
    {
     "name": "stderr",
     "output_type": "stream",
     "text": [
      "/home/matthias/Documents/EmbeddedAI/deep-microcompression/.venv/lib/python3.12/site-packages/tqdm/auto.py:21: TqdmWarning: IProgress not found. Please update jupyter and ipywidgets. See https://ipywidgets.readthedocs.io/en/stable/user_install.html\n",
      "  from .autonotebook import tqdm as notebook_tqdm\n"
     ]
    }
   ],
   "source": [
    "# sys.path.append(\"/home/matthias/Documents/EmbeddedAI/deep-microcompression/\")\n",
    "sys.path.append(\"../../\")\n",
    "\n",
    "from development import (\n",
    "    Sequential,\n",
    "    BatchNorm2d,\n",
    "    Conv2d,\n",
    "    Linear,\n",
    "    ReLU,\n",
    "    MaxPool2d,\n",
    "    Flatten\n",
    ")"
   ]
  },
  {
   "cell_type": "code",
   "execution_count": 3,
   "id": "8fb51357",
   "metadata": {},
   "outputs": [],
   "source": [
    "DEVICE = \"cuda\" if torch.cuda.is_available() else \"cpu\"\n",
    "mobilenetv1_file = f\"mobilenetv1_state_dict_{DEVICE}.pth\"\n",
    "\n",
    "LUCKY_NUMBER = 25\n",
    "torch.manual_seed(LUCKY_NUMBER)\n",
    "torch.random.manual_seed(LUCKY_NUMBER)\n",
    "torch.cuda.manual_seed(LUCKY_NUMBER)\n"
   ]
  },
  {
   "cell_type": "code",
   "execution_count": 4,
   "id": "84fd87ac",
   "metadata": {},
   "outputs": [
    {
     "data": {
      "text/plain": [
       "'cuda'"
      ]
     },
     "execution_count": 4,
     "metadata": {},
     "output_type": "execute_result"
    }
   ],
   "source": [
    "DEVICE"
   ]
  },
  {
   "cell_type": "code",
   "execution_count": 5,
   "id": "908c6129",
   "metadata": {},
   "outputs": [],
   "source": [
    "data_transform = transforms.Compose([\n",
    "    # transforms.RandomCrop((24, 24)),\n",
    "    # transforms.Resize((32, 32)),\n",
    "    transforms.ToTensor(),\n",
    "])\n",
    "\n",
    "cifar10_train_dataset = datasets.CIFAR10(\"./datasets\", train=True, download=True, transform=data_transform)\n",
    "cifar10_test_dataset = datasets.CIFAR10(\"./datasets\", train=False, download=True, transform=data_transform)\n",
    "\n",
    "cifar10_train_loader = data.DataLoader(cifar10_train_dataset, batch_size=32, shuffle=True)\n",
    "cifar10_test_loader = data.DataLoader(cifar10_test_dataset, batch_size=32)\n",
    "\n",
    "cifar100_train_dataset = datasets.CIFAR100(\"./datasets\", train=True, download=True, transform=data_transform)\n",
    "cifar100_test_dataset = datasets.CIFAR100(\"./datasets\", train=False, download=True, transform=data_transform)\n",
    "\n",
    "cifar100_train_loader = data.DataLoader(cifar100_train_dataset, batch_size=32, shuffle=True)\n",
    "cifar100_test_loader = data.DataLoader(cifar100_test_dataset, batch_size=32)\n"
   ]
  },
  {
   "cell_type": "code",
   "execution_count": 6,
   "id": "123a1a2b",
   "metadata": {},
   "outputs": [],
   "source": [
    "def DeepWiseSeperableConv2d(\n",
    "        in_channel:int,\n",
    "        out_channels:int,\n",
    "        kernel_size:int,\n",
    "        stride:int,\n",
    "        padding:int,\n",
    "):\n",
    "    return (Conv2d(in_channels=in_channel, out_channels=in_channel, kernel_size=kernel_size, stride=stride, groups=in_channel, padding=padding),\n",
    "            BatchNorm2d(num_features=in_channel),\n",
    "            ReLU(),\n",
    "            Conv2d(in_channels=in_channel, out_channels=out_channels, kernel_size=1, stride=1, padding=0),\n",
    "            BatchNorm2d(num_features=out_channels),\n",
    "            ReLU())"
   ]
  },
  {
   "cell_type": "code",
   "execution_count": 7,
   "id": "91070989",
   "metadata": {},
   "outputs": [],
   "source": [
    "mobilenetv1_model = Sequential(\n",
    "    Conv2d(in_channels=3, out_channels=32, kernel_size=3, stride=2, padding=0),\n",
    "    BatchNorm2d(num_features=32),\n",
    "    ReLU(),\n",
    "    *DeepWiseSeperableConv2d(in_channel=32, out_channels=32, kernel_size=3, stride=1, padding=0),\n",
    "    *DeepWiseSeperableConv2d(in_channel=32, out_channels=32, kernel_size=3, stride=1, padding=0),\n",
    "    *DeepWiseSeperableConv2d(in_channel=32, out_channels=32, kernel_size=3, stride=2, padding=0),\n",
    "    Flatten(),\n",
    "    Linear(in_features= 32*5*5, out_features=10)\n",
    ").to(DEVICE)\n",
    "\n",
    "top1_acc_fun = lambda y_pred, y_true: (y_pred.argmax(dim=1) == y_true).sum().item()\n",
    "# top5_acc_fun = lambda y_pred, y_true: (y_true in (y_pred.topk(dim=1))).sum().item()"
   ]
  },
  {
   "cell_type": "code",
   "execution_count": null,
   "id": "1abbfeeb",
   "metadata": {},
   "outputs": [
    {
     "name": "stderr",
     "output_type": "stream",
     "text": [
      "  0%|          | 0/150 [00:00<?, ?it/s]"
     ]
    },
    {
     "name": "stderr",
     "output_type": "stream",
     "text": [
      "  1%|          | 1/150 [00:31<1:18:49, 31.74s/it]"
     ]
    },
    {
     "name": "stdout",
     "output_type": "stream",
     "text": [
      "epoch    0 | train loss 0.0465 | validation loss 0.0404 | train acc 0.4604 | validation acc 0.5335\n"
     ]
    },
    {
     "name": "stderr",
     "output_type": "stream",
     "text": [
      "  1%|▏         | 2/150 [01:03<1:18:03, 31.65s/it]"
     ]
    },
    {
     "name": "stdout",
     "output_type": "stream",
     "text": [
      "epoch    1 | train loss 0.0377 | validation loss 0.0370 | train acc 0.5728 | validation acc 0.5791\n"
     ]
    },
    {
     "name": "stderr",
     "output_type": "stream",
     "text": [
      "  2%|▏         | 3/150 [01:34<1:16:27, 31.21s/it]"
     ]
    },
    {
     "name": "stdout",
     "output_type": "stream",
     "text": [
      "epoch    2 | train loss 0.0339 | validation loss 0.0335 | train acc 0.6175 | validation acc 0.6172\n"
     ]
    },
    {
     "name": "stderr",
     "output_type": "stream",
     "text": [
      "  3%|▎         | 4/150 [02:04<1:15:20, 30.96s/it]"
     ]
    },
    {
     "name": "stdout",
     "output_type": "stream",
     "text": [
      "epoch    3 | train loss 0.0318 | validation loss 0.0319 | train acc 0.6417 | validation acc 0.6470\n"
     ]
    },
    {
     "name": "stderr",
     "output_type": "stream",
     "text": [
      "  3%|▎         | 5/150 [02:37<1:16:13, 31.54s/it]"
     ]
    },
    {
     "name": "stdout",
     "output_type": "stream",
     "text": [
      "epoch    4 | train loss 0.0300 | validation loss 0.0330 | train acc 0.6626 | validation acc 0.6293\n"
     ]
    },
    {
     "name": "stderr",
     "output_type": "stream",
     "text": [
      "  4%|▍         | 6/150 [03:10<1:17:17, 32.20s/it]"
     ]
    },
    {
     "name": "stdout",
     "output_type": "stream",
     "text": [
      "epoch    5 | train loss 0.0289 | validation loss 0.0300 | train acc 0.6766 | validation acc 0.6661\n"
     ]
    },
    {
     "name": "stderr",
     "output_type": "stream",
     "text": [
      "  5%|▍         | 7/150 [03:41<1:15:39, 31.75s/it]"
     ]
    },
    {
     "name": "stdout",
     "output_type": "stream",
     "text": [
      "epoch    6 | train loss 0.0280 | validation loss 0.0300 | train acc 0.6866 | validation acc 0.6602\n"
     ]
    },
    {
     "name": "stderr",
     "output_type": "stream",
     "text": [
      "  5%|▌         | 8/150 [04:11<1:14:12, 31.36s/it]"
     ]
    },
    {
     "name": "stdout",
     "output_type": "stream",
     "text": [
      "epoch    7 | train loss 0.0273 | validation loss 0.0292 | train acc 0.6926 | validation acc 0.6717\n"
     ]
    }
   ],
   "source": [
    "try:\n",
    "    # raise RuntimeError\n",
    "    mobilenetv1_model.load_state_dict(torch.load(mobilenetv1_file, weights_only=True))\n",
    "    \n",
    "except (RuntimeError, FileNotFoundError, RuntimeError) as e:\n",
    "    \n",
    "    criterion_fun = nn.CrossEntropyLoss()\n",
    "    optimizion_fun = optim.Adam(mobilenetv1_model.parameters(), lr=1.e-3)\n",
    "    lr_scheduler = optim.lr_scheduler.ReduceLROnPlateau(optimizion_fun, mode=\"min\", patience=2, factor=.1)\n",
    "\n",
    "    mobilenetv1_model.fit(\n",
    "        cifar10_train_loader, 150, \n",
    "        criterion_fun, optimizion_fun, lr_scheduler,\n",
    "        validation_dataloader=cifar10_test_loader, \n",
    "        metrics={\"top1_acc\" : top1_acc_fun},\n",
    "        device=DEVICE,\n",
    "    )\n",
    "    torch.save(mobilenetv1_model.state_dict(), mobilenetv1_file)\n",
    "    \n",
    "mobilenetv1_model.evaluate(cifar10_test_loader, top1_acc_fun, device=DEVICE)"
   ]
  },
  {
   "cell_type": "markdown",
   "id": "19e00b6a",
   "metadata": {},
   "source": [
    "## Prunning"
   ]
  },
  {
   "cell_type": "code",
   "execution_count": null,
   "id": "12e17f17",
   "metadata": {},
   "outputs": [],
   "source": [
    "sparsity = .5\n",
    "\n",
    "mobilenetv1_model.cpu()\n",
    "mobilenetv1_mcu_model = mobilenetv1_model.prune_channel(0.5)\n",
    "\n",
    "mobilenetv1_mcu_model.to(DEVICE)\n",
    "print(f\"Pruned with {sparsity}, acc = {mobilenetv1_mcu_model.evaluate(cifar10_test_loader, accuracy_fun, device=DEVICE)}\")\n",
    "\n",
    "criterion_fun = nn.CrossEntropyLoss()\n",
    "optimizion_fun = optim.Adam(mobilenetv1_mcu_model.parameters(), lr=1.e-3)\n",
    "lr_scheduler = optim.lr_scheduler.ReduceLROnPlateau(optimizion_fun, mode=\"min\", patience=2)\n",
    "\n",
    "mobilenetv1_mcu_model.fit(\n",
    "    cifar10_train_loader, 15, \n",
    "    criterion_fun, optimizion_fun, lr_scheduler,\n",
    "    validation_dataloader=cifar10_test_loader, \n",
    "    metrics={\"top1_acc\" : top1_acc_fun},\n",
    "    device=DEVICE,\n",
    ")"
   ]
  }
 ],
 "metadata": {
  "kernelspec": {
   "display_name": ".venv",
   "language": "python",
   "name": "python3"
  },
  "language_info": {
   "codemirror_mode": {
    "name": "ipython",
    "version": 3
   },
   "file_extension": ".py",
   "mimetype": "text/x-python",
   "name": "python",
   "nbconvert_exporter": "python",
   "pygments_lexer": "ipython3",
   "version": "3.12.3"
  }
 },
 "nbformat": 4,
 "nbformat_minor": 5
}
