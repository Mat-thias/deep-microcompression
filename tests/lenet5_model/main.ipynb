{
 "cells": [
  {
   "cell_type": "code",
   "execution_count": 1,
   "id": "8df77885",
   "metadata": {},
   "outputs": [
    {
     "name": "stderr",
     "output_type": "stream",
     "text": [
      "/home/matthias/Documents/EmbeddedAI/deep-microcompression/.venv/lib/python3.12/site-packages/tqdm/auto.py:21: TqdmWarning: IProgress not found. Please update jupyter and ipywidgets. See https://ipywidgets.readthedocs.io/en/stable/user_install.html\n",
      "  from .autonotebook import tqdm as notebook_tqdm\n"
     ]
    }
   ],
   "source": [
    "import sys\n",
    "# sys.path.append(\"/home/matthias/Documents/EmbeddedAI/deep-microcompression/\")\n",
    "sys.path.append(\"../../\")\n",
    "\n",
    "from development import (\n",
    "    Sequential,\n",
    "    AvgPool2d,\n",
    "    BatchNorm2d,\n",
    "    Conv2d,\n",
    "    Linear,\n",
    "    ReLU,\n",
    "    ReLU6,\n",
    "    MaxPool2d,\n",
    "    Flatten, \n",
    "\n",
    "    EarlyStopper,\n",
    "    dequantize_per_tensor_sy,\n",
    "    \n",
    "    QuantizationGranularity,\n",
    "    QuantizationScaleType,\n",
    "    QuantizationScheme\n",
    ")"
   ]
  },
  {
   "cell_type": "code",
   "execution_count": 2,
   "id": "b1bf3e58",
   "metadata": {},
   "outputs": [],
   "source": [
    "import sys\n",
    "import os\n",
    "import copy\n",
    "import random\n",
    "\n",
    "from tqdm.auto import tqdm\n",
    "\n",
    "import torch\n",
    "from torch import nn, optim\n",
    "from torch.utils import data\n",
    "from torchvision import datasets, transforms\n",
    "\n",
    "import matplotlib.pyplot as plt"
   ]
  },
  {
   "cell_type": "code",
   "execution_count": 3,
   "id": "090b93f0",
   "metadata": {},
   "outputs": [
    {
     "data": {
      "text/plain": [
       "'cuda'"
      ]
     },
     "execution_count": 3,
     "metadata": {},
     "output_type": "execute_result"
    }
   ],
   "source": [
    "DEVICE = \"cuda\" if torch.cuda.is_available() else \"cpu\"\n",
    "lenet5_file = f\"lenet5_state_dict.pth\"\n",
    "log_compression_details_file = \"lenet5_compression_log.csv\"\n",
    "\n",
    "hp_deployment_base_dir = \"./HP HP Pavilion Laptop 15-cs3xxx/\"\n",
    "hp_src_dir = os.path.join(hp_deployment_base_dir, \"src\")\n",
    "hp_include_dir = os.path.join(hp_deployment_base_dir, \"include\")\n",
    "\n",
    "arduino_deployment_base_dir = \"./Arduino Nano 33 BLE/\"\n",
    "arduino_src_dir = os.path.join(arduino_deployment_base_dir, \"src\")\n",
    "arduino_include_dir = os.path.join(arduino_deployment_base_dir, \"include\")\n",
    "\n",
    "LUCKY_NUMBER = 25\n",
    "torch.manual_seed(LUCKY_NUMBER)\n",
    "torch.random.manual_seed(LUCKY_NUMBER)\n",
    "torch.cuda.manual_seed(LUCKY_NUMBER)\n",
    "\n",
    "DEVICE "
   ]
  },
  {
   "cell_type": "code",
   "execution_count": 4,
   "id": "5b3b4a3a",
   "metadata": {},
   "outputs": [],
   "source": [
    "input_shape = (1, 28, 28)\n",
    "\n",
    "data_transform = transforms.Compose([\n",
    "    transforms.RandomCrop((24, 24)),\n",
    "    transforms.Resize(input_shape[1:]),\n",
    "    transforms.ToTensor(),\n",
    "])\n",
    "\n",
    "mnist_train_dataset = datasets.MNIST(\"../../../Datasets/\", train=True, download=True, transform=data_transform)\n",
    "mnist_test_dataset = datasets.MNIST(\"../../../Datasets/\", train=False, download=True, transform=data_transform)\n",
    "\n",
    "mnist_train_loader = data.DataLoader(mnist_train_dataset, batch_size=32, shuffle=True, num_workers=os.cpu_count(), drop_last=False)\n",
    "mnist_test_loader = data.DataLoader(mnist_test_dataset, batch_size=32, shuffle=False, num_workers=os.cpu_count(), drop_last=False)"
   ]
  },
  {
   "cell_type": "code",
   "execution_count": 5,
   "id": "754a2713",
   "metadata": {},
   "outputs": [],
   "source": [
    "lenet5_model = Sequential(\n",
    "    Conv2d(in_channels=1, out_channels=6, kernel_size=5, stride=1, pad=tuple([2]*4), bias=False),\n",
    "    BatchNorm2d(num_features=6),\n",
    "    ReLU6(),\n",
    "\n",
    "    MaxPool2d(kernel_size=2, stride=2, padding=0),\n",
    "\n",
    "    Conv2d(in_channels=6, out_channels=16, kernel_size=5, stride=1, padding=0, bias=True),\n",
    "    BatchNorm2d(num_features=16),\n",
    "    ReLU(),\n",
    "    # ReLU6(),\n",
    "\n",
    "    MaxPool2d(kernel_size=2, stride=2, padding=0),\n",
    "    # AvgPool2d(kernel_size=2, stride=2, padding=0),\n",
    "\n",
    "    Flatten(),\n",
    "    \n",
    "    Linear(in_features=16*5*5, out_features=84, bias=False),\n",
    "    ReLU(),\n",
    "    Linear(in_features=84, out_features=10, bias=True)\n",
    ").to(DEVICE)\n",
    "\n",
    "accuracy_fun = lambda y_pred, y_true: (y_pred.argmax(dim=1) == y_true).sum().item()*100"
   ]
  },
  {
   "cell_type": "code",
   "execution_count": 6,
   "id": "d3f8fc8f",
   "metadata": {},
   "outputs": [],
   "source": [
    "# lenet5_model = Sequential(\n",
    "#     Conv2d(in_channels=1, out_channels=6, kernel_size=3, stride=5, pad=[2]*4, bias=True),\n",
    "#     # BatchNorm2d(num_features=3),\n",
    "#     ReLU(),\n",
    "#     Conv2d(in_channels=6, out_channels=3, kernel_size=1, stride=1, pad=[0]*4, bias=False),\n",
    "#     MaxPool2d(kernel_size=2, stride=2, padding=0),\n",
    "#     Flatten(),\n",
    "#     Linear(in_features=3*3*3, out_features=84, bias=False),\n",
    "#     ReLU(),\n",
    "#     Linear(in_features=84, out_features=10, bias=True)\n",
    "# ).to(DEVICE)\n",
    "\n",
    "# accuracy_fun = lambda y_pred, y_true: (y_pred.argmax(dim=1) == y_true).sum().item()"
   ]
  },
  {
   "cell_type": "code",
   "execution_count": 7,
   "id": "b811aa98",
   "metadata": {},
   "outputs": [],
   "source": [
    "# lenet5_model = Sequential(\n",
    "    \n",
    "#     Conv2d(in_channels=1, out_channels=3, kernel_size=3, stride=5, pad=[2]*4, bias=True),\n",
    "#     ReLU(),\n",
    "#     MaxPool2d(kernel_size=2, stride=2, padding=0),\n",
    "#     # BatchNorm2d(num_features=3),\n",
    "#     Flatten(),\n",
    "#     Linear(in_features=3*3*3, out_features=10, bias=True),\n",
    "# ).to(DEVICE)\n",
    "\n",
    "# accuracy_fun = lambda y_pred, y_true: (y_pred.argmax(dim=1) == y_true).sum().item()"
   ]
  },
  {
   "cell_type": "code",
   "execution_count": 8,
   "id": "540fd9f0",
   "metadata": {},
   "outputs": [],
   "source": [
    "try:\n",
    "    # raise RuntimeError\n",
    "    lenet5_model.cpu()\n",
    "    lenet5_model.load_state_dict(torch.load(lenet5_file, weights_only=True), strict=False)\n",
    "    lenet5_model.to(DEVICE)\n",
    "\n",
    "except (RuntimeError, FileNotFoundError) as e:\n",
    "    early_stopper = EarlyStopper(\n",
    "        metric_name=\"validation_loss\",\n",
    "        min_valid_diff=1e-7,\n",
    "        mode=\"min\",\n",
    "        patience=4,\n",
    "        restore_best_state_dict=True,\n",
    "    )\n",
    "\n",
    "    criterion_fun = nn.CrossEntropyLoss()\n",
    "    optimizion_fun = optim.Adam(lenet5_model.parameters(), lr=1.e-3)\n",
    "    lr_scheduler = optim.lr_scheduler.ReduceLROnPlateau(optimizion_fun, mode=\"min\", patience=2)\n",
    "\n",
    "    lenet5_model.fit(\n",
    "        mnist_train_loader, 25, \n",
    "        criterion_fun, optimizion_fun, lr_scheduler,\n",
    "        validation_dataloader=mnist_test_loader, \n",
    "        metrics={\"acc\" : accuracy_fun},\n",
    "        callbacks=[early_stopper],\n",
    "        device=DEVICE\n",
    "    )\n",
    "    lenet5_model.cpu()\n",
    "    torch.save(lenet5_model.state_dict(), lenet5_file)\n",
    "    lenet5_model.to(DEVICE)\n",
    "    "
   ]
  },
  {
   "cell_type": "code",
   "execution_count": 9,
   "id": "c6abe865",
   "metadata": {},
   "outputs": [
    {
     "name": "stdout",
     "output_type": "stream",
     "text": [
      "{'conv2d_0': 2, 'conv2d_1': 2, 'linear_0': 70}\n"
     ]
    },
    {
     "name": "stderr",
     "output_type": "stream",
     "text": [
      "100%|██████████| 313/313 [00:01<00:00, 201.31it/s]\n"
     ]
    },
    {
     "name": "stdout",
     "output_type": "stream",
     "text": [
      "{'conv2d_0': 5, 'conv2d_1': 7, 'linear_0': 36}\n"
     ]
    },
    {
     "name": "stderr",
     "output_type": "stream",
     "text": [
      "100%|██████████| 313/313 [00:01<00:00, 198.41it/s]\n"
     ]
    },
    {
     "name": "stdout",
     "output_type": "stream",
     "text": [
      "{'conv2d_0': 3, 'conv2d_1': 4, 'linear_0': 27}\n"
     ]
    },
    {
     "name": "stderr",
     "output_type": "stream",
     "text": [
      "100%|██████████| 313/313 [00:01<00:00, 170.35it/s]"
     ]
    },
    {
     "name": "stdout",
     "output_type": "stream",
     "text": [
      "{'conv2d_0': 4, 'conv2d_1': 1, 'linear_0': 47}\n"
     ]
    },
    {
     "name": "stderr",
     "output_type": "stream",
     "text": [
      "\n",
      "100%|██████████| 313/313 [00:01<00:00, 167.25it/s]\n"
     ]
    },
    {
     "name": "stdout",
     "output_type": "stream",
     "text": [
      "{'conv2d_0': 5, 'conv2d_1': 3, 'linear_0': 34}\n"
     ]
    },
    {
     "name": "stderr",
     "output_type": "stream",
     "text": [
      "100%|██████████| 313/313 [00:01<00:00, 203.42it/s]"
     ]
    },
    {
     "name": "stdout",
     "output_type": "stream",
     "text": [
      "{'conv2d_0': 4, 'conv2d_1': 0, 'linear_0': 24}\n"
     ]
    },
    {
     "name": "stderr",
     "output_type": "stream",
     "text": [
      "\n",
      "100%|██████████| 313/313 [00:02<00:00, 143.08it/s]\n"
     ]
    },
    {
     "name": "stdout",
     "output_type": "stream",
     "text": [
      "{'conv2d_0': 2, 'conv2d_1': 6, 'linear_0': 77}\n"
     ]
    },
    {
     "name": "stderr",
     "output_type": "stream",
     "text": [
      "100%|██████████| 313/313 [00:02<00:00, 133.45it/s]\n"
     ]
    },
    {
     "name": "stdout",
     "output_type": "stream",
     "text": [
      "{'conv2d_0': 2, 'conv2d_1': 2, 'linear_0': 54}\n"
     ]
    },
    {
     "name": "stderr",
     "output_type": "stream",
     "text": [
      "100%|██████████| 313/313 [00:02<00:00, 142.16it/s]\n"
     ]
    },
    {
     "name": "stdout",
     "output_type": "stream",
     "text": [
      "{'conv2d_0': 0, 'conv2d_1': 1, 'linear_0': 13}\n"
     ]
    },
    {
     "name": "stderr",
     "output_type": "stream",
     "text": [
      "100%|██████████| 313/313 [00:01<00:00, 183.36it/s]\n"
     ]
    },
    {
     "name": "stdout",
     "output_type": "stream",
     "text": [
      "{'conv2d_0': 4, 'conv2d_1': 8, 'linear_0': 29}\n"
     ]
    },
    {
     "name": "stderr",
     "output_type": "stream",
     "text": [
      "100%|██████████| 313/313 [00:01<00:00, 180.69it/s]\n"
     ]
    },
    {
     "name": "stdout",
     "output_type": "stream",
     "text": [
      "{'conv2d_0': 4, 'conv2d_1': 4, 'linear_0': 77}\n"
     ]
    },
    {
     "name": "stderr",
     "output_type": "stream",
     "text": [
      "100%|██████████| 313/313 [00:01<00:00, 195.54it/s]\n"
     ]
    },
    {
     "name": "stdout",
     "output_type": "stream",
     "text": [
      "{'conv2d_0': 4, 'conv2d_1': 15, 'linear_0': 17}\n"
     ]
    },
    {
     "name": "stderr",
     "output_type": "stream",
     "text": [
      "100%|██████████| 313/313 [00:01<00:00, 181.59it/s]\n"
     ]
    },
    {
     "name": "stdout",
     "output_type": "stream",
     "text": [
      "{'conv2d_0': 4, 'conv2d_1': 5, 'linear_0': 8}\n"
     ]
    },
    {
     "name": "stderr",
     "output_type": "stream",
     "text": [
      "100%|██████████| 313/313 [00:01<00:00, 164.56it/s]\n"
     ]
    },
    {
     "name": "stdout",
     "output_type": "stream",
     "text": [
      "{'conv2d_0': 2, 'conv2d_1': 13, 'linear_0': 39}\n"
     ]
    },
    {
     "name": "stderr",
     "output_type": "stream",
     "text": [
      "100%|██████████| 313/313 [00:01<00:00, 191.04it/s]\n"
     ]
    },
    {
     "name": "stdout",
     "output_type": "stream",
     "text": [
      "{'conv2d_0': 4, 'conv2d_1': 9, 'linear_0': 58}\n"
     ]
    },
    {
     "name": "stderr",
     "output_type": "stream",
     "text": [
      "100%|██████████| 313/313 [00:01<00:00, 181.83it/s]\n"
     ]
    },
    {
     "name": "stdout",
     "output_type": "stream",
     "text": [
      "{'conv2d_0': 5, 'conv2d_1': 9, 'linear_0': 1}\n"
     ]
    },
    {
     "name": "stderr",
     "output_type": "stream",
     "text": [
      "100%|██████████| 313/313 [00:01<00:00, 206.37it/s]\n"
     ]
    },
    {
     "name": "stdout",
     "output_type": "stream",
     "text": [
      "{'conv2d_0': 3, 'conv2d_1': 8, 'linear_0': 7}\n"
     ]
    },
    {
     "name": "stderr",
     "output_type": "stream",
     "text": [
      "100%|██████████| 313/313 [00:01<00:00, 203.57it/s]\n"
     ]
    },
    {
     "name": "stdout",
     "output_type": "stream",
     "text": [
      "{'conv2d_0': 0, 'conv2d_1': 1, 'linear_0': 59}\n"
     ]
    },
    {
     "name": "stderr",
     "output_type": "stream",
     "text": [
      "100%|██████████| 313/313 [00:01<00:00, 209.57it/s]\n"
     ]
    },
    {
     "name": "stdout",
     "output_type": "stream",
     "text": [
      "{'conv2d_0': 5, 'conv2d_1': 2, 'linear_0': 37}\n"
     ]
    },
    {
     "name": "stderr",
     "output_type": "stream",
     "text": [
      "100%|██████████| 313/313 [00:01<00:00, 196.28it/s]\n"
     ]
    },
    {
     "name": "stdout",
     "output_type": "stream",
     "text": [
      "{'conv2d_0': 0, 'conv2d_1': 6, 'linear_0': 56}\n"
     ]
    },
    {
     "name": "stderr",
     "output_type": "stream",
     "text": [
      "100%|██████████| 313/313 [00:01<00:00, 176.58it/s]\n"
     ]
    },
    {
     "name": "stdout",
     "output_type": "stream",
     "text": [
      "{'conv2d_0': 2, 'conv2d_1': 3, 'linear_0': 6}\n"
     ]
    },
    {
     "name": "stderr",
     "output_type": "stream",
     "text": [
      "100%|██████████| 313/313 [00:01<00:00, 188.77it/s]"
     ]
    },
    {
     "name": "stdout",
     "output_type": "stream",
     "text": [
      "{'conv2d_0': 1, 'conv2d_1': 14, 'linear_0': 18}\n"
     ]
    },
    {
     "name": "stderr",
     "output_type": "stream",
     "text": [
      "\n",
      "100%|██████████| 313/313 [00:01<00:00, 214.82it/s]\n"
     ]
    },
    {
     "name": "stdout",
     "output_type": "stream",
     "text": [
      "{'conv2d_0': 0, 'conv2d_1': 15, 'linear_0': 40}\n"
     ]
    },
    {
     "name": "stderr",
     "output_type": "stream",
     "text": [
      "100%|██████████| 313/313 [00:01<00:00, 207.20it/s]\n"
     ]
    },
    {
     "name": "stdout",
     "output_type": "stream",
     "text": [
      "{'conv2d_0': 4, 'conv2d_1': 3, 'linear_0': 7}\n"
     ]
    },
    {
     "name": "stderr",
     "output_type": "stream",
     "text": [
      "100%|██████████| 313/313 [00:01<00:00, 225.94it/s]\n"
     ]
    },
    {
     "name": "stdout",
     "output_type": "stream",
     "text": [
      "{'conv2d_0': 5, 'conv2d_1': 6, 'linear_0': 62}\n"
     ]
    },
    {
     "name": "stderr",
     "output_type": "stream",
     "text": [
      "100%|██████████| 313/313 [00:01<00:00, 225.63it/s]\n"
     ]
    },
    {
     "name": "stdout",
     "output_type": "stream",
     "text": [
      "{'conv2d_0': 5, 'conv2d_1': 9, 'linear_0': 26}\n"
     ]
    },
    {
     "name": "stderr",
     "output_type": "stream",
     "text": [
      "100%|██████████| 313/313 [00:01<00:00, 191.58it/s]\n"
     ]
    },
    {
     "name": "stdout",
     "output_type": "stream",
     "text": [
      "{'conv2d_0': 0, 'conv2d_1': 10, 'linear_0': 6}\n"
     ]
    },
    {
     "name": "stderr",
     "output_type": "stream",
     "text": [
      "100%|██████████| 313/313 [00:01<00:00, 206.85it/s]\n"
     ]
    },
    {
     "name": "stdout",
     "output_type": "stream",
     "text": [
      "{'conv2d_0': 4, 'conv2d_1': 13, 'linear_0': 32}\n"
     ]
    },
    {
     "name": "stderr",
     "output_type": "stream",
     "text": [
      "100%|██████████| 313/313 [00:01<00:00, 209.11it/s]\n"
     ]
    },
    {
     "name": "stdout",
     "output_type": "stream",
     "text": [
      "{'conv2d_0': 4, 'conv2d_1': 0, 'linear_0': 66}\n"
     ]
    },
    {
     "name": "stderr",
     "output_type": "stream",
     "text": [
      "100%|██████████| 313/313 [00:01<00:00, 201.94it/s]\n"
     ]
    },
    {
     "name": "stdout",
     "output_type": "stream",
     "text": [
      "{'conv2d_0': 3, 'conv2d_1': 13, 'linear_0': 75}\n"
     ]
    },
    {
     "name": "stderr",
     "output_type": "stream",
     "text": [
      "100%|██████████| 313/313 [00:01<00:00, 208.80it/s]\n"
     ]
    },
    {
     "name": "stdout",
     "output_type": "stream",
     "text": [
      "{'conv2d_0': 2, 'conv2d_1': 7, 'linear_0': 7}\n"
     ]
    },
    {
     "name": "stderr",
     "output_type": "stream",
     "text": [
      "100%|██████████| 313/313 [00:02<00:00, 149.63it/s]\n"
     ]
    },
    {
     "name": "stdout",
     "output_type": "stream",
     "text": [
      "{'conv2d_0': 1, 'conv2d_1': 1, 'linear_0': 9}\n"
     ]
    },
    {
     "name": "stderr",
     "output_type": "stream",
     "text": [
      "100%|██████████| 313/313 [00:02<00:00, 131.85it/s]\n"
     ]
    },
    {
     "name": "stdout",
     "output_type": "stream",
     "text": [
      "{'conv2d_0': 0, 'conv2d_1': 6, 'linear_0': 82}\n"
     ]
    },
    {
     "name": "stderr",
     "output_type": "stream",
     "text": [
      "100%|██████████| 313/313 [00:01<00:00, 193.46it/s]\n"
     ]
    },
    {
     "name": "stdout",
     "output_type": "stream",
     "text": [
      "{'conv2d_0': 3, 'conv2d_1': 14, 'linear_0': 49}\n"
     ]
    },
    {
     "name": "stderr",
     "output_type": "stream",
     "text": [
      "100%|██████████| 313/313 [00:01<00:00, 199.71it/s]\n"
     ]
    },
    {
     "name": "stdout",
     "output_type": "stream",
     "text": [
      "{'conv2d_0': 1, 'conv2d_1': 14, 'linear_0': 38}\n"
     ]
    },
    {
     "name": "stderr",
     "output_type": "stream",
     "text": [
      "100%|██████████| 313/313 [00:01<00:00, 211.98it/s]"
     ]
    },
    {
     "name": "stdout",
     "output_type": "stream",
     "text": [
      "{'conv2d_0': 3, 'conv2d_1': 14, 'linear_0': 29}\n"
     ]
    },
    {
     "name": "stderr",
     "output_type": "stream",
     "text": [
      "\n",
      "100%|██████████| 313/313 [00:01<00:00, 217.01it/s]\n"
     ]
    },
    {
     "name": "stdout",
     "output_type": "stream",
     "text": [
      "{'conv2d_0': 1, 'conv2d_1': 11, 'linear_0': 74}\n"
     ]
    },
    {
     "name": "stderr",
     "output_type": "stream",
     "text": [
      "100%|██████████| 313/313 [00:01<00:00, 197.97it/s]\n"
     ]
    },
    {
     "name": "stdout",
     "output_type": "stream",
     "text": [
      "{'conv2d_0': 0, 'conv2d_1': 4, 'linear_0': 51}\n"
     ]
    },
    {
     "name": "stderr",
     "output_type": "stream",
     "text": [
      "100%|██████████| 313/313 [00:01<00:00, 193.06it/s]\n"
     ]
    },
    {
     "name": "stdout",
     "output_type": "stream",
     "text": [
      "{'conv2d_0': 0, 'conv2d_1': 0, 'linear_0': 10}\n"
     ]
    },
    {
     "name": "stderr",
     "output_type": "stream",
     "text": [
      "100%|██████████| 313/313 [00:01<00:00, 178.39it/s]\n"
     ]
    },
    {
     "name": "stdout",
     "output_type": "stream",
     "text": [
      "{'conv2d_0': 0, 'conv2d_1': 1, 'linear_0': 41}\n"
     ]
    },
    {
     "name": "stderr",
     "output_type": "stream",
     "text": [
      "100%|██████████| 313/313 [00:02<00:00, 150.12it/s]"
     ]
    },
    {
     "name": "stdout",
     "output_type": "stream",
     "text": [
      "{'conv2d_0': 0, 'conv2d_1': 5, 'linear_0': 19}\n"
     ]
    },
    {
     "name": "stderr",
     "output_type": "stream",
     "text": [
      "\n",
      "100%|██████████| 313/313 [00:01<00:00, 158.66it/s]\n"
     ]
    },
    {
     "name": "stdout",
     "output_type": "stream",
     "text": [
      "{'conv2d_0': 4, 'conv2d_1': 0, 'linear_0': 14}\n"
     ]
    },
    {
     "name": "stderr",
     "output_type": "stream",
     "text": [
      "100%|██████████| 313/313 [00:01<00:00, 193.95it/s]\n"
     ]
    },
    {
     "name": "stdout",
     "output_type": "stream",
     "text": [
      "{'conv2d_0': 4, 'conv2d_1': 3, 'linear_0': 58}\n"
     ]
    },
    {
     "name": "stderr",
     "output_type": "stream",
     "text": [
      "100%|██████████| 313/313 [00:01<00:00, 202.32it/s]"
     ]
    },
    {
     "name": "stdout",
     "output_type": "stream",
     "text": [
      "{'conv2d_0': 3, 'conv2d_1': 6, 'linear_0': 61}\n"
     ]
    },
    {
     "name": "stderr",
     "output_type": "stream",
     "text": [
      "\n",
      "100%|██████████| 313/313 [00:01<00:00, 197.40it/s]\n"
     ]
    },
    {
     "name": "stdout",
     "output_type": "stream",
     "text": [
      "{'conv2d_0': 0, 'conv2d_1': 14, 'linear_0': 46}\n"
     ]
    },
    {
     "name": "stderr",
     "output_type": "stream",
     "text": [
      "100%|██████████| 313/313 [00:01<00:00, 184.11it/s]\n"
     ]
    },
    {
     "name": "stdout",
     "output_type": "stream",
     "text": [
      "{'conv2d_0': 1, 'conv2d_1': 10, 'linear_0': 30}\n"
     ]
    },
    {
     "name": "stderr",
     "output_type": "stream",
     "text": [
      "100%|██████████| 313/313 [00:01<00:00, 157.92it/s]\n"
     ]
    },
    {
     "name": "stdout",
     "output_type": "stream",
     "text": [
      "{'conv2d_0': 2, 'conv2d_1': 6, 'linear_0': 48}\n"
     ]
    },
    {
     "name": "stderr",
     "output_type": "stream",
     "text": [
      "100%|██████████| 313/313 [00:01<00:00, 211.94it/s]\n"
     ]
    },
    {
     "name": "stdout",
     "output_type": "stream",
     "text": [
      "{'conv2d_0': 3, 'conv2d_1': 7, 'linear_0': 28}\n"
     ]
    },
    {
     "name": "stderr",
     "output_type": "stream",
     "text": [
      "100%|██████████| 313/313 [00:01<00:00, 224.88it/s]\n"
     ]
    },
    {
     "name": "stdout",
     "output_type": "stream",
     "text": [
      "{'conv2d_0': 4, 'conv2d_1': 0, 'linear_0': 27}\n"
     ]
    },
    {
     "name": "stderr",
     "output_type": "stream",
     "text": [
      "100%|██████████| 313/313 [00:01<00:00, 231.63it/s]\n"
     ]
    },
    {
     "name": "stdout",
     "output_type": "stream",
     "text": [
      "{'conv2d_0': 3, 'conv2d_1': 7, 'linear_0': 70}\n"
     ]
    },
    {
     "name": "stderr",
     "output_type": "stream",
     "text": [
      "100%|██████████| 313/313 [00:01<00:00, 231.41it/s]\n"
     ]
    },
    {
     "name": "stdout",
     "output_type": "stream",
     "text": [
      "{'conv2d_0': 3, 'conv2d_1': 6, 'linear_0': 82}\n"
     ]
    },
    {
     "name": "stderr",
     "output_type": "stream",
     "text": [
      "100%|██████████| 313/313 [00:01<00:00, 186.38it/s]\n"
     ]
    },
    {
     "name": "stdout",
     "output_type": "stream",
     "text": [
      "{'conv2d_0': 0, 'conv2d_1': 15, 'linear_0': 31}\n"
     ]
    },
    {
     "name": "stderr",
     "output_type": "stream",
     "text": [
      "100%|██████████| 313/313 [00:01<00:00, 193.19it/s]\n"
     ]
    },
    {
     "name": "stdout",
     "output_type": "stream",
     "text": [
      "{'conv2d_0': 5, 'conv2d_1': 0, 'linear_0': 80}\n"
     ]
    },
    {
     "name": "stderr",
     "output_type": "stream",
     "text": [
      "100%|██████████| 313/313 [00:02<00:00, 148.27it/s]\n"
     ]
    },
    {
     "name": "stdout",
     "output_type": "stream",
     "text": [
      "{'conv2d_0': 2, 'conv2d_1': 10, 'linear_0': 39}\n"
     ]
    },
    {
     "name": "stderr",
     "output_type": "stream",
     "text": [
      "100%|██████████| 313/313 [00:01<00:00, 182.41it/s]\n"
     ]
    },
    {
     "name": "stdout",
     "output_type": "stream",
     "text": [
      "{'conv2d_0': 4, 'conv2d_1': 5, 'linear_0': 54}\n"
     ]
    },
    {
     "name": "stderr",
     "output_type": "stream",
     "text": [
      "100%|██████████| 313/313 [00:01<00:00, 178.16it/s]"
     ]
    },
    {
     "name": "stdout",
     "output_type": "stream",
     "text": [
      "{'conv2d_0': 1, 'conv2d_1': 9, 'linear_0': 25}\n"
     ]
    },
    {
     "name": "stderr",
     "output_type": "stream",
     "text": [
      "\n",
      "100%|██████████| 313/313 [00:01<00:00, 181.80it/s]\n"
     ]
    },
    {
     "name": "stdout",
     "output_type": "stream",
     "text": [
      "{'conv2d_0': 4, 'conv2d_1': 6, 'linear_0': 16}\n"
     ]
    },
    {
     "name": "stderr",
     "output_type": "stream",
     "text": [
      "100%|██████████| 313/313 [00:01<00:00, 174.15it/s]\n"
     ]
    },
    {
     "name": "stdout",
     "output_type": "stream",
     "text": [
      "{'conv2d_0': 2, 'conv2d_1': 15, 'linear_0': 37}\n"
     ]
    },
    {
     "name": "stderr",
     "output_type": "stream",
     "text": [
      "100%|██████████| 313/313 [00:01<00:00, 194.51it/s]\n"
     ]
    },
    {
     "name": "stdout",
     "output_type": "stream",
     "text": [
      "{'conv2d_0': 1, 'conv2d_1': 4, 'linear_0': 12}\n"
     ]
    },
    {
     "name": "stderr",
     "output_type": "stream",
     "text": [
      "100%|██████████| 313/313 [00:01<00:00, 185.05it/s]"
     ]
    },
    {
     "name": "stdout",
     "output_type": "stream",
     "text": [
      "{'conv2d_0': 0, 'conv2d_1': 4, 'linear_0': 81}\n"
     ]
    },
    {
     "name": "stderr",
     "output_type": "stream",
     "text": [
      "\n",
      "100%|██████████| 313/313 [00:01<00:00, 203.38it/s]"
     ]
    },
    {
     "name": "stdout",
     "output_type": "stream",
     "text": [
      "{'conv2d_0': 0, 'conv2d_1': 7, 'linear_0': 73}\n"
     ]
    },
    {
     "name": "stderr",
     "output_type": "stream",
     "text": [
      "\n",
      "100%|██████████| 313/313 [00:01<00:00, 206.31it/s]\n"
     ]
    },
    {
     "name": "stdout",
     "output_type": "stream",
     "text": [
      "{'conv2d_0': 0, 'conv2d_1': 11, 'linear_0': 16}\n"
     ]
    },
    {
     "name": "stderr",
     "output_type": "stream",
     "text": [
      "100%|██████████| 313/313 [00:01<00:00, 203.40it/s]\n"
     ]
    },
    {
     "name": "stdout",
     "output_type": "stream",
     "text": [
      "{'conv2d_0': 3, 'conv2d_1': 7, 'linear_0': 8}\n"
     ]
    },
    {
     "name": "stderr",
     "output_type": "stream",
     "text": [
      "100%|██████████| 313/313 [00:01<00:00, 207.52it/s]\n"
     ]
    },
    {
     "name": "stdout",
     "output_type": "stream",
     "text": [
      "{'conv2d_0': 3, 'conv2d_1': 14, 'linear_0': 53}\n"
     ]
    },
    {
     "name": "stderr",
     "output_type": "stream",
     "text": [
      "100%|██████████| 313/313 [00:01<00:00, 168.48it/s]"
     ]
    },
    {
     "name": "stdout",
     "output_type": "stream",
     "text": [
      "{'conv2d_0': 5, 'conv2d_1': 7, 'linear_0': 54}\n"
     ]
    },
    {
     "name": "stderr",
     "output_type": "stream",
     "text": [
      "\n",
      "100%|██████████| 313/313 [00:01<00:00, 165.64it/s]\n"
     ]
    },
    {
     "name": "stdout",
     "output_type": "stream",
     "text": [
      "{'conv2d_0': 4, 'conv2d_1': 13, 'linear_0': 61}\n"
     ]
    },
    {
     "name": "stderr",
     "output_type": "stream",
     "text": [
      "100%|██████████| 313/313 [00:02<00:00, 151.51it/s]\n"
     ]
    },
    {
     "name": "stdout",
     "output_type": "stream",
     "text": [
      "{'conv2d_0': 5, 'conv2d_1': 14, 'linear_0': 75}\n"
     ]
    },
    {
     "name": "stderr",
     "output_type": "stream",
     "text": [
      "100%|██████████| 313/313 [00:01<00:00, 195.14it/s]\n"
     ]
    },
    {
     "name": "stdout",
     "output_type": "stream",
     "text": [
      "{'conv2d_0': 2, 'conv2d_1': 11, 'linear_0': 61}\n"
     ]
    },
    {
     "name": "stderr",
     "output_type": "stream",
     "text": [
      "100%|██████████| 313/313 [00:01<00:00, 204.27it/s]\n"
     ]
    },
    {
     "name": "stdout",
     "output_type": "stream",
     "text": [
      "{'conv2d_0': 2, 'conv2d_1': 9, 'linear_0': 41}\n"
     ]
    },
    {
     "name": "stderr",
     "output_type": "stream",
     "text": [
      "100%|██████████| 313/313 [00:01<00:00, 202.34it/s]"
     ]
    },
    {
     "name": "stdout",
     "output_type": "stream",
     "text": [
      "{'conv2d_0': 3, 'conv2d_1': 14, 'linear_0': 48}\n"
     ]
    },
    {
     "name": "stderr",
     "output_type": "stream",
     "text": [
      "\n",
      "100%|██████████| 313/313 [00:01<00:00, 212.16it/s]\n"
     ]
    },
    {
     "name": "stdout",
     "output_type": "stream",
     "text": [
      "{'conv2d_0': 0, 'conv2d_1': 9, 'linear_0': 30}\n"
     ]
    },
    {
     "name": "stderr",
     "output_type": "stream",
     "text": [
      "100%|██████████| 313/313 [00:01<00:00, 201.10it/s]\n"
     ]
    },
    {
     "name": "stdout",
     "output_type": "stream",
     "text": [
      "{'conv2d_0': 5, 'conv2d_1': 8, 'linear_0': 52}\n"
     ]
    },
    {
     "name": "stderr",
     "output_type": "stream",
     "text": [
      "100%|██████████| 313/313 [00:01<00:00, 206.64it/s]\n"
     ]
    },
    {
     "name": "stdout",
     "output_type": "stream",
     "text": [
      "{'conv2d_0': 0, 'conv2d_1': 13, 'linear_0': 32}\n"
     ]
    },
    {
     "name": "stderr",
     "output_type": "stream",
     "text": [
      "100%|██████████| 313/313 [00:01<00:00, 201.89it/s]"
     ]
    },
    {
     "name": "stdout",
     "output_type": "stream",
     "text": [
      "{'conv2d_0': 3, 'conv2d_1': 14, 'linear_0': 20}\n"
     ]
    },
    {
     "name": "stderr",
     "output_type": "stream",
     "text": [
      "\n",
      "100%|██████████| 313/313 [00:01<00:00, 207.23it/s]\n"
     ]
    },
    {
     "name": "stdout",
     "output_type": "stream",
     "text": [
      "{'conv2d_0': 5, 'conv2d_1': 15, 'linear_0': 60}\n"
     ]
    },
    {
     "name": "stderr",
     "output_type": "stream",
     "text": [
      "100%|██████████| 313/313 [00:01<00:00, 201.50it/s]"
     ]
    },
    {
     "name": "stdout",
     "output_type": "stream",
     "text": [
      "{'conv2d_0': 3, 'conv2d_1': 15, 'linear_0': 30}\n"
     ]
    },
    {
     "name": "stderr",
     "output_type": "stream",
     "text": [
      "\n",
      "100%|██████████| 313/313 [00:01<00:00, 204.45it/s]\n"
     ]
    },
    {
     "name": "stdout",
     "output_type": "stream",
     "text": [
      "{'conv2d_0': 3, 'conv2d_1': 13, 'linear_0': 27}\n"
     ]
    },
    {
     "name": "stderr",
     "output_type": "stream",
     "text": [
      "100%|██████████| 313/313 [00:01<00:00, 194.75it/s]\n"
     ]
    },
    {
     "name": "stdout",
     "output_type": "stream",
     "text": [
      "{'conv2d_0': 0, 'conv2d_1': 11, 'linear_0': 44}\n"
     ]
    },
    {
     "name": "stderr",
     "output_type": "stream",
     "text": [
      "100%|██████████| 313/313 [00:01<00:00, 204.73it/s]\n"
     ]
    },
    {
     "name": "stdout",
     "output_type": "stream",
     "text": [
      "{'conv2d_0': 0, 'conv2d_1': 5, 'linear_0': 56}\n"
     ]
    },
    {
     "name": "stderr",
     "output_type": "stream",
     "text": [
      "100%|██████████| 313/313 [00:01<00:00, 201.62it/s]"
     ]
    },
    {
     "name": "stdout",
     "output_type": "stream",
     "text": [
      "{'conv2d_0': 0, 'conv2d_1': 5, 'linear_0': 41}\n"
     ]
    },
    {
     "name": "stderr",
     "output_type": "stream",
     "text": [
      "\n",
      "100%|██████████| 313/313 [00:01<00:00, 206.95it/s]\n"
     ]
    },
    {
     "name": "stdout",
     "output_type": "stream",
     "text": [
      "{'conv2d_0': 3, 'conv2d_1': 3, 'linear_0': 46}\n"
     ]
    },
    {
     "name": "stderr",
     "output_type": "stream",
     "text": [
      "100%|██████████| 313/313 [00:01<00:00, 202.48it/s]"
     ]
    },
    {
     "name": "stdout",
     "output_type": "stream",
     "text": [
      "{'conv2d_0': 5, 'conv2d_1': 3, 'linear_0': 5}\n"
     ]
    },
    {
     "name": "stderr",
     "output_type": "stream",
     "text": [
      "\n",
      "100%|██████████| 313/313 [00:01<00:00, 192.98it/s]\n"
     ]
    },
    {
     "name": "stdout",
     "output_type": "stream",
     "text": [
      "{'conv2d_0': 3, 'conv2d_1': 0, 'linear_0': 45}\n"
     ]
    },
    {
     "name": "stderr",
     "output_type": "stream",
     "text": [
      "100%|██████████| 313/313 [00:01<00:00, 204.93it/s]\n"
     ]
    },
    {
     "name": "stdout",
     "output_type": "stream",
     "text": [
      "{'conv2d_0': 1, 'conv2d_1': 14, 'linear_0': 60}\n"
     ]
    },
    {
     "name": "stderr",
     "output_type": "stream",
     "text": [
      "100%|██████████| 313/313 [00:01<00:00, 202.97it/s]"
     ]
    },
    {
     "name": "stdout",
     "output_type": "stream",
     "text": [
      "{'conv2d_0': 3, 'conv2d_1': 0, 'linear_0': 33}\n"
     ]
    },
    {
     "name": "stderr",
     "output_type": "stream",
     "text": [
      "\n",
      "100%|██████████| 313/313 [00:01<00:00, 190.09it/s]\n"
     ]
    },
    {
     "name": "stdout",
     "output_type": "stream",
     "text": [
      "{'conv2d_0': 3, 'conv2d_1': 5, 'linear_0': 2}\n"
     ]
    },
    {
     "name": "stderr",
     "output_type": "stream",
     "text": [
      "100%|██████████| 313/313 [00:01<00:00, 205.73it/s]\n"
     ]
    },
    {
     "name": "stdout",
     "output_type": "stream",
     "text": [
      "{'conv2d_0': 5, 'conv2d_1': 5, 'linear_0': 81}\n"
     ]
    },
    {
     "name": "stderr",
     "output_type": "stream",
     "text": [
      "100%|██████████| 313/313 [00:01<00:00, 205.58it/s]"
     ]
    },
    {
     "name": "stdout",
     "output_type": "stream",
     "text": [
      "{'conv2d_0': 2, 'conv2d_1': 2, 'linear_0': 65}\n"
     ]
    },
    {
     "name": "stderr",
     "output_type": "stream",
     "text": [
      "\n",
      "100%|██████████| 313/313 [00:01<00:00, 200.92it/s]"
     ]
    },
    {
     "name": "stdout",
     "output_type": "stream",
     "text": [
      "{'conv2d_0': 3, 'conv2d_1': 1, 'linear_0': 25}\n"
     ]
    },
    {
     "name": "stderr",
     "output_type": "stream",
     "text": [
      "\n",
      "100%|██████████| 313/313 [00:01<00:00, 202.30it/s]"
     ]
    },
    {
     "name": "stdout",
     "output_type": "stream",
     "text": [
      "{'conv2d_0': 4, 'conv2d_1': 0, 'linear_0': 30}\n"
     ]
    },
    {
     "name": "stderr",
     "output_type": "stream",
     "text": [
      "\n",
      "100%|██████████| 313/313 [00:01<00:00, 205.12it/s]\n"
     ]
    },
    {
     "name": "stdout",
     "output_type": "stream",
     "text": [
      "{'conv2d_0': 3, 'conv2d_1': 6, 'linear_0': 45}\n"
     ]
    },
    {
     "name": "stderr",
     "output_type": "stream",
     "text": [
      "100%|██████████| 313/313 [00:01<00:00, 201.57it/s]"
     ]
    },
    {
     "name": "stdout",
     "output_type": "stream",
     "text": [
      "{'conv2d_0': 3, 'conv2d_1': 14, 'linear_0': 2}\n"
     ]
    },
    {
     "name": "stderr",
     "output_type": "stream",
     "text": [
      "\n",
      "100%|██████████| 313/313 [00:01<00:00, 163.86it/s]\n"
     ]
    },
    {
     "name": "stdout",
     "output_type": "stream",
     "text": [
      "{'conv2d_0': 5, 'conv2d_1': 0, 'linear_0': 33}\n"
     ]
    },
    {
     "name": "stderr",
     "output_type": "stream",
     "text": [
      "100%|██████████| 313/313 [00:01<00:00, 187.32it/s]\n"
     ]
    },
    {
     "name": "stdout",
     "output_type": "stream",
     "text": [
      "{'conv2d_0': 4, 'conv2d_1': 2, 'linear_0': 17}\n"
     ]
    },
    {
     "name": "stderr",
     "output_type": "stream",
     "text": [
      "100%|██████████| 313/313 [00:01<00:00, 196.03it/s]"
     ]
    },
    {
     "name": "stdout",
     "output_type": "stream",
     "text": [
      "{'conv2d_0': 1, 'conv2d_1': 2, 'linear_0': 13}\n"
     ]
    },
    {
     "name": "stderr",
     "output_type": "stream",
     "text": [
      "\n",
      "100%|██████████| 313/313 [00:01<00:00, 200.07it/s]\n"
     ]
    },
    {
     "name": "stdout",
     "output_type": "stream",
     "text": [
      "{'conv2d_0': 3, 'conv2d_1': 15, 'linear_0': 47}\n"
     ]
    },
    {
     "name": "stderr",
     "output_type": "stream",
     "text": [
      "100%|██████████| 313/313 [00:01<00:00, 191.62it/s]\n"
     ]
    },
    {
     "name": "stdout",
     "output_type": "stream",
     "text": [
      "{'conv2d_0': 0, 'conv2d_1': 8, 'linear_0': 6}\n"
     ]
    },
    {
     "name": "stderr",
     "output_type": "stream",
     "text": [
      "100%|██████████| 313/313 [00:01<00:00, 201.83it/s]\n"
     ]
    },
    {
     "name": "stdout",
     "output_type": "stream",
     "text": [
      "{'conv2d_0': 1, 'conv2d_1': 8, 'linear_0': 33}\n"
     ]
    },
    {
     "name": "stderr",
     "output_type": "stream",
     "text": [
      "100%|██████████| 313/313 [00:01<00:00, 201.87it/s]\n"
     ]
    },
    {
     "name": "stdout",
     "output_type": "stream",
     "text": [
      "{'conv2d_0': 5, 'conv2d_1': 7, 'linear_0': 18}\n"
     ]
    },
    {
     "name": "stderr",
     "output_type": "stream",
     "text": [
      "100%|██████████| 313/313 [00:01<00:00, 202.69it/s]"
     ]
    },
    {
     "name": "stdout",
     "output_type": "stream",
     "text": [
      "{'conv2d_0': 3, 'conv2d_1': 9, 'linear_0': 61}\n"
     ]
    },
    {
     "name": "stderr",
     "output_type": "stream",
     "text": [
      "\n",
      "100%|██████████| 313/313 [00:01<00:00, 201.61it/s]\n"
     ]
    },
    {
     "name": "stdout",
     "output_type": "stream",
     "text": [
      "100 80 torch.Size([100, 1])\n",
      "tensor([18, 86, 75, 36, 48,  2, 45, 22, 50, 25, 67, 89, 96, 72, 26, 16, 34, 64,\n",
      "        38, 98, 71, 92, 44, 41, 84, 19, 60,  1, 80, 62, 93, 91, 37,  4, 70, 79,\n",
      "        13, 74, 43, 52,  5, 28, 24, 35, 49, 83, 14, 12, 56, 53, 76, 23,  7, 63,\n",
      "        51, 33, 73, 78, 95, 77, 31, 27, 55, 82,  8, 29, 20,  0, 61, 65, 97, 42,\n",
      "        21, 68, 66, 47, 88, 17, 58, 87]) tensor([94,  6, 39, 40, 46, 11, 57, 32,  3, 30, 10, 85, 99,  9, 90, 59, 81, 69,\n",
      "        54, 15])\n"
     ]
    },
    {
     "name": "stderr",
     "output_type": "stream",
     "text": [
      "100%|██████████| 2/2 [00:00<00:00, 992.26it/s]\n",
      "  1%|          | 1/100 [00:00<00:11,  8.63it/s]"
     ]
    },
    {
     "name": "stdout",
     "output_type": "stream",
     "text": [
      "epoch    0 | train loss 88.5253 | validation loss 46.1973 | train mse 88.5253 | validation mse 46.1973\n"
     ]
    },
    {
     "name": "stderr",
     "output_type": "stream",
     "text": [
      "100%|██████████| 2/2 [00:00<00:00, 876.00it/s]\n"
     ]
    },
    {
     "name": "stdout",
     "output_type": "stream",
     "text": [
      "epoch    1 | train loss 88.2680 | validation loss 46.8986 | train mse 88.2681 | validation mse 46.8986\n"
     ]
    },
    {
     "name": "stderr",
     "output_type": "stream",
     "text": [
      "100%|██████████| 2/2 [00:00<00:00, 603.76it/s]\n"
     ]
    },
    {
     "name": "stdout",
     "output_type": "stream",
     "text": [
      "epoch    2 | train loss 88.0059 | validation loss 50.4367 | train mse 88.0059 | validation mse 50.4367\n"
     ]
    },
    {
     "name": "stderr",
     "output_type": "stream",
     "text": [
      "100%|██████████| 2/2 [00:00<00:00, 656.69it/s]\n"
     ]
    },
    {
     "name": "stdout",
     "output_type": "stream",
     "text": [
      "epoch    3 | train loss 87.7401 | validation loss 42.3308 | train mse 87.7401 | validation mse 42.3308\n"
     ]
    },
    {
     "name": "stderr",
     "output_type": "stream",
     "text": [
      "100%|██████████| 2/2 [00:00<00:00, 519.32it/s]\n"
     ]
    },
    {
     "name": "stdout",
     "output_type": "stream",
     "text": [
      "epoch    4 | train loss 87.4729 | validation loss 49.9823 | train mse 87.4730 | validation mse 49.9823\n"
     ]
    },
    {
     "name": "stderr",
     "output_type": "stream",
     "text": [
      "100%|██████████| 2/2 [00:00<00:00, 380.47it/s]\n"
     ]
    },
    {
     "name": "stdout",
     "output_type": "stream",
     "text": [
      "epoch    5 | train loss 87.1978 | validation loss 44.4643 | train mse 87.1978 | validation mse 44.4643\n"
     ]
    },
    {
     "name": "stderr",
     "output_type": "stream",
     "text": [
      "100%|██████████| 2/2 [00:00<00:00, 329.52it/s]"
     ]
    },
    {
     "name": "stdout",
     "output_type": "stream",
     "text": [
      "epoch    6 | train loss 86.9170 | validation loss 42.6561 | train mse 86.9170 | validation mse 42.6561\n"
     ]
    },
    {
     "name": "stderr",
     "output_type": "stream",
     "text": [
      "\n",
      "100%|██████████| 2/2 [00:00<00:00, 429.52it/s]\n"
     ]
    },
    {
     "name": "stdout",
     "output_type": "stream",
     "text": [
      "epoch    7 | train loss 86.6312 | validation loss 49.9826 | train mse 86.6312 | validation mse 49.9826\n"
     ]
    },
    {
     "name": "stderr",
     "output_type": "stream",
     "text": [
      "100%|██████████| 2/2 [00:00<00:00, 396.12it/s]\n",
      "  9%|▉         | 9/100 [00:00<00:01, 46.20it/s]"
     ]
    },
    {
     "name": "stdout",
     "output_type": "stream",
     "text": [
      "epoch    8 | train loss 86.3373 | validation loss 39.2676 | train mse 86.3373 | validation mse 39.2676\n"
     ]
    },
    {
     "name": "stderr",
     "output_type": "stream",
     "text": [
      "100%|██████████| 2/2 [00:00<00:00, 404.09it/s]\n"
     ]
    },
    {
     "name": "stdout",
     "output_type": "stream",
     "text": [
      "epoch    9 | train loss 86.0317 | validation loss 37.9405 | train mse 86.0317 | validation mse 37.9405\n"
     ]
    },
    {
     "name": "stderr",
     "output_type": "stream",
     "text": [
      "100%|██████████| 2/2 [00:00<00:00, 460.33it/s]\n"
     ]
    },
    {
     "name": "stdout",
     "output_type": "stream",
     "text": [
      "epoch   10 | train loss 85.7148 | validation loss 57.7218 | train mse 85.7148 | validation mse 57.7218\n"
     ]
    },
    {
     "name": "stderr",
     "output_type": "stream",
     "text": [
      "100%|██████████| 2/2 [00:00<00:00, 547.45it/s]\n"
     ]
    },
    {
     "name": "stdout",
     "output_type": "stream",
     "text": [
      "epoch   11 | train loss 85.3881 | validation loss 46.2980 | train mse 85.3881 | validation mse 46.2980\n"
     ]
    },
    {
     "name": "stderr",
     "output_type": "stream",
     "text": [
      "100%|██████████| 2/2 [00:00<00:00, 331.19it/s]\n"
     ]
    },
    {
     "name": "stdout",
     "output_type": "stream",
     "text": [
      "epoch   12 | train loss 85.0477 | validation loss 48.7943 | train mse 85.0477 | validation mse 48.7943\n"
     ]
    },
    {
     "name": "stderr",
     "output_type": "stream",
     "text": [
      "100%|██████████| 2/2 [00:00<00:00, 383.80it/s]\n"
     ]
    },
    {
     "name": "stdout",
     "output_type": "stream",
     "text": [
      "epoch   13 | train loss 84.6943 | validation loss 37.0789 | train mse 84.6943 | validation mse 37.0789\n"
     ]
    },
    {
     "name": "stderr",
     "output_type": "stream",
     "text": [
      "100%|██████████| 2/2 [00:00<00:00, 527.59it/s]\n"
     ]
    },
    {
     "name": "stdout",
     "output_type": "stream",
     "text": [
      "epoch   14 | train loss 84.3265 | validation loss 51.3448 | train mse 84.3265 | validation mse 51.3448\n"
     ]
    },
    {
     "name": "stderr",
     "output_type": "stream",
     "text": [
      "100%|██████████| 2/2 [00:00<00:00, 560.81it/s]\n",
      " 16%|█▌        | 16/100 [00:00<00:01, 53.31it/s]"
     ]
    },
    {
     "name": "stdout",
     "output_type": "stream",
     "text": [
      "epoch   15 | train loss 83.9445 | validation loss 47.4171 | train mse 83.9445 | validation mse 47.4171\n"
     ]
    },
    {
     "name": "stderr",
     "output_type": "stream",
     "text": [
      "100%|██████████| 2/2 [00:00<00:00, 596.80it/s]\n"
     ]
    },
    {
     "name": "stdout",
     "output_type": "stream",
     "text": [
      "epoch   16 | train loss 83.5473 | validation loss 44.0589 | train mse 83.5473 | validation mse 44.0589\n"
     ]
    },
    {
     "name": "stderr",
     "output_type": "stream",
     "text": [
      "100%|██████████| 2/2 [00:00<00:00, 417.09it/s]\n"
     ]
    },
    {
     "name": "stdout",
     "output_type": "stream",
     "text": [
      "epoch   17 | train loss 83.1356 | validation loss 39.9394 | train mse 83.1356 | validation mse 39.9394\n"
     ]
    },
    {
     "name": "stderr",
     "output_type": "stream",
     "text": [
      "100%|██████████| 2/2 [00:00<00:00, 684.00it/s]\n"
     ]
    },
    {
     "name": "stdout",
     "output_type": "stream",
     "text": [
      "epoch   18 | train loss 82.7087 | validation loss 43.9300 | train mse 82.7087 | validation mse 43.9300\n"
     ]
    },
    {
     "name": "stderr",
     "output_type": "stream",
     "text": [
      "100%|██████████| 2/2 [00:00<00:00, 428.71it/s]\n"
     ]
    },
    {
     "name": "stdout",
     "output_type": "stream",
     "text": [
      "epoch   19 | train loss 82.2655 | validation loss 40.5801 | train mse 82.2655 | validation mse 40.5801\n"
     ]
    },
    {
     "name": "stderr",
     "output_type": "stream",
     "text": [
      "100%|██████████| 2/2 [00:00<00:00, 756.21it/s]\n"
     ]
    },
    {
     "name": "stdout",
     "output_type": "stream",
     "text": [
      "epoch   20 | train loss 81.8045 | validation loss 33.8633 | train mse 81.8045 | validation mse 33.8633\n"
     ]
    },
    {
     "name": "stderr",
     "output_type": "stream",
     "text": [
      "100%|██████████| 2/2 [00:00<00:00, 788.33it/s]\n"
     ]
    },
    {
     "name": "stdout",
     "output_type": "stream",
     "text": [
      "epoch   21 | train loss 81.3269 | validation loss 46.0241 | train mse 81.3269 | validation mse 46.0241\n"
     ]
    },
    {
     "name": "stderr",
     "output_type": "stream",
     "text": [
      "100%|██████████| 2/2 [00:00<00:00, 313.41it/s]\n"
     ]
    },
    {
     "name": "stdout",
     "output_type": "stream",
     "text": [
      "epoch   22 | train loss 80.8329 | validation loss 50.8270 | train mse 80.8329 | validation mse 50.8270\n"
     ]
    },
    {
     "name": "stderr",
     "output_type": "stream",
     "text": [
      "100%|██████████| 2/2 [00:00<00:00, 562.92it/s]\n",
      " 24%|██▍       | 24/100 [00:00<00:01, 59.01it/s]"
     ]
    },
    {
     "name": "stdout",
     "output_type": "stream",
     "text": [
      "epoch   23 | train loss 80.3204 | validation loss 37.7650 | train mse 80.3204 | validation mse 37.7650\n"
     ]
    },
    {
     "name": "stderr",
     "output_type": "stream",
     "text": [
      "100%|██████████| 2/2 [00:00<00:00, 397.83it/s]\n"
     ]
    },
    {
     "name": "stdout",
     "output_type": "stream",
     "text": [
      "epoch   24 | train loss 79.7905 | validation loss 40.3139 | train mse 79.7905 | validation mse 40.3139\n"
     ]
    },
    {
     "name": "stderr",
     "output_type": "stream",
     "text": [
      "100%|██████████| 2/2 [00:00<00:00, 330.07it/s]\n"
     ]
    },
    {
     "name": "stdout",
     "output_type": "stream",
     "text": [
      "epoch   25 | train loss 79.2433 | validation loss 37.3051 | train mse 79.2433 | validation mse 37.3051\n"
     ]
    },
    {
     "name": "stderr",
     "output_type": "stream",
     "text": [
      "100%|██████████| 2/2 [00:00<00:00, 339.69it/s]"
     ]
    },
    {
     "name": "stdout",
     "output_type": "stream",
     "text": [
      "epoch   26 | train loss 78.6787 | validation loss 43.5458"
     ]
    },
    {
     "name": "stderr",
     "output_type": "stream",
     "text": [
      "\n"
     ]
    },
    {
     "name": "stdout",
     "output_type": "stream",
     "text": [
      " | train mse 78.6787 | validation mse 43.5458\n"
     ]
    },
    {
     "name": "stderr",
     "output_type": "stream",
     "text": [
      "100%|██████████| 2/2 [00:00<00:00, 375.65it/s]\n"
     ]
    },
    {
     "name": "stdout",
     "output_type": "stream",
     "text": [
      "epoch   27 | train loss 78.0966 | validation loss 39.6182 | train mse 78.0966 | validation mse 39.6182\n"
     ]
    },
    {
     "name": "stderr",
     "output_type": "stream",
     "text": [
      "100%|██████████| 2/2 [00:00<00:00, 276.67it/s]\n"
     ]
    },
    {
     "name": "stdout",
     "output_type": "stream",
     "text": [
      "epoch   28 | train loss 77.4963 | validation loss 38.8234 | train mse 77.4963 | validation mse 38.8234\n"
     ]
    },
    {
     "name": "stderr",
     "output_type": "stream",
     "text": [
      "100%|██████████| 2/2 [00:00<00:00, 355.81it/s]\n",
      " 30%|███       | 30/100 [00:00<00:01, 54.55it/s]"
     ]
    },
    {
     "name": "stdout",
     "output_type": "stream",
     "text": [
      "epoch   29 | train loss 76.8781 | validation loss 47.5543 | train mse 76.8781 | validation mse 47.5543\n"
     ]
    },
    {
     "name": "stderr",
     "output_type": "stream",
     "text": [
      "100%|██████████| 2/2 [00:00<00:00, 505.73it/s]\n"
     ]
    },
    {
     "name": "stdout",
     "output_type": "stream",
     "text": [
      "epoch   30 | train loss 76.2416 | validation loss 38.4446 | train mse 76.2416 | validation mse 38.4446\n"
     ]
    },
    {
     "name": "stderr",
     "output_type": "stream",
     "text": [
      "100%|██████████| 2/2 [00:00<00:00, 234.60it/s]\n"
     ]
    },
    {
     "name": "stdout",
     "output_type": "stream",
     "text": [
      "epoch   31 | train loss 75.5869 | validation loss 33.7212 | train mse 75.5869 | validation mse 33.7212\n"
     ]
    },
    {
     "name": "stderr",
     "output_type": "stream",
     "text": [
      "100%|██████████| 2/2 [00:00<00:00, 343.20it/s]\n"
     ]
    },
    {
     "name": "stdout",
     "output_type": "stream",
     "text": [
      "epoch   32 | train loss 74.9140 | validation loss 45.8629 | train mse 74.9140 | validation mse 45.8629\n"
     ]
    },
    {
     "name": "stderr",
     "output_type": "stream",
     "text": [
      "100%|██████████| 2/2 [00:00<00:00, 388.06it/s]\n"
     ]
    },
    {
     "name": "stdout",
     "output_type": "stream",
     "text": [
      "epoch   33 | train loss 74.2228 | validation loss 30.2216 | train mse 74.2228 | validation mse 30.2216\n"
     ]
    },
    {
     "name": "stderr",
     "output_type": "stream",
     "text": [
      "100%|██████████| 2/2 [00:00<00:00, 362.61it/s]\n"
     ]
    },
    {
     "name": "stdout",
     "output_type": "stream",
     "text": [
      "epoch   34 | train loss 73.5135 | validation loss 45.7646 | train mse 73.5135 | validation mse 45.7646\n"
     ]
    },
    {
     "name": "stderr",
     "output_type": "stream",
     "text": [
      "100%|██████████| 2/2 [00:00<00:00, 338.74it/s]\n",
      " 36%|███▌      | 36/100 [00:00<00:01, 53.55it/s]"
     ]
    },
    {
     "name": "stdout",
     "output_type": "stream",
     "text": [
      "epoch   35 | train loss 72.7860 | validation loss 50.5187 | train mse 72.7860 | validation mse 50.5187\n"
     ]
    },
    {
     "name": "stderr",
     "output_type": "stream",
     "text": [
      "100%|██████████| 2/2 [00:00<00:00, 417.36it/s]\n"
     ]
    },
    {
     "name": "stdout",
     "output_type": "stream",
     "text": [
      "epoch   36 | train loss 72.0408 | validation loss 39.2880 | train mse 72.0408 | validation mse 39.2880\n"
     ]
    },
    {
     "name": "stderr",
     "output_type": "stream",
     "text": [
      "100%|██████████| 2/2 [00:00<00:00, 610.57it/s]\n"
     ]
    },
    {
     "name": "stdout",
     "output_type": "stream",
     "text": [
      "epoch   37 | train loss 71.2784 | validation loss 35.3538 | train mse 71.2784 | validation mse 35.3538\n"
     ]
    },
    {
     "name": "stderr",
     "output_type": "stream",
     "text": [
      "100%|██████████| 2/2 [00:00<00:00, 203.78it/s]\n"
     ]
    },
    {
     "name": "stdout",
     "output_type": "stream",
     "text": [
      "epoch   38 | train loss 70.4986 | validation loss 39.4989 | train mse 70.4986 | validation mse 39.4989\n"
     ]
    },
    {
     "name": "stderr",
     "output_type": "stream",
     "text": [
      "100%|██████████| 2/2 [00:00<00:00, 404.86it/s]\n"
     ]
    },
    {
     "name": "stdout",
     "output_type": "stream",
     "text": [
      "epoch   39 | train loss 69.7016 | validation loss 39.1787 | train mse 69.7016 | validation mse 39.1787\n"
     ]
    },
    {
     "name": "stderr",
     "output_type": "stream",
     "text": [
      "100%|██████████| 2/2 [00:00<00:00, 447.20it/s]\n"
     ]
    },
    {
     "name": "stdout",
     "output_type": "stream",
     "text": [
      "epoch   40 | train loss 68.8883 | validation loss 32.7229 | train mse 68.8883 | validation mse 32.7229\n"
     ]
    },
    {
     "name": "stderr",
     "output_type": "stream",
     "text": [
      "100%|██████████| 2/2 [00:00<00:00, 316.66it/s]\n",
      " 42%|████▏     | 42/100 [00:00<00:01, 55.15it/s]"
     ]
    },
    {
     "name": "stdout",
     "output_type": "stream",
     "text": [
      "epoch   41 | train loss 68.0582 | validation loss 44.2267 | train mse 68.0582 | validation mse 44.2267\n"
     ]
    },
    {
     "name": "stderr",
     "output_type": "stream",
     "text": [
      "100%|██████████| 2/2 [00:00<00:00, 461.29it/s]\n"
     ]
    },
    {
     "name": "stdout",
     "output_type": "stream",
     "text": [
      "epoch   42 | train loss 67.2125 | validation loss 48.2078 | train mse 67.2125 | validation mse 48.2078\n"
     ]
    },
    {
     "name": "stderr",
     "output_type": "stream",
     "text": [
      "100%|██████████| 2/2 [00:00<00:00, 433.27it/s]\n"
     ]
    },
    {
     "name": "stdout",
     "output_type": "stream",
     "text": [
      "epoch   43 | train loss 66.3511 | validation loss 31.7008 | train mse 66.3511 | validation mse 31.7008\n"
     ]
    },
    {
     "name": "stderr",
     "output_type": "stream",
     "text": [
      "100%|██████████| 2/2 [00:00<00:00, 453.56it/s]"
     ]
    },
    {
     "name": "stdout",
     "output_type": "stream",
     "text": [
      "epoch   44 | train loss 65.4752 | validation loss 33.9391 | train mse 65.4752 | validation mse 33.9391\n"
     ]
    },
    {
     "name": "stderr",
     "output_type": "stream",
     "text": [
      "\n",
      "100%|██████████| 2/2 [00:00<00:00, 361.55it/s]\n"
     ]
    },
    {
     "name": "stdout",
     "output_type": "stream",
     "text": [
      "epoch   45 | train loss 64.5851 | validation loss 36.0367 | train mse 64.5851 | validation mse 36.0367\n"
     ]
    },
    {
     "name": "stderr",
     "output_type": "stream",
     "text": [
      "100%|██████████| 2/2 [00:00<00:00, 414.07it/s]\n"
     ]
    },
    {
     "name": "stdout",
     "output_type": "stream",
     "text": [
      "epoch   46 | train loss 63.6816 | validation loss 35.3341 | train mse 63.6816 | validation mse 35.3341\n"
     ]
    },
    {
     "name": "stderr",
     "output_type": "stream",
     "text": [
      "100%|██████████| 2/2 [00:00<00:00, 462.39it/s]\n",
      " 48%|████▊     | 48/100 [00:00<00:00, 54.51it/s]"
     ]
    },
    {
     "name": "stdout",
     "output_type": "stream",
     "text": [
      "epoch   47 | train loss 62.7660 | validation loss 36.2132 | train mse 62.7660 | validation mse 36.2132\n"
     ]
    },
    {
     "name": "stderr",
     "output_type": "stream",
     "text": [
      "100%|██████████| 2/2 [00:00<00:00, 279.03it/s]\n"
     ]
    },
    {
     "name": "stdout",
     "output_type": "stream",
     "text": [
      "epoch   48 | train loss 61.8391 | validation loss 29.2053 | train mse 61.8391 | validation mse 29.2053\n"
     ]
    },
    {
     "name": "stderr",
     "output_type": "stream",
     "text": [
      "100%|██████████| 2/2 [00:00<00:00, 509.26it/s]\n"
     ]
    },
    {
     "name": "stdout",
     "output_type": "stream",
     "text": [
      "epoch   49 | train loss 60.9018 | validation loss 25.6012 | train mse 60.9018 | validation mse 25.6012\n"
     ]
    },
    {
     "name": "stderr",
     "output_type": "stream",
     "text": [
      "100%|██████████| 2/2 [00:00<00:00, 545.03it/s]\n"
     ]
    },
    {
     "name": "stdout",
     "output_type": "stream",
     "text": [
      "epoch   50 | train loss 59.9549 | validation loss 32.4678 | train mse 59.9549 | validation mse 32.4678\n"
     ]
    },
    {
     "name": "stderr",
     "output_type": "stream",
     "text": [
      "100%|██████████| 2/2 [00:00<00:00, 462.34it/s]\n"
     ]
    },
    {
     "name": "stdout",
     "output_type": "stream",
     "text": [
      "epoch   51 | train loss 58.9985 | validation loss 33.1218 | train mse 58.9985 | validation mse 33.1218\n"
     ]
    },
    {
     "name": "stderr",
     "output_type": "stream",
     "text": [
      "100%|██████████| 2/2 [00:00<00:00, 467.49it/s]\n"
     ]
    },
    {
     "name": "stdout",
     "output_type": "stream",
     "text": [
      "epoch   52 | train loss 58.0344 | validation loss 28.3726 | train mse 58.0344 | validation mse 28.3726\n"
     ]
    },
    {
     "name": "stderr",
     "output_type": "stream",
     "text": [
      "100%|██████████| 2/2 [00:00<00:00, 637.58it/s]\n"
     ]
    },
    {
     "name": "stdout",
     "output_type": "stream",
     "text": [
      "epoch   53 | train loss 57.0638 | validation loss 28.2380 | train mse 57.0638 | validation mse 28.2380\n"
     ]
    },
    {
     "name": "stderr",
     "output_type": "stream",
     "text": [
      "100%|██████████| 2/2 [00:00<00:00, 335.73it/s]\n",
      " 55%|█████▌    | 55/100 [00:01<00:00, 56.60it/s]"
     ]
    },
    {
     "name": "stdout",
     "output_type": "stream",
     "text": [
      "epoch   54 | train loss 56.0879 | validation loss 24.1819 | train mse 56.0879 | validation mse 24.1819\n"
     ]
    },
    {
     "name": "stderr",
     "output_type": "stream",
     "text": [
      "100%|██████████| 2/2 [00:00<00:00, 513.35it/s]\n"
     ]
    },
    {
     "name": "stdout",
     "output_type": "stream",
     "text": [
      "epoch   55 | train loss 55.1072 | validation loss 28.2334 | train mse 55.1072 | validation mse 28.2334\n"
     ]
    },
    {
     "name": "stderr",
     "output_type": "stream",
     "text": [
      "100%|██████████| 2/2 [00:00<00:00, 353.23it/s]\n"
     ]
    },
    {
     "name": "stdout",
     "output_type": "stream",
     "text": [
      "epoch   56 | train loss 54.1235 | validation loss 30.5699 | train mse 54.1235 | validation mse 30.5699\n"
     ]
    },
    {
     "name": "stderr",
     "output_type": "stream",
     "text": [
      "100%|██████████| 2/2 [00:00<00:00, 288.91it/s]\n"
     ]
    },
    {
     "name": "stdout",
     "output_type": "stream",
     "text": [
      "epoch   57 | train loss 53.1369 | validation loss 27.0914 | train mse 53.1369 | validation mse 27.0914\n"
     ]
    },
    {
     "name": "stderr",
     "output_type": "stream",
     "text": [
      "100%|██████████| 2/2 [00:00<00:00, 553.85it/s]\n"
     ]
    },
    {
     "name": "stdout",
     "output_type": "stream",
     "text": [
      "epoch   58 | train loss 52.1493 | validation loss 22.5732 | train mse 52.1493 | validation mse 22.5732\n"
     ]
    },
    {
     "name": "stderr",
     "output_type": "stream",
     "text": [
      "100%|██████████| 2/2 [00:00<00:00, 582.46it/s]\n"
     ]
    },
    {
     "name": "stdout",
     "output_type": "stream",
     "text": [
      "epoch   59 | train loss 51.1610 | validation loss 26.6479 | train mse 51.1610 | validation mse 26.6479\n"
     ]
    },
    {
     "name": "stderr",
     "output_type": "stream",
     "text": [
      "100%|██████████| 2/2 [00:00<00:00, 343.47it/s]\n",
      " 61%|██████    | 61/100 [00:01<00:00, 57.56it/s]"
     ]
    },
    {
     "name": "stdout",
     "output_type": "stream",
     "text": [
      "epoch   60 | train loss 50.1742 | validation loss 27.5082 | train mse 50.1742 | validation mse 27.5082\n"
     ]
    },
    {
     "name": "stderr",
     "output_type": "stream",
     "text": [
      "100%|██████████| 2/2 [00:00<00:00, 341.14it/s]\n"
     ]
    },
    {
     "name": "stdout",
     "output_type": "stream",
     "text": [
      "epoch   61 | train loss 49.1901 | validation loss 26.1191 | train mse 49.1901 | validation mse 26.1191\n"
     ]
    },
    {
     "name": "stderr",
     "output_type": "stream",
     "text": [
      "100%|██████████| 2/2 [00:00<00:00, 363.87it/s]\n"
     ]
    },
    {
     "name": "stdout",
     "output_type": "stream",
     "text": [
      "epoch   62 | train loss 48.2088 | validation loss 22.9209 | train mse 48.2088 | validation mse 22.9209\n"
     ]
    },
    {
     "name": "stderr",
     "output_type": "stream",
     "text": [
      "100%|██████████| 2/2 [00:00<00:00, 350.05it/s]\n"
     ]
    },
    {
     "name": "stdout",
     "output_type": "stream",
     "text": [
      "epoch   63 | train loss 47.2325 | validation loss 23.0282 | train mse 47.2325 | validation mse 23.0282\n"
     ]
    },
    {
     "name": "stderr",
     "output_type": "stream",
     "text": [
      "100%|██████████| 2/2 [00:00<00:00, 386.13it/s]\n"
     ]
    },
    {
     "name": "stdout",
     "output_type": "stream",
     "text": [
      "epoch   64 | train loss 46.2614 | validation loss 23.4827 | train mse 46.2614 | validation mse 23.4827\n"
     ]
    },
    {
     "name": "stderr",
     "output_type": "stream",
     "text": [
      "100%|██████████| 2/2 [00:00<00:00, 357.88it/s]\n"
     ]
    },
    {
     "name": "stdout",
     "output_type": "stream",
     "text": [
      "epoch   65 | train loss 45.2950 | validation loss 24.1154 | train mse 45.2950 | validation mse 24.1154\n"
     ]
    },
    {
     "name": "stderr",
     "output_type": "stream",
     "text": [
      "100%|██████████| 2/2 [00:00<00:00, 375.30it/s]\n",
      " 67%|██████▋   | 67/100 [00:01<00:00, 57.72it/s]"
     ]
    },
    {
     "name": "stdout",
     "output_type": "stream",
     "text": [
      "epoch   66 | train loss 44.3354 | validation loss 21.9900 | train mse 44.3354 | validation mse 21.9900\n"
     ]
    },
    {
     "name": "stderr",
     "output_type": "stream",
     "text": [
      "100%|██████████| 2/2 [00:00<00:00, 464.54it/s]\n"
     ]
    },
    {
     "name": "stdout",
     "output_type": "stream",
     "text": [
      "epoch   67 | train loss 43.3829 | validation loss 25.1897 | train mse 43.3829 | validation mse 25.1897\n"
     ]
    },
    {
     "name": "stderr",
     "output_type": "stream",
     "text": [
      "100%|██████████| 2/2 [00:00<00:00, 548.60it/s]\n"
     ]
    },
    {
     "name": "stdout",
     "output_type": "stream",
     "text": [
      "epoch   68 | train loss 42.4392 | validation loss 19.1580 | train mse 42.4392 | validation mse 19.1580\n"
     ]
    },
    {
     "name": "stderr",
     "output_type": "stream",
     "text": [
      "100%|██████████| 2/2 [00:00<00:00, 316.63it/s]\n"
     ]
    },
    {
     "name": "stdout",
     "output_type": "stream",
     "text": [
      "epoch   69 | train loss 41.5053 | validation loss 26.7918 | train mse 41.5053 | validation mse 26.7918\n"
     ]
    },
    {
     "name": "stderr",
     "output_type": "stream",
     "text": [
      "100%|██████████| 2/2 [00:00<00:00, 328.42it/s]\n"
     ]
    },
    {
     "name": "stdout",
     "output_type": "stream",
     "text": [
      "epoch   70 | train loss 40.5819 | validation loss 17.2920 | train mse 40.5819 | validation mse 17.2920\n"
     ]
    },
    {
     "name": "stderr",
     "output_type": "stream",
     "text": [
      "100%|██████████| 2/2 [00:00<00:00, 497.19it/s]\n"
     ]
    },
    {
     "name": "stdout",
     "output_type": "stream",
     "text": [
      "epoch   71 | train loss 39.6697 | validation loss 17.8072 | train mse 39.6697 | validation mse 17.8072\n"
     ]
    },
    {
     "name": "stderr",
     "output_type": "stream",
     "text": [
      "100%|██████████| 2/2 [00:00<00:00, 457.94it/s]\n"
     ]
    },
    {
     "name": "stdout",
     "output_type": "stream",
     "text": [
      "epoch   72 | train loss 38.7681 | validation loss 20.0608 | train mse 38.7681 | validation mse 20.0608\n"
     ]
    },
    {
     "name": "stderr",
     "output_type": "stream",
     "text": [
      "100%|██████████| 2/2 [00:00<00:00, 420.31it/s]\n",
      " 74%|███████▍  | 74/100 [00:01<00:00, 60.37it/s]"
     ]
    },
    {
     "name": "stdout",
     "output_type": "stream",
     "text": [
      "epoch   73 | train loss 37.8789 | validation loss 23.0912 | train mse 37.8789 | validation mse 23.0912\n"
     ]
    },
    {
     "name": "stderr",
     "output_type": "stream",
     "text": [
      "100%|██████████| 2/2 [00:00<00:00, 369.44it/s]\n"
     ]
    },
    {
     "name": "stdout",
     "output_type": "stream",
     "text": [
      "epoch   74 | train loss 37.0039 | validation loss 17.7246 | train mse 37.0039 | validation mse 17.7246\n"
     ]
    },
    {
     "name": "stderr",
     "output_type": "stream",
     "text": [
      "100%|██████████| 2/2 [00:00<00:00, 610.44it/s]\n"
     ]
    },
    {
     "name": "stdout",
     "output_type": "stream",
     "text": [
      "epoch   75 | train loss 36.1435 | validation loss 15.5778 | train mse 36.1435 | validation mse 15.5778\n"
     ]
    },
    {
     "name": "stderr",
     "output_type": "stream",
     "text": [
      "100%|██████████| 2/2 [00:00<00:00, 595.91it/s]\n"
     ]
    },
    {
     "name": "stdout",
     "output_type": "stream",
     "text": [
      "epoch   76 | train loss 35.2987 | validation loss 16.4384 | train mse 35.2987 | validation mse 16.4384\n"
     ]
    },
    {
     "name": "stderr",
     "output_type": "stream",
     "text": [
      "100%|██████████| 2/2 [00:00<00:00, 494.41it/s]\n"
     ]
    },
    {
     "name": "stdout",
     "output_type": "stream",
     "text": [
      "epoch   77 | train loss 34.4699 | validation loss 17.8225 | train mse 34.4699 | validation mse 17.8225\n"
     ]
    },
    {
     "name": "stderr",
     "output_type": "stream",
     "text": [
      "100%|██████████| 2/2 [00:00<00:00, 683.33it/s]\n"
     ]
    },
    {
     "name": "stdout",
     "output_type": "stream",
     "text": [
      "epoch   78 | train loss 33.6568 | validation loss 20.7008 | train mse 33.6568 | validation mse 20.7008\n"
     ]
    },
    {
     "name": "stderr",
     "output_type": "stream",
     "text": [
      "100%|██████████| 2/2 [00:00<00:00, 617.31it/s]\n"
     ]
    },
    {
     "name": "stdout",
     "output_type": "stream",
     "text": [
      "epoch   79 | train loss 32.8600 | validation loss 17.0120 | train mse 32.8600 | validation mse 17.0120\n"
     ]
    },
    {
     "name": "stderr",
     "output_type": "stream",
     "text": [
      "100%|██████████| 2/2 [00:00<00:00, 639.18it/s]\n"
     ]
    },
    {
     "name": "stdout",
     "output_type": "stream",
     "text": [
      "epoch   80 | train loss 32.0803 | validation loss 16.4441 | train mse 32.0803 | validation mse 16.4441\n"
     ]
    },
    {
     "name": "stderr",
     "output_type": "stream",
     "text": [
      "100%|██████████| 2/2 [00:00<00:00, 310.30it/s]\n",
      " 82%|████████▏ | 82/100 [00:01<00:00, 64.35it/s]"
     ]
    },
    {
     "name": "stdout",
     "output_type": "stream",
     "text": [
      "epoch   81 | train loss 31.3179 | validation loss 11.8247 | train mse 31.3179 | validation mse 11.8247\n"
     ]
    },
    {
     "name": "stderr",
     "output_type": "stream",
     "text": [
      "100%|██████████| 2/2 [00:00<00:00, 795.88it/s]\n"
     ]
    },
    {
     "name": "stdout",
     "output_type": "stream",
     "text": [
      "epoch   82 | train loss 30.5719 | validation loss 16.2334 | train mse 30.5719 | validation mse 16.2334\n"
     ]
    },
    {
     "name": "stderr",
     "output_type": "stream",
     "text": [
      "100%|██████████| 2/2 [00:00<00:00, 399.59it/s]\n"
     ]
    },
    {
     "name": "stdout",
     "output_type": "stream",
     "text": [
      "epoch   83 | train loss 29.8438 | validation loss 14.5965 | train mse 29.8438 | validation mse 14.5965\n"
     ]
    },
    {
     "name": "stderr",
     "output_type": "stream",
     "text": [
      "100%|██████████| 2/2 [00:00<00:00, 537.77it/s]\n"
     ]
    },
    {
     "name": "stdout",
     "output_type": "stream",
     "text": [
      "epoch   84 | train loss 29.1341 | validation loss 13.1828 | train mse 29.1341 | validation mse 13.1828\n"
     ]
    },
    {
     "name": "stderr",
     "output_type": "stream",
     "text": [
      "100%|██████████| 2/2 [00:00<00:00, 367.55it/s]\n"
     ]
    },
    {
     "name": "stdout",
     "output_type": "stream",
     "text": [
      "epoch   85 | train loss 28.4426 | validation loss 12.2839 | train mse 28.4426 | validation mse 12.2839\n"
     ]
    },
    {
     "name": "stderr",
     "output_type": "stream",
     "text": [
      "100%|██████████| 2/2 [00:00<00:00, 530.29it/s]\n"
     ]
    },
    {
     "name": "stdout",
     "output_type": "stream",
     "text": [
      "epoch   86 | train loss 27.7704 | validation loss 11.1899 | train mse 27.7704 | validation mse 11.1899\n"
     ]
    },
    {
     "name": "stderr",
     "output_type": "stream",
     "text": [
      "100%|██████████| 2/2 [00:00<00:00, 706.11it/s]\n"
     ]
    },
    {
     "name": "stdout",
     "output_type": "stream",
     "text": [
      "epoch   87 | train loss 27.1172 | validation loss 11.6502 | train mse 27.1172 | validation mse 11.6502\n"
     ]
    },
    {
     "name": "stderr",
     "output_type": "stream",
     "text": [
      "100%|██████████| 2/2 [00:00<00:00, 404.25it/s]\n"
     ]
    },
    {
     "name": "stdout",
     "output_type": "stream",
     "text": [
      "epoch   88 | train loss 26.4821 | validation loss 10.2489 | train mse 26.4821 | validation mse 10.2489\n"
     ]
    },
    {
     "name": "stderr",
     "output_type": "stream",
     "text": [
      "100%|██████████| 2/2 [00:00<00:00, 360.04it/s]\n"
     ]
    },
    {
     "name": "stdout",
     "output_type": "stream",
     "text": [
      "epoch   89 | train loss 25.8646 | validation loss 14.2696"
     ]
    },
    {
     "name": "stderr",
     "output_type": "stream",
     "text": [
      " 90%|█████████ | 90/100 [00:01<00:00, 66.92it/s]"
     ]
    },
    {
     "name": "stdout",
     "output_type": "stream",
     "text": [
      " | train mse 25.8646 | validation mse 14.2696\n"
     ]
    },
    {
     "name": "stderr",
     "output_type": "stream",
     "text": [
      "100%|██████████| 2/2 [00:00<00:00, 571.12it/s]\n"
     ]
    },
    {
     "name": "stdout",
     "output_type": "stream",
     "text": [
      "epoch   90 | train loss 25.2654 | validation loss 12.0294 | train mse 25.2654 | validation mse 12.0294\n"
     ]
    },
    {
     "name": "stderr",
     "output_type": "stream",
     "text": [
      "100%|██████████| 2/2 [00:00<00:00, 684.73it/s]\n"
     ]
    },
    {
     "name": "stdout",
     "output_type": "stream",
     "text": [
      "epoch   91 | train loss 24.6843 | validation loss 10.9608 | train mse 24.6843 | validation mse 10.9608\n"
     ]
    },
    {
     "name": "stderr",
     "output_type": "stream",
     "text": [
      "100%|██████████| 2/2 [00:00<00:00, 347.37it/s]\n"
     ]
    },
    {
     "name": "stdout",
     "output_type": "stream",
     "text": [
      "epoch   92 | train loss 24.1216 | validation loss 12.1423 | train mse 24.1216 | validation mse 12.1423\n"
     ]
    },
    {
     "name": "stderr",
     "output_type": "stream",
     "text": [
      "100%|██████████| 2/2 [00:00<00:00, 496.02it/s]\n"
     ]
    },
    {
     "name": "stdout",
     "output_type": "stream",
     "text": [
      "epoch   93 | train loss 23.5778 | validation loss 11.8313 | train mse 23.5778 | validation mse 11.8313\n"
     ]
    },
    {
     "name": "stderr",
     "output_type": "stream",
     "text": [
      "100%|██████████| 2/2 [00:00<00:00, 723.03it/s]\n"
     ]
    },
    {
     "name": "stdout",
     "output_type": "stream",
     "text": [
      "epoch   94 | train loss 23.0521 | validation loss 12.3991 | train mse 23.0521 | validation mse 12.3991\n"
     ]
    },
    {
     "name": "stderr",
     "output_type": "stream",
     "text": [
      "100%|██████████| 2/2 [00:00<00:00, 762.46it/s]\n"
     ]
    },
    {
     "name": "stdout",
     "output_type": "stream",
     "text": [
      "epoch   95 | train loss 22.5446 | validation loss 12.6804 | train mse 22.5446 | validation mse 12.6804\n"
     ]
    },
    {
     "name": "stderr",
     "output_type": "stream",
     "text": [
      "100%|██████████| 2/2 [00:00<00:00, 461.60it/s]\n"
     ]
    },
    {
     "name": "stdout",
     "output_type": "stream",
     "text": [
      "epoch   96 | train loss 22.0542 | validation loss 7.5631 | train mse 22.0542 | validation mse 7.5631\n"
     ]
    },
    {
     "name": "stderr",
     "output_type": "stream",
     "text": [
      "100%|██████████| 2/2 [00:00<00:00, 740.59it/s]\n"
     ]
    },
    {
     "name": "stdout",
     "output_type": "stream",
     "text": [
      "epoch   97 | train loss 21.5810 | validation loss 11.2867 | train mse 21.5810 | validation mse 11.2867\n"
     ]
    },
    {
     "name": "stderr",
     "output_type": "stream",
     "text": [
      "100%|██████████| 2/2 [00:00<00:00, 608.80it/s]\n",
      " 99%|█████████▉| 99/100 [00:01<00:00, 72.01it/s]"
     ]
    },
    {
     "name": "stdout",
     "output_type": "stream",
     "text": [
      "epoch   98 | train loss 21.1250 | validation loss 9.8621 | train mse 21.1250 | validation mse 9.8621\n"
     ]
    },
    {
     "name": "stderr",
     "output_type": "stream",
     "text": [
      "100%|██████████| 2/2 [00:00<00:00, 463.15it/s]\n",
      "100%|██████████| 100/100 [00:01<00:00, 59.60it/s]\n"
     ]
    },
    {
     "name": "stdout",
     "output_type": "stream",
     "text": [
      "epoch   99 | train loss 20.6855 | validation loss 11.8056 | train mse 20.6855 | validation mse 11.8056\n",
      "{'validation_loss': [tensor(46.1973, device='cuda:0'), tensor(46.8986, device='cuda:0'), tensor(50.4367, device='cuda:0'), tensor(42.3308, device='cuda:0'), tensor(49.9823, device='cuda:0'), tensor(44.4643, device='cuda:0'), tensor(42.6561, device='cuda:0'), tensor(49.9826, device='cuda:0'), tensor(39.2676, device='cuda:0'), tensor(37.9405, device='cuda:0'), tensor(57.7218, device='cuda:0'), tensor(46.2980, device='cuda:0'), tensor(48.7943, device='cuda:0'), tensor(37.0789, device='cuda:0'), tensor(51.3448, device='cuda:0'), tensor(47.4171, device='cuda:0'), tensor(44.0589, device='cuda:0'), tensor(39.9394, device='cuda:0'), tensor(43.9300, device='cuda:0'), tensor(40.5801, device='cuda:0'), tensor(33.8633, device='cuda:0'), tensor(46.0241, device='cuda:0'), tensor(50.8270, device='cuda:0'), tensor(37.7650, device='cuda:0'), tensor(40.3139, device='cuda:0'), tensor(37.3051, device='cuda:0'), tensor(43.5458, device='cuda:0'), tensor(39.6182, device='cuda:0'), tensor(38.8234, device='cuda:0'), tensor(47.5543, device='cuda:0'), tensor(38.4446, device='cuda:0'), tensor(33.7212, device='cuda:0'), tensor(45.8629, device='cuda:0'), tensor(30.2216, device='cuda:0'), tensor(45.7646, device='cuda:0'), tensor(50.5187, device='cuda:0'), tensor(39.2880, device='cuda:0'), tensor(35.3538, device='cuda:0'), tensor(39.4989, device='cuda:0'), tensor(39.1787, device='cuda:0'), tensor(32.7229, device='cuda:0'), tensor(44.2267, device='cuda:0'), tensor(48.2078, device='cuda:0'), tensor(31.7008, device='cuda:0'), tensor(33.9391, device='cuda:0'), tensor(36.0367, device='cuda:0'), tensor(35.3341, device='cuda:0'), tensor(36.2132, device='cuda:0'), tensor(29.2053, device='cuda:0'), tensor(25.6012, device='cuda:0'), tensor(32.4678, device='cuda:0'), tensor(33.1218, device='cuda:0'), tensor(28.3726, device='cuda:0'), tensor(28.2380, device='cuda:0'), tensor(24.1819, device='cuda:0'), tensor(28.2334, device='cuda:0'), tensor(30.5699, device='cuda:0'), tensor(27.0914, device='cuda:0'), tensor(22.5732, device='cuda:0'), tensor(26.6479, device='cuda:0'), tensor(27.5082, device='cuda:0'), tensor(26.1191, device='cuda:0'), tensor(22.9209, device='cuda:0'), tensor(23.0282, device='cuda:0'), tensor(23.4827, device='cuda:0'), tensor(24.1154, device='cuda:0'), tensor(21.9900, device='cuda:0'), tensor(25.1897, device='cuda:0'), tensor(19.1580, device='cuda:0'), tensor(26.7918, device='cuda:0'), tensor(17.2920, device='cuda:0'), tensor(17.8072, device='cuda:0'), tensor(20.0608, device='cuda:0'), tensor(23.0912, device='cuda:0'), tensor(17.7246, device='cuda:0'), tensor(15.5778, device='cuda:0'), tensor(16.4384, device='cuda:0'), tensor(17.8225, device='cuda:0'), tensor(20.7008, device='cuda:0'), tensor(17.0120, device='cuda:0'), tensor(16.4441, device='cuda:0'), tensor(11.8247, device='cuda:0'), tensor(16.2334, device='cuda:0'), tensor(14.5965, device='cuda:0'), tensor(13.1828, device='cuda:0'), tensor(12.2839, device='cuda:0'), tensor(11.1899, device='cuda:0'), tensor(11.6502, device='cuda:0'), tensor(10.2489, device='cuda:0'), tensor(14.2696, device='cuda:0'), tensor(12.0294, device='cuda:0'), tensor(10.9608, device='cuda:0'), tensor(12.1423, device='cuda:0'), tensor(11.8313, device='cuda:0'), tensor(12.3991, device='cuda:0'), tensor(12.6804, device='cuda:0'), tensor(7.5631, device='cuda:0'), tensor(11.2867, device='cuda:0'), tensor(9.8621, device='cuda:0'), tensor(11.8056, device='cuda:0')], 'validation_mse': [tensor(46.1973, device='cuda:0'), tensor(46.8986, device='cuda:0'), tensor(50.4367, device='cuda:0'), tensor(42.3308, device='cuda:0'), tensor(49.9823, device='cuda:0'), tensor(44.4643, device='cuda:0'), tensor(42.6561, device='cuda:0'), tensor(49.9826, device='cuda:0'), tensor(39.2676, device='cuda:0'), tensor(37.9405, device='cuda:0'), tensor(57.7218, device='cuda:0'), tensor(46.2980, device='cuda:0'), tensor(48.7943, device='cuda:0'), tensor(37.0789, device='cuda:0'), tensor(51.3448, device='cuda:0'), tensor(47.4171, device='cuda:0'), tensor(44.0589, device='cuda:0'), tensor(39.9394, device='cuda:0'), tensor(43.9300, device='cuda:0'), tensor(40.5801, device='cuda:0'), tensor(33.8633, device='cuda:0'), tensor(46.0241, device='cuda:0'), tensor(50.8270, device='cuda:0'), tensor(37.7650, device='cuda:0'), tensor(40.3139, device='cuda:0'), tensor(37.3051, device='cuda:0'), tensor(43.5458, device='cuda:0'), tensor(39.6182, device='cuda:0'), tensor(38.8234, device='cuda:0'), tensor(47.5543, device='cuda:0'), tensor(38.4446, device='cuda:0'), tensor(33.7212, device='cuda:0'), tensor(45.8629, device='cuda:0'), tensor(30.2216, device='cuda:0'), tensor(45.7646, device='cuda:0'), tensor(50.5187, device='cuda:0'), tensor(39.2880, device='cuda:0'), tensor(35.3538, device='cuda:0'), tensor(39.4989, device='cuda:0'), tensor(39.1787, device='cuda:0'), tensor(32.7229, device='cuda:0'), tensor(44.2267, device='cuda:0'), tensor(48.2078, device='cuda:0'), tensor(31.7008, device='cuda:0'), tensor(33.9391, device='cuda:0'), tensor(36.0367, device='cuda:0'), tensor(35.3341, device='cuda:0'), tensor(36.2132, device='cuda:0'), tensor(29.2053, device='cuda:0'), tensor(25.6012, device='cuda:0'), tensor(32.4678, device='cuda:0'), tensor(33.1218, device='cuda:0'), tensor(28.3726, device='cuda:0'), tensor(28.2380, device='cuda:0'), tensor(24.1819, device='cuda:0'), tensor(28.2334, device='cuda:0'), tensor(30.5699, device='cuda:0'), tensor(27.0914, device='cuda:0'), tensor(22.5732, device='cuda:0'), tensor(26.6479, device='cuda:0'), tensor(27.5082, device='cuda:0'), tensor(26.1191, device='cuda:0'), tensor(22.9209, device='cuda:0'), tensor(23.0282, device='cuda:0'), tensor(23.4827, device='cuda:0'), tensor(24.1154, device='cuda:0'), tensor(21.9900, device='cuda:0'), tensor(25.1897, device='cuda:0'), tensor(19.1580, device='cuda:0'), tensor(26.7918, device='cuda:0'), tensor(17.2920, device='cuda:0'), tensor(17.8072, device='cuda:0'), tensor(20.0608, device='cuda:0'), tensor(23.0912, device='cuda:0'), tensor(17.7246, device='cuda:0'), tensor(15.5778, device='cuda:0'), tensor(16.4384, device='cuda:0'), tensor(17.8225, device='cuda:0'), tensor(20.7008, device='cuda:0'), tensor(17.0120, device='cuda:0'), tensor(16.4441, device='cuda:0'), tensor(11.8247, device='cuda:0'), tensor(16.2334, device='cuda:0'), tensor(14.5965, device='cuda:0'), tensor(13.1828, device='cuda:0'), tensor(12.2839, device='cuda:0'), tensor(11.1899, device='cuda:0'), tensor(11.6502, device='cuda:0'), tensor(10.2489, device='cuda:0'), tensor(14.2696, device='cuda:0'), tensor(12.0294, device='cuda:0'), tensor(10.9608, device='cuda:0'), tensor(12.1423, device='cuda:0'), tensor(11.8313, device='cuda:0'), tensor(12.3991, device='cuda:0'), tensor(12.6804, device='cuda:0'), tensor(7.5631, device='cuda:0'), tensor(11.2867, device='cuda:0'), tensor(9.8621, device='cuda:0'), tensor(11.8056, device='cuda:0')], 'train_loss': [88.52529296875, 88.26804809570312, 88.005859375, 87.74006958007813, 87.47294921875, 87.19775390625, 86.91700439453125, 86.63117065429688, 86.33734741210938, 86.03170166015624, 85.714794921875, 85.38807983398438, 85.04765625, 84.694287109375, 84.32645874023437, 83.94445190429687, 83.547265625, 83.13562622070313, 82.708740234375, 82.26552734375, 81.80451049804688, 81.32688598632812, 80.83291015625, 80.3204345703125, 79.79051513671875, 79.24326171875, 78.67865600585938, 78.09657592773438, 77.49630737304688, 76.87806396484375, 76.24156494140625, 75.58693237304688, 74.91403198242188, 74.22277221679687, 73.51345825195312, 72.78602905273438, 72.04083862304688, 71.27836303710937, 70.49855346679688, 69.70162963867188, 68.88834228515626, 68.058203125, 67.21248168945313, 66.35114135742188, 65.47523193359375, 64.58505249023438, 63.681610107421875, 62.76600952148438, 61.83912963867188, 60.90177612304687, 59.9548583984375, 58.9985107421875, 58.034429931640624, 57.063836669921876, 56.087860107421875, 55.1072265625, 54.12354736328125, 53.136865234375, 52.14925537109375, 51.16102600097656, 50.17422790527344, 49.19005432128906, 48.208779907226564, 47.23252868652344, 46.26143188476563, 45.29501037597656, 44.33540649414063, 43.382870483398435, 42.43918151855469, 41.50528259277344, 40.581851196289065, 39.669741821289065, 38.7680908203125, 37.87891845703125, 37.003936767578125, 36.14353942871094, 35.298703002929685, 34.469879150390625, 33.65675354003906, 32.860043334960935, 32.080319213867185, 31.317916870117188, 30.57193603515625, 29.843814086914062, 29.134075927734376, 28.4426025390625, 27.77039794921875, 27.117236328125, 26.482089233398437, 25.864566040039062, 25.265396118164062, 24.684263610839842, 24.12159881591797, 23.577769470214843, 23.052085876464844, 22.54462890625, 22.054246520996095, 21.58101806640625, 21.125039672851564, 20.685545349121092], 'train_mse': [tensor(88.5253, device='cuda:0'), tensor(88.2681, device='cuda:0'), tensor(88.0059, device='cuda:0'), tensor(87.7401, device='cuda:0'), tensor(87.4730, device='cuda:0'), tensor(87.1978, device='cuda:0'), tensor(86.9170, device='cuda:0'), tensor(86.6312, device='cuda:0'), tensor(86.3373, device='cuda:0'), tensor(86.0317, device='cuda:0'), tensor(85.7148, device='cuda:0'), tensor(85.3881, device='cuda:0'), tensor(85.0477, device='cuda:0'), tensor(84.6943, device='cuda:0'), tensor(84.3265, device='cuda:0'), tensor(83.9445, device='cuda:0'), tensor(83.5473, device='cuda:0'), tensor(83.1356, device='cuda:0'), tensor(82.7087, device='cuda:0'), tensor(82.2655, device='cuda:0'), tensor(81.8045, device='cuda:0'), tensor(81.3269, device='cuda:0'), tensor(80.8329, device='cuda:0'), tensor(80.3204, device='cuda:0'), tensor(79.7905, device='cuda:0'), tensor(79.2433, device='cuda:0'), tensor(78.6787, device='cuda:0'), tensor(78.0966, device='cuda:0'), tensor(77.4963, device='cuda:0'), tensor(76.8781, device='cuda:0'), tensor(76.2416, device='cuda:0'), tensor(75.5869, device='cuda:0'), tensor(74.9140, device='cuda:0'), tensor(74.2228, device='cuda:0'), tensor(73.5135, device='cuda:0'), tensor(72.7860, device='cuda:0'), tensor(72.0408, device='cuda:0'), tensor(71.2784, device='cuda:0'), tensor(70.4986, device='cuda:0'), tensor(69.7016, device='cuda:0'), tensor(68.8883, device='cuda:0'), tensor(68.0582, device='cuda:0'), tensor(67.2125, device='cuda:0'), tensor(66.3511, device='cuda:0'), tensor(65.4752, device='cuda:0'), tensor(64.5851, device='cuda:0'), tensor(63.6816, device='cuda:0'), tensor(62.7660, device='cuda:0'), tensor(61.8391, device='cuda:0'), tensor(60.9018, device='cuda:0'), tensor(59.9549, device='cuda:0'), tensor(58.9985, device='cuda:0'), tensor(58.0344, device='cuda:0'), tensor(57.0638, device='cuda:0'), tensor(56.0879, device='cuda:0'), tensor(55.1072, device='cuda:0'), tensor(54.1235, device='cuda:0'), tensor(53.1369, device='cuda:0'), tensor(52.1493, device='cuda:0'), tensor(51.1610, device='cuda:0'), tensor(50.1742, device='cuda:0'), tensor(49.1901, device='cuda:0'), tensor(48.2088, device='cuda:0'), tensor(47.2325, device='cuda:0'), tensor(46.2614, device='cuda:0'), tensor(45.2950, device='cuda:0'), tensor(44.3354, device='cuda:0'), tensor(43.3829, device='cuda:0'), tensor(42.4392, device='cuda:0'), tensor(41.5053, device='cuda:0'), tensor(40.5819, device='cuda:0'), tensor(39.6697, device='cuda:0'), tensor(38.7681, device='cuda:0'), tensor(37.8789, device='cuda:0'), tensor(37.0039, device='cuda:0'), tensor(36.1435, device='cuda:0'), tensor(35.2987, device='cuda:0'), tensor(34.4699, device='cuda:0'), tensor(33.6568, device='cuda:0'), tensor(32.8600, device='cuda:0'), tensor(32.0803, device='cuda:0'), tensor(31.3179, device='cuda:0'), tensor(30.5719, device='cuda:0'), tensor(29.8438, device='cuda:0'), tensor(29.1341, device='cuda:0'), tensor(28.4426, device='cuda:0'), tensor(27.7704, device='cuda:0'), tensor(27.1172, device='cuda:0'), tensor(26.4821, device='cuda:0'), tensor(25.8646, device='cuda:0'), tensor(25.2654, device='cuda:0'), tensor(24.6843, device='cuda:0'), tensor(24.1216, device='cuda:0'), tensor(23.5778, device='cuda:0'), tensor(23.0521, device='cuda:0'), tensor(22.5446, device='cuda:0'), tensor(22.0542, device='cuda:0'), tensor(21.5810, device='cuda:0'), tensor(21.1250, device='cuda:0'), tensor(20.6855, device='cuda:0')]}\n"
     ]
    }
   ],
   "source": [
    "prune_channel_acc_estimator = lenet5_model.get_nas_prune_channel(input_shape=input_shape, data_loader=mnist_test_loader, metric_fun=accuracy_fun, device=DEVICE, num_data=100)\n"
   ]
  },
  {
   "cell_type": "code",
   "execution_count": 13,
   "id": "37390fbc",
   "metadata": {},
   "outputs": [
    {
     "ename": "RuntimeError",
     "evalue": "Expected all tensors to be on the same device, but found at least two devices, cuda:0 and cpu!",
     "output_type": "error",
     "traceback": [
      "\u001b[31m---------------------------------------------------------------------------\u001b[39m",
      "\u001b[31mRuntimeError\u001b[39m                              Traceback (most recent call last)",
      "\u001b[36mCell\u001b[39m\u001b[36m \u001b[39m\u001b[32mIn[13]\u001b[39m\u001b[32m, line 1\u001b[39m\n\u001b[32m----> \u001b[39m\u001b[32m1\u001b[39m \u001b[43mprune_channel_acc_estimator\u001b[49m\u001b[43m.\u001b[49m\u001b[43mpredict\u001b[49m\u001b[43m(\u001b[49m\u001b[43mtorch\u001b[49m\u001b[43m.\u001b[49m\u001b[43mTensor\u001b[49m\u001b[43m(\u001b[49m\u001b[43m[\u001b[49m\u001b[32;43m0\u001b[39;49m\u001b[43m,\u001b[49m\u001b[32;43m0\u001b[39;49m\u001b[43m,\u001b[49m\u001b[32;43m0\u001b[39;49m\u001b[43m]\u001b[49m\u001b[43m)\u001b[49m\u001b[43m.\u001b[49m\u001b[43mto\u001b[49m\u001b[43m(\u001b[49m\u001b[43mDEVICE\u001b[49m\u001b[43m)\u001b[49m\u001b[43m)\u001b[49m\n",
      "\u001b[36mFile \u001b[39m\u001b[32m~/Documents/EmbeddedAI/deep-microcompression/tests/lenet5_model/../../development/models/sequential.py:1348\u001b[39m, in \u001b[36mEstimator.predict\u001b[39m\u001b[34m(self, X)\u001b[39m\n\u001b[32m   1347\u001b[39m \u001b[38;5;28;01mdef\u001b[39;00m\u001b[38;5;250m \u001b[39m\u001b[34mpredict\u001b[39m(\u001b[38;5;28mself\u001b[39m, X):\n\u001b[32m-> \u001b[39m\u001b[32m1348\u001b[39m     X = \u001b[38;5;28;43mself\u001b[39;49m\u001b[43m.\u001b[49m\u001b[43m_normalize\u001b[49m\u001b[43m(\u001b[49m\u001b[43mX\u001b[49m\u001b[43m)\u001b[49m\n\u001b[32m   1350\u001b[39m     \u001b[38;5;28;01mreturn\u001b[39;00m \u001b[38;5;28mself\u001b[39m.model(X)\n",
      "\u001b[36mFile \u001b[39m\u001b[32m~/Documents/EmbeddedAI/deep-microcompression/tests/lenet5_model/../../development/models/sequential.py:1302\u001b[39m, in \u001b[36mEstimator._normalize\u001b[39m\u001b[34m(self, X)\u001b[39m\n\u001b[32m   1301\u001b[39m \u001b[38;5;28;01mdef\u001b[39;00m\u001b[38;5;250m \u001b[39m\u001b[34m_normalize\u001b[39m(\u001b[38;5;28mself\u001b[39m, X):\n\u001b[32m-> \u001b[39m\u001b[32m1302\u001b[39m     \u001b[38;5;28;01mreturn\u001b[39;00m (\u001b[43mX\u001b[49m\u001b[43m \u001b[49m\u001b[43m-\u001b[49m\u001b[43m \u001b[49m\u001b[38;5;28;43mself\u001b[39;49m\u001b[43m.\u001b[49m\u001b[43mx_mu\u001b[49m) / \u001b[38;5;28mself\u001b[39m.x_std\n",
      "\u001b[31mRuntimeError\u001b[39m: Expected all tensors to be on the same device, but found at least two devices, cuda:0 and cpu!"
     ]
    }
   ],
   "source": [
    "prune_channel_acc_estimator.predict(torch.Tensor([0,0,0]).to(DEVICE))"
   ]
  },
  {
   "cell_type": "code",
   "execution_count": null,
   "id": "9c1abf52",
   "metadata": {},
   "outputs": [
    {
     "name": "stderr",
     "output_type": "stream",
     "text": [
      "100%|██████████| 313/313 [00:01<00:00, 191.93it/s]\n",
      " 88%|████████▊ | 277/313 [00:01<00:00, 224.35it/s]\n"
     ]
    },
    {
     "ename": "KeyboardInterrupt",
     "evalue": "",
     "output_type": "error",
     "traceback": [
      "\u001b[31m---------------------------------------------------------------------------\u001b[39m",
      "\u001b[31mKeyboardInterrupt\u001b[39m                         Traceback (most recent call last)",
      "\u001b[36mCell\u001b[39m\u001b[36m \u001b[39m\u001b[32mIn[17]\u001b[39m\u001b[32m, line 15\u001b[39m\n\u001b[32m     10\u001b[39m optimizion_fun = optim.SGD(lenet5_model.parameters(), lr=\u001b[32m1.e-3\u001b[39m)\n\u001b[32m     11\u001b[39m lr_scheduler = optim.lr_scheduler.ReduceLROnPlateau(optimizion_fun, mode=\u001b[33m\"\u001b[39m\u001b[33mmin\u001b[39m\u001b[33m\"\u001b[39m, patience=\u001b[32m2\u001b[39m)\n\u001b[32m---> \u001b[39m\u001b[32m15\u001b[39m sensitivity = \u001b[43mlenet5_model\u001b[49m\u001b[43m.\u001b[49m\u001b[43mget_layers_prune_channel_sensity_\u001b[49m\u001b[43m(\u001b[49m\n\u001b[32m     16\u001b[39m \u001b[43m    \u001b[49m\u001b[43minput_shape\u001b[49m\u001b[43m=\u001b[49m\u001b[43minput_shape\u001b[49m\u001b[43m,\u001b[49m\u001b[43m \u001b[49m\u001b[43mdata_loader\u001b[49m\u001b[43m=\u001b[49m\u001b[43mmnist_test_loader\u001b[49m\u001b[43m,\u001b[49m\u001b[43m \u001b[49m\u001b[43mmetrics\u001b[49m\u001b[43m=\u001b[49m\u001b[43m{\u001b[49m\u001b[33;43m\"\u001b[39;49m\u001b[33;43macc\u001b[39;49m\u001b[33;43m\"\u001b[39;49m\u001b[43m:\u001b[49m\u001b[43maccuracy_fun\u001b[49m\u001b[43m}\u001b[49m\u001b[43m,\u001b[49m\u001b[43m \u001b[49m\u001b[43mdevice\u001b[49m\u001b[43m=\u001b[49m\u001b[43mDEVICE\u001b[49m\u001b[43m,\u001b[49m\n\u001b[32m     17\u001b[39m \u001b[43m    \u001b[49m\u001b[43mtrain\u001b[49m\u001b[43m=\u001b[49m\u001b[38;5;28;43;01mFalse\u001b[39;49;00m\u001b[43m,\u001b[49m\n\u001b[32m     18\u001b[39m \u001b[43m    \u001b[49m\u001b[43mtrain_dataloader\u001b[49m\u001b[43m=\u001b[49m\u001b[43mmnist_train_loader\u001b[49m\u001b[43m,\u001b[49m\u001b[43m \u001b[49m\u001b[43mepochs\u001b[49m\u001b[43m=\u001b[49m\u001b[32;43m2\u001b[39;49m\u001b[43m,\u001b[49m\u001b[43m \u001b[49m\u001b[43mcriterion_fun\u001b[49m\u001b[43m=\u001b[49m\u001b[43mcriterion_fun\u001b[49m\u001b[43m,\u001b[49m\u001b[43m \u001b[49m\u001b[43moptimizer_fun\u001b[49m\u001b[43m=\u001b[49m\u001b[43moptimizion_fun\u001b[49m\u001b[43m,\u001b[49m\n\u001b[32m     19\u001b[39m \u001b[43m    \u001b[49m\u001b[43mlr_scheduler\u001b[49m\u001b[43m=\u001b[49m\u001b[43mlr_scheduler\u001b[49m\u001b[43m,\u001b[49m\u001b[43m \u001b[49m\n\u001b[32m     20\u001b[39m \u001b[43m)\u001b[49m\n",
      "\u001b[36mFile \u001b[39m\u001b[32m~/Documents/EmbeddedAI/deep-microcompression/tests/lenet5_model/../../development/models/sequential.py:902\u001b[39m, in \u001b[36mSequential.get_layers_prune_channel_sensity_\u001b[39m\u001b[34m(self, input_shape, data_loader, metrics, device, train, train_dataloader, epochs, criterion_fun, optimizer_fun, lr_scheduler, callbacks)\u001b[39m\n\u001b[32m    893\u001b[39m compression_config = {\n\u001b[32m    894\u001b[39m     \u001b[33m\"\u001b[39m\u001b[33mprune_channel\u001b[39m\u001b[33m\"\u001b[39m :{\n\u001b[32m    895\u001b[39m         \u001b[33m\"\u001b[39m\u001b[33msparsity\u001b[39m\u001b[33m\"\u001b[39m : {\n\u001b[32m   (...)\u001b[39m\u001b[32m    899\u001b[39m     },\n\u001b[32m    900\u001b[39m }\n\u001b[32m    901\u001b[39m prune_channel_model = \u001b[38;5;28mself\u001b[39m.init_compress(config=compression_config, input_shape=input_shape)\n\u001b[32m--> \u001b[39m\u001b[32m902\u001b[39m prune_channel_model_metrics = \u001b[43mprune_channel_model\u001b[49m\u001b[43m.\u001b[49m\u001b[43mevaluate\u001b[49m\u001b[43m(\u001b[49m\u001b[43mdata_loader\u001b[49m\u001b[43m=\u001b[49m\u001b[43mdata_loader\u001b[49m\u001b[43m,\u001b[49m\u001b[43m \u001b[49m\u001b[43mmetrics\u001b[49m\u001b[43m=\u001b[49m\u001b[43mmetrics\u001b[49m\u001b[43m,\u001b[49m\u001b[43m \u001b[49m\u001b[43mdevice\u001b[49m\u001b[43m=\u001b[49m\u001b[43mdevice\u001b[49m\u001b[43m)\u001b[49m\n\u001b[32m    904\u001b[39m \u001b[38;5;28;01mif\u001b[39;00m train:\n\u001b[32m    905\u001b[39m     optimizer_fun = torch.optim.SGD(prune_channel_model.parameters(), lr=\u001b[32m1e-3\u001b[39m, momentum=\u001b[32m.9\u001b[39m, weight_decay=\u001b[32m5e-4\u001b[39m)\n",
      "\u001b[36mFile \u001b[39m\u001b[32m~/Documents/EmbeddedAI/deep-microcompression/.venv/lib/python3.12/site-packages/torch/utils/_contextlib.py:116\u001b[39m, in \u001b[36mcontext_decorator.<locals>.decorate_context\u001b[39m\u001b[34m(*args, **kwargs)\u001b[39m\n\u001b[32m    113\u001b[39m \u001b[38;5;129m@functools\u001b[39m.wraps(func)\n\u001b[32m    114\u001b[39m \u001b[38;5;28;01mdef\u001b[39;00m\u001b[38;5;250m \u001b[39m\u001b[34mdecorate_context\u001b[39m(*args, **kwargs):\n\u001b[32m    115\u001b[39m     \u001b[38;5;28;01mwith\u001b[39;00m ctx_factory():\n\u001b[32m--> \u001b[39m\u001b[32m116\u001b[39m         \u001b[38;5;28;01mreturn\u001b[39;00m \u001b[43mfunc\u001b[49m\u001b[43m(\u001b[49m\u001b[43m*\u001b[49m\u001b[43margs\u001b[49m\u001b[43m,\u001b[49m\u001b[43m \u001b[49m\u001b[43m*\u001b[49m\u001b[43m*\u001b[49m\u001b[43mkwargs\u001b[49m\u001b[43m)\u001b[49m\n",
      "\u001b[36mFile \u001b[39m\u001b[32m~/Documents/EmbeddedAI/deep-microcompression/tests/lenet5_model/../../development/models/sequential.py:304\u001b[39m, in \u001b[36mSequential.evaluate\u001b[39m\u001b[34m(self, data_loader, metrics, device)\u001b[39m\n\u001b[32m    301\u001b[39m     metric_results[metric_name] = \u001b[32m0\u001b[39m\n\u001b[32m    303\u001b[39m \u001b[38;5;28mself\u001b[39m.eval()\n\u001b[32m--> \u001b[39m\u001b[32m304\u001b[39m \u001b[43m\u001b[49m\u001b[38;5;28;43;01mfor\u001b[39;49;00m\u001b[43m \u001b[49m\u001b[43mX\u001b[49m\u001b[43m,\u001b[49m\u001b[43m \u001b[49m\u001b[43my_true\u001b[49m\u001b[43m \u001b[49m\u001b[38;5;129;43;01min\u001b[39;49;00m\u001b[43m \u001b[49m\u001b[43mtqdm\u001b[49m\u001b[43m(\u001b[49m\u001b[43mdata_loader\u001b[49m\u001b[43m)\u001b[49m\u001b[43m:\u001b[49m\n\u001b[32m    305\u001b[39m \u001b[43m    \u001b[49m\u001b[43mdata_len\u001b[49m\u001b[43m \u001b[49m\u001b[43m+\u001b[49m\u001b[43m=\u001b[49m\u001b[43m \u001b[49m\u001b[43mX\u001b[49m\u001b[43m.\u001b[49m\u001b[43msize\u001b[49m\u001b[43m(\u001b[49m\u001b[32;43m0\u001b[39;49m\u001b[43m)\u001b[49m\n\u001b[32m    306\u001b[39m \u001b[43m    \u001b[49m\u001b[43mX\u001b[49m\u001b[43m \u001b[49m\u001b[43m=\u001b[49m\u001b[43m \u001b[49m\u001b[43mX\u001b[49m\u001b[43m.\u001b[49m\u001b[43mto\u001b[49m\u001b[43m(\u001b[49m\u001b[43mdevice\u001b[49m\u001b[43m)\u001b[49m\n",
      "\u001b[36mFile \u001b[39m\u001b[32m~/Documents/EmbeddedAI/deep-microcompression/.venv/lib/python3.12/site-packages/tqdm/std.py:1181\u001b[39m, in \u001b[36mtqdm.__iter__\u001b[39m\u001b[34m(self)\u001b[39m\n\u001b[32m   1178\u001b[39m time = \u001b[38;5;28mself\u001b[39m._time\n\u001b[32m   1180\u001b[39m \u001b[38;5;28;01mtry\u001b[39;00m:\n\u001b[32m-> \u001b[39m\u001b[32m1181\u001b[39m \u001b[43m    \u001b[49m\u001b[38;5;28;43;01mfor\u001b[39;49;00m\u001b[43m \u001b[49m\u001b[43mobj\u001b[49m\u001b[43m \u001b[49m\u001b[38;5;129;43;01min\u001b[39;49;00m\u001b[43m \u001b[49m\u001b[43miterable\u001b[49m\u001b[43m:\u001b[49m\n\u001b[32m   1182\u001b[39m \u001b[43m        \u001b[49m\u001b[38;5;28;43;01myield\u001b[39;49;00m\u001b[43m \u001b[49m\u001b[43mobj\u001b[49m\n\u001b[32m   1183\u001b[39m \u001b[43m        \u001b[49m\u001b[38;5;66;43;03m# Update and possibly print the progressbar.\u001b[39;49;00m\n\u001b[32m   1184\u001b[39m \u001b[43m        \u001b[49m\u001b[38;5;66;43;03m# Note: does not call self.update(1) for speed optimisation.\u001b[39;49;00m\n",
      "\u001b[36mFile \u001b[39m\u001b[32m~/Documents/EmbeddedAI/deep-microcompression/.venv/lib/python3.12/site-packages/torch/utils/data/dataloader.py:733\u001b[39m, in \u001b[36m_BaseDataLoaderIter.__next__\u001b[39m\u001b[34m(self)\u001b[39m\n\u001b[32m    730\u001b[39m \u001b[38;5;28;01mif\u001b[39;00m \u001b[38;5;28mself\u001b[39m._sampler_iter \u001b[38;5;129;01mis\u001b[39;00m \u001b[38;5;28;01mNone\u001b[39;00m:\n\u001b[32m    731\u001b[39m     \u001b[38;5;66;03m# TODO(https://github.com/pytorch/pytorch/issues/76750)\u001b[39;00m\n\u001b[32m    732\u001b[39m     \u001b[38;5;28mself\u001b[39m._reset()  \u001b[38;5;66;03m# type: ignore[call-arg]\u001b[39;00m\n\u001b[32m--> \u001b[39m\u001b[32m733\u001b[39m data = \u001b[38;5;28;43mself\u001b[39;49m\u001b[43m.\u001b[49m\u001b[43m_next_data\u001b[49m\u001b[43m(\u001b[49m\u001b[43m)\u001b[49m\n\u001b[32m    734\u001b[39m \u001b[38;5;28mself\u001b[39m._num_yielded += \u001b[32m1\u001b[39m\n\u001b[32m    735\u001b[39m \u001b[38;5;28;01mif\u001b[39;00m (\n\u001b[32m    736\u001b[39m     \u001b[38;5;28mself\u001b[39m._dataset_kind == _DatasetKind.Iterable\n\u001b[32m    737\u001b[39m     \u001b[38;5;129;01mand\u001b[39;00m \u001b[38;5;28mself\u001b[39m._IterableDataset_len_called \u001b[38;5;129;01mis\u001b[39;00m \u001b[38;5;129;01mnot\u001b[39;00m \u001b[38;5;28;01mNone\u001b[39;00m\n\u001b[32m    738\u001b[39m     \u001b[38;5;129;01mand\u001b[39;00m \u001b[38;5;28mself\u001b[39m._num_yielded > \u001b[38;5;28mself\u001b[39m._IterableDataset_len_called\n\u001b[32m    739\u001b[39m ):\n",
      "\u001b[36mFile \u001b[39m\u001b[32m~/Documents/EmbeddedAI/deep-microcompression/.venv/lib/python3.12/site-packages/torch/utils/data/dataloader.py:1491\u001b[39m, in \u001b[36m_MultiProcessingDataLoaderIter._next_data\u001b[39m\u001b[34m(self)\u001b[39m\n\u001b[32m   1488\u001b[39m     \u001b[38;5;28;01mreturn\u001b[39;00m \u001b[38;5;28mself\u001b[39m._process_data(data, worker_id)\n\u001b[32m   1490\u001b[39m \u001b[38;5;28;01massert\u001b[39;00m \u001b[38;5;129;01mnot\u001b[39;00m \u001b[38;5;28mself\u001b[39m._shutdown \u001b[38;5;129;01mand\u001b[39;00m \u001b[38;5;28mself\u001b[39m._tasks_outstanding > \u001b[32m0\u001b[39m\n\u001b[32m-> \u001b[39m\u001b[32m1491\u001b[39m idx, data = \u001b[38;5;28;43mself\u001b[39;49m\u001b[43m.\u001b[49m\u001b[43m_get_data\u001b[49m\u001b[43m(\u001b[49m\u001b[43m)\u001b[49m\n\u001b[32m   1492\u001b[39m \u001b[38;5;28mself\u001b[39m._tasks_outstanding -= \u001b[32m1\u001b[39m\n\u001b[32m   1493\u001b[39m \u001b[38;5;28;01mif\u001b[39;00m \u001b[38;5;28mself\u001b[39m._dataset_kind == _DatasetKind.Iterable:\n\u001b[32m   1494\u001b[39m     \u001b[38;5;66;03m# Check for _IterableDatasetStopIteration\u001b[39;00m\n",
      "\u001b[36mFile \u001b[39m\u001b[32m~/Documents/EmbeddedAI/deep-microcompression/.venv/lib/python3.12/site-packages/torch/utils/data/dataloader.py:1453\u001b[39m, in \u001b[36m_MultiProcessingDataLoaderIter._get_data\u001b[39m\u001b[34m(self)\u001b[39m\n\u001b[32m   1449\u001b[39m     \u001b[38;5;66;03m# In this case, `self._data_queue` is a `queue.Queue`,. But we don't\u001b[39;00m\n\u001b[32m   1450\u001b[39m     \u001b[38;5;66;03m# need to call `.task_done()` because we don't use `.join()`.\u001b[39;00m\n\u001b[32m   1451\u001b[39m \u001b[38;5;28;01melse\u001b[39;00m:\n\u001b[32m   1452\u001b[39m     \u001b[38;5;28;01mwhile\u001b[39;00m \u001b[38;5;28;01mTrue\u001b[39;00m:\n\u001b[32m-> \u001b[39m\u001b[32m1453\u001b[39m         success, data = \u001b[38;5;28;43mself\u001b[39;49m\u001b[43m.\u001b[49m\u001b[43m_try_get_data\u001b[49m\u001b[43m(\u001b[49m\u001b[43m)\u001b[49m\n\u001b[32m   1454\u001b[39m         \u001b[38;5;28;01mif\u001b[39;00m success:\n\u001b[32m   1455\u001b[39m             \u001b[38;5;28;01mreturn\u001b[39;00m data\n",
      "\u001b[36mFile \u001b[39m\u001b[32m~/Documents/EmbeddedAI/deep-microcompression/.venv/lib/python3.12/site-packages/torch/utils/data/dataloader.py:1284\u001b[39m, in \u001b[36m_MultiProcessingDataLoaderIter._try_get_data\u001b[39m\u001b[34m(self, timeout)\u001b[39m\n\u001b[32m   1271\u001b[39m \u001b[38;5;28;01mdef\u001b[39;00m\u001b[38;5;250m \u001b[39m\u001b[34m_try_get_data\u001b[39m(\u001b[38;5;28mself\u001b[39m, timeout=_utils.MP_STATUS_CHECK_INTERVAL):\n\u001b[32m   1272\u001b[39m     \u001b[38;5;66;03m# Tries to fetch data from `self._data_queue` once for a given timeout.\u001b[39;00m\n\u001b[32m   1273\u001b[39m     \u001b[38;5;66;03m# This can also be used as inner loop of fetching without timeout, with\u001b[39;00m\n\u001b[32m   (...)\u001b[39m\u001b[32m   1281\u001b[39m     \u001b[38;5;66;03m# Returns a 2-tuple:\u001b[39;00m\n\u001b[32m   1282\u001b[39m     \u001b[38;5;66;03m#   (bool: whether successfully get data, any: data if successful else None)\u001b[39;00m\n\u001b[32m   1283\u001b[39m     \u001b[38;5;28;01mtry\u001b[39;00m:\n\u001b[32m-> \u001b[39m\u001b[32m1284\u001b[39m         data = \u001b[38;5;28;43mself\u001b[39;49m\u001b[43m.\u001b[49m\u001b[43m_data_queue\u001b[49m\u001b[43m.\u001b[49m\u001b[43mget\u001b[49m\u001b[43m(\u001b[49m\u001b[43mtimeout\u001b[49m\u001b[43m=\u001b[49m\u001b[43mtimeout\u001b[49m\u001b[43m)\u001b[49m\n\u001b[32m   1285\u001b[39m         \u001b[38;5;28;01mreturn\u001b[39;00m (\u001b[38;5;28;01mTrue\u001b[39;00m, data)\n\u001b[32m   1286\u001b[39m     \u001b[38;5;28;01mexcept\u001b[39;00m \u001b[38;5;167;01mException\u001b[39;00m \u001b[38;5;28;01mas\u001b[39;00m e:\n\u001b[32m   1287\u001b[39m         \u001b[38;5;66;03m# At timeout and error, we manually check whether any worker has\u001b[39;00m\n\u001b[32m   1288\u001b[39m         \u001b[38;5;66;03m# failed. Note that this is the only mechanism for Windows to detect\u001b[39;00m\n\u001b[32m   1289\u001b[39m         \u001b[38;5;66;03m# worker failures.\u001b[39;00m\n",
      "\u001b[36mFile \u001b[39m\u001b[32m/usr/lib/python3.12/multiprocessing/queues.py:122\u001b[39m, in \u001b[36mQueue.get\u001b[39m\u001b[34m(self, block, timeout)\u001b[39m\n\u001b[32m    120\u001b[39m         \u001b[38;5;28mself\u001b[39m._rlock.release()\n\u001b[32m    121\u001b[39m \u001b[38;5;66;03m# unserialize the data after having released the lock\u001b[39;00m\n\u001b[32m--> \u001b[39m\u001b[32m122\u001b[39m \u001b[38;5;28;01mreturn\u001b[39;00m \u001b[43m_ForkingPickler\u001b[49m\u001b[43m.\u001b[49m\u001b[43mloads\u001b[49m\u001b[43m(\u001b[49m\u001b[43mres\u001b[49m\u001b[43m)\u001b[49m\n",
      "\u001b[36mFile \u001b[39m\u001b[32m~/Documents/EmbeddedAI/deep-microcompression/.venv/lib/python3.12/site-packages/torch/multiprocessing/reductions.py:541\u001b[39m, in \u001b[36mrebuild_storage_fd\u001b[39m\u001b[34m(cls, df, size)\u001b[39m\n\u001b[32m    540\u001b[39m \u001b[38;5;28;01mdef\u001b[39;00m\u001b[38;5;250m \u001b[39m\u001b[34mrebuild_storage_fd\u001b[39m(\u001b[38;5;28mcls\u001b[39m, df, size):\n\u001b[32m--> \u001b[39m\u001b[32m541\u001b[39m     fd = \u001b[43mdf\u001b[49m\u001b[43m.\u001b[49m\u001b[43mdetach\u001b[49m\u001b[43m(\u001b[49m\u001b[43m)\u001b[49m\n\u001b[32m    542\u001b[39m     \u001b[38;5;28;01mtry\u001b[39;00m:\n\u001b[32m    543\u001b[39m         storage = storage_from_cache(\u001b[38;5;28mcls\u001b[39m, fd_id(fd))\n",
      "\u001b[36mFile \u001b[39m\u001b[32m/usr/lib/python3.12/multiprocessing/resource_sharer.py:57\u001b[39m, in \u001b[36mDupFd.detach\u001b[39m\u001b[34m(self)\u001b[39m\n\u001b[32m     55\u001b[39m \u001b[38;5;28;01mdef\u001b[39;00m\u001b[38;5;250m \u001b[39m\u001b[34mdetach\u001b[39m(\u001b[38;5;28mself\u001b[39m):\n\u001b[32m     56\u001b[39m \u001b[38;5;250m    \u001b[39m\u001b[33;03m'''Get the fd.  This should only be called once.'''\u001b[39;00m\n\u001b[32m---> \u001b[39m\u001b[32m57\u001b[39m     \u001b[38;5;28;01mwith\u001b[39;00m \u001b[43m_resource_sharer\u001b[49m\u001b[43m.\u001b[49m\u001b[43mget_connection\u001b[49m\u001b[43m(\u001b[49m\u001b[38;5;28;43mself\u001b[39;49m\u001b[43m.\u001b[49m\u001b[43m_id\u001b[49m\u001b[43m)\u001b[49m \u001b[38;5;28;01mas\u001b[39;00m conn:\n\u001b[32m     58\u001b[39m         \u001b[38;5;28;01mreturn\u001b[39;00m reduction.recv_handle(conn)\n",
      "\u001b[36mFile \u001b[39m\u001b[32m/usr/lib/python3.12/multiprocessing/resource_sharer.py:86\u001b[39m, in \u001b[36m_ResourceSharer.get_connection\u001b[39m\u001b[34m(ident)\u001b[39m\n\u001b[32m     84\u001b[39m \u001b[38;5;28;01mfrom\u001b[39;00m\u001b[38;5;250m \u001b[39m\u001b[34;01m.\u001b[39;00m\u001b[34;01mconnection\u001b[39;00m\u001b[38;5;250m \u001b[39m\u001b[38;5;28;01mimport\u001b[39;00m Client\n\u001b[32m     85\u001b[39m address, key = ident\n\u001b[32m---> \u001b[39m\u001b[32m86\u001b[39m c = \u001b[43mClient\u001b[49m\u001b[43m(\u001b[49m\u001b[43maddress\u001b[49m\u001b[43m,\u001b[49m\u001b[43m \u001b[49m\u001b[43mauthkey\u001b[49m\u001b[43m=\u001b[49m\u001b[43mprocess\u001b[49m\u001b[43m.\u001b[49m\u001b[43mcurrent_process\u001b[49m\u001b[43m(\u001b[49m\u001b[43m)\u001b[49m\u001b[43m.\u001b[49m\u001b[43mauthkey\u001b[49m\u001b[43m)\u001b[49m\n\u001b[32m     87\u001b[39m c.send((key, os.getpid()))\n\u001b[32m     88\u001b[39m \u001b[38;5;28;01mreturn\u001b[39;00m c\n",
      "\u001b[36mFile \u001b[39m\u001b[32m/usr/lib/python3.12/multiprocessing/connection.py:519\u001b[39m, in \u001b[36mClient\u001b[39m\u001b[34m(address, family, authkey)\u001b[39m\n\u001b[32m    517\u001b[39m     c = PipeClient(address)\n\u001b[32m    518\u001b[39m \u001b[38;5;28;01melse\u001b[39;00m:\n\u001b[32m--> \u001b[39m\u001b[32m519\u001b[39m     c = \u001b[43mSocketClient\u001b[49m\u001b[43m(\u001b[49m\u001b[43maddress\u001b[49m\u001b[43m)\u001b[49m\n\u001b[32m    521\u001b[39m \u001b[38;5;28;01mif\u001b[39;00m authkey \u001b[38;5;129;01mis\u001b[39;00m \u001b[38;5;129;01mnot\u001b[39;00m \u001b[38;5;28;01mNone\u001b[39;00m \u001b[38;5;129;01mand\u001b[39;00m \u001b[38;5;129;01mnot\u001b[39;00m \u001b[38;5;28misinstance\u001b[39m(authkey, \u001b[38;5;28mbytes\u001b[39m):\n\u001b[32m    522\u001b[39m     \u001b[38;5;28;01mraise\u001b[39;00m \u001b[38;5;167;01mTypeError\u001b[39;00m(\u001b[33m'\u001b[39m\u001b[33mauthkey should be a byte string\u001b[39m\u001b[33m'\u001b[39m)\n",
      "\u001b[36mFile \u001b[39m\u001b[32m/usr/lib/python3.12/multiprocessing/connection.py:647\u001b[39m, in \u001b[36mSocketClient\u001b[39m\u001b[34m(address)\u001b[39m\n\u001b[32m    645\u001b[39m \u001b[38;5;28;01mwith\u001b[39;00m socket.socket( \u001b[38;5;28mgetattr\u001b[39m(socket, family) ) \u001b[38;5;28;01mas\u001b[39;00m s:\n\u001b[32m    646\u001b[39m     s.setblocking(\u001b[38;5;28;01mTrue\u001b[39;00m)\n\u001b[32m--> \u001b[39m\u001b[32m647\u001b[39m     \u001b[43ms\u001b[49m\u001b[43m.\u001b[49m\u001b[43mconnect\u001b[49m\u001b[43m(\u001b[49m\u001b[43maddress\u001b[49m\u001b[43m)\u001b[49m\n\u001b[32m    648\u001b[39m     \u001b[38;5;28;01mreturn\u001b[39;00m Connection(s.detach())\n",
      "\u001b[31mKeyboardInterrupt\u001b[39m: "
     ]
    }
   ],
   "source": [
    "early_stopper = EarlyStopper(\n",
    "    metric_name=\"validation_loss\",\n",
    "    min_valid_diff=1e-4,\n",
    "    mode=\"min\",\n",
    "    patience=2,\n",
    "    restore_best_state_dict=True,\n",
    ")\n",
    "\n",
    "criterion_fun = nn.CrossEntropyLoss()\n",
    "optimizion_fun = optim.SGD(lenet5_model.parameters(), lr=1.e-3)\n",
    "lr_scheduler = optim.lr_scheduler.ReduceLROnPlateau(optimizion_fun, mode=\"min\", patience=2)\n",
    "\n",
    "\n",
    "\n",
    "sensitivity = lenet5_model.get_layers_prune_channel_sensity_(\n",
    "    input_shape=input_shape, data_loader=mnist_test_loader, metrics={\"acc\":accuracy_fun}, device=DEVICE,\n",
    "    train=False,\n",
    "    train_dataloader=mnist_train_loader, epochs=2, criterion_fun=criterion_fun, optimizer_fun=optimizion_fun,\n",
    "    lr_scheduler=lr_scheduler, \n",
    ")"
   ]
  },
  {
   "cell_type": "code",
   "execution_count": null,
   "id": "e4f25bb2",
   "metadata": {},
   "outputs": [
    {
     "name": "stdout",
     "output_type": "stream",
     "text": [
      "6 [(0.0, 99.22), (0.16666666666666666, 97.47), (0.3333333333333333, 71.31), (0.5, 40.65), (0.6666666666666666, 28.36), (0.8333333333333334, 13.94)]\n",
      "16 [(0.0, 99.05), (0.0625, 98.92), (0.125, 98.33), (0.1875, 96.8), (0.25, 93.52), (0.3125, 93.96), (0.375, 94.0), (0.4375, 88.09), (0.5, 84.76), (0.5625, 76.28), (0.625, 71.09), (0.6875, 67.97), (0.75, 58.37), (0.8125, 32.16), (0.875, 22.52), (0.9375, 21.5)]\n",
      "84 [(0.0, 99.05), (0.011904761904761904, 99.08), (0.023809523809523808, 99.04), (0.03571428571428571, 99.2), (0.047619047619047616, 98.98), (0.05952380952380952, 99.19), (0.07142857142857142, 99.16), (0.08333333333333333, 99.09), (0.09523809523809523, 99.09), (0.10714285714285714, 99.11), (0.11904761904761904, 99.18), (0.13095238095238096, 99.07), (0.14285714285714285, 99.1), (0.15476190476190477, 99.08), (0.16666666666666666, 99.03), (0.17857142857142858, 99.28), (0.19047619047619047, 99.25), (0.20238095238095238, 99.17), (0.21428571428571427, 99.14), (0.2261904761904762, 99.07), (0.23809523809523808, 99.02), (0.25, 98.91), (0.2619047619047619, 98.97), (0.27380952380952384, 98.9), (0.2857142857142857, 98.8), (0.2976190476190476, 98.84), (0.30952380952380953, 98.59), (0.32142857142857145, 98.82), (0.3333333333333333, 98.61), (0.34523809523809523, 98.46), (0.35714285714285715, 98.37), (0.36904761904761907, 98.37), (0.38095238095238093, 98.35), (0.39285714285714285, 98.39), (0.40476190476190477, 98.37), (0.4166666666666667, 98.14), (0.42857142857142855, 98.05), (0.44047619047619047, 97.91), (0.4523809523809524, 97.91), (0.4642857142857143, 97.66), (0.47619047619047616, 97.28), (0.4880952380952381, 97.5), (0.5, 96.88), (0.5119047619047619, 96.69), (0.5238095238095238, 96.47), (0.5357142857142857, 93.64), (0.5476190476190477, 92.84), (0.5595238095238095, 92.4), (0.5714285714285714, 92.43), (0.5833333333333334, 92.6), (0.5952380952380952, 91.27), (0.6071428571428571, 90.96), (0.6190476190476191, 91.71), (0.6309523809523809, 90.71), (0.6428571428571429, 90.43), (0.6547619047619048, 89.68), (0.6666666666666666, 88.4), (0.6785714285714286, 88.19), (0.6904761904761905, 86.57), (0.7023809523809523, 84.33), (0.7142857142857143, 82.97), (0.7261904761904762, 81.32), (0.7380952380952381, 81.45), (0.75, 76.29), (0.7619047619047619, 74.41), (0.7738095238095238, 73.06), (0.7857142857142857, 65.88), (0.7976190476190477, 63.29), (0.8095238095238095, 64.18), (0.8214285714285714, 60.9), (0.8333333333333334, 57.14), (0.8452380952380952, 56.15), (0.8571428571428571, 46.11), (0.8690476190476191, 40.7), (0.8809523809523809, 35.47), (0.8928571428571429, 35.18), (0.9047619047619048, 33.73), (0.9166666666666666, 22.73), (0.9285714285714286, 19.85), (0.9404761904761905, 16.93), (0.9523809523809523, 12.75), (0.9642857142857143, 12.2), (0.9761904761904762, 10.03), (0.9880952380952381, 9.52)]\n"
     ]
    },
    {
     "data": {
      "image/png": "[encoded data removed]",
      "text/plain": [
       "<Figure size 1000x600 with 1 Axes>"
      ]
     },
     "metadata": {},
     "output_type": "display_data"
    }
   ],
   "source": [
    "plt.figure(figsize=(10, 6))\n",
    "for layer, values in sensitivity['acc'].items():\n",
    "    print(len(values), values)\n",
    "    sparsity, acc = zip(*values)\n",
    "    plt.plot(sparsity, acc, marker='.', label=layer+f\"_{str(len(values))}\")\n",
    "\n",
    "plt.xlabel(\"Sparsity Level\")\n",
    "plt.ylabel(\"Accuracy (%)\")\n",
    "plt.title(\"Lenet-5 model Sparsity Sensitivity per Layer\")\n",
    "plt.legend()\n",
    "plt.grid(False)\n",
    "\n",
    "list(plt.gca().spines.values())[0].set_visible(False)\n",
    "list(plt.gca().spines.values())[1].set_visible(False)\n",
    "list(plt.gca().spines.values())[3].set_visible(False)\n",
    "\n",
    "plt.savefig(\"Lenet-5 model Sparsity Sensitivity per Layer\", dpi=300, bbox_inches=\"tight\")\n",
    "plt.show()\n"
   ]
  },
  {
   "cell_type": "code",
   "execution_count": null,
   "id": "b724263a",
   "metadata": {},
   "outputs": [
    {
     "data": {
      "text/plain": [
       "4"
      ]
     },
     "execution_count": 25,
     "metadata": {},
     "output_type": "execute_result"
    },
    {
     "data": {
      "image/png": "[encoded data removed]",
      "text/plain": [
       "<Figure size 640x480 with 1 Axes>"
      ]
     },
     "metadata": {},
     "output_type": "display_data"
    }
   ],
   "source": [
    "len(plt.gca().spines.values())"
   ]
  },
  {
   "cell_type": "code",
   "execution_count": null,
   "id": "7c80ed65",
   "metadata": {},
   "outputs": [
    {
     "name": "stdout",
     "output_type": "stream",
     "text": [
      "Epoch 100, Loss: 5958.7373\n",
      "Epoch 200, Loss: 4314.2148\n",
      "Epoch 300, Loss: 2123.2832\n",
      "Epoch 400, Loss: 1662.4471\n",
      "Epoch 500, Loss: 1510.1141\n",
      "Predicted Accuracy: 58.12%\n"
     ]
    }
   ],
   "source": [
    "import torch\n",
    "import torch.nn as nn\n",
    "import torch.optim as optim\n",
    "import numpy as np\n",
    "from itertools import product\n",
    "\n",
    "# Your dataset\n",
    "acc_data = {\n",
    "    'conv2d_0': [(0.0, 99.22), (0.1667, 97.47), (0.3333, 71.31), (0.5, 40.65), (0.6667, 28.36), (0.8333, 13.94)],\n",
    "    'conv2d_1': [(0.0, 99.05), (0.0625, 98.92), (0.125, 98.33), (0.1875, 96.8), (0.25, 93.52), (0.3125, 93.96),\n",
    "                 (0.375, 94.0), (0.4375, 88.09), (0.5, 84.76), (0.5625, 76.28), (0.625, 71.09), (0.6875, 67.97),\n",
    "                 (0.75, 58.37), (0.8125, 32.16), (0.875, 22.52), (0.9375, 21.5)],\n",
    "    'linear_0': [\n",
    "        (0.0, 99.05), (0.1667, 99.03), (0.3333, 98.61), (0.5, 96.88), (0.6667, 88.4),\n",
    "        (0.75, 76.29), (0.8333, 57.14), (0.9167, 22.73), (1.0, 9.52)\n",
    "    ]\n",
    "}\n",
    "\n",
    "# Build dataset as combinations of sparsities\n",
    "X, y = [], []\n",
    "for s0, _ in acc_data['conv2d_0']:\n",
    "    for s1, _ in acc_data['conv2d_1']:\n",
    "        for s2, acc in acc_data['linear_0']:\n",
    "            # Features = sparsity levels\n",
    "            X.append([s0, s1, s2])\n",
    "            # Approx target = min accuracy among layers (proxy)\n",
    "            y.append(acc)  \n",
    "\n",
    "X = torch.tensor(X, dtype=torch.float32)\n",
    "y = torch.tensor(y, dtype=torch.float32).view(-1, 1)\n",
    "\n",
    "# Define MLP\n",
    "class MLP(nn.Module):\n",
    "    def __init__(self):\n",
    "        super().__init__()\n",
    "        self.layers = nn.Sequential(\n",
    "            nn.Linear(3, 32),\n",
    "            nn.ReLU(),\n",
    "            nn.Linear(32, 16),\n",
    "            nn.ReLU(),\n",
    "            nn.Linear(16, 1)\n",
    "        )\n",
    "    def forward(self, x):\n",
    "        return self.layers(x)\n",
    "\n",
    "model = MLP()\n",
    "criterion = nn.MSELoss()\n",
    "optimizer = optim.Adam(model.parameters(), lr=1e-3)\n",
    "\n",
    "# Training loop\n",
    "for epoch in range(500):\n",
    "    optimizer.zero_grad()\n",
    "    outputs = model(X)\n",
    "    loss = criterion(outputs, y)\n",
    "    loss.backward()\n",
    "    optimizer.step()\n",
    "    if (epoch+1) % 100 == 0:\n",
    "        print(f\"Epoch {epoch+1}, Loss: {loss.item():.4f}\")\n",
    "\n",
    "# Example prediction\n",
    "test_sparsity = torch.tensor([[0.5, 0.25, 0.33]])  # (conv2d_0, conv2d_1, linear_0)\n",
    "pred_acc = model(test_sparsity).item()\n",
    "print(f\"Predicted Accuracy: {pred_acc:.2f}%\")\n"
   ]
  },
  {
   "cell_type": "code",
   "execution_count": null,
   "id": "aedf286f",
   "metadata": {},
   "outputs": [
    {
     "data": {
      "text/plain": [
       "(tensor([[0.0000, 0.0000, 0.0000],\n",
       "         [0.0000, 0.0000, 0.1667],\n",
       "         [0.0000, 0.0000, 0.3333],\n",
       "         ...,\n",
       "         [0.8333, 0.9375, 0.8333],\n",
       "         [0.8333, 0.9375, 0.9167],\n",
       "         [0.8333, 0.9375, 1.0000]]),\n",
       " tensor([[99.0500],\n",
       "         [99.0300],\n",
       "         [98.6100],\n",
       "         [96.8800],\n",
       "         [88.4000],\n",
       "         [76.2900],\n",
       "         [57.1400],\n",
       "         [22.7300],\n",
       "         [ 9.5200],\n",
       "         [99.0500],\n",
       "         [99.0300],\n",
       "         [98.6100],\n",
       "         [96.8800],\n",
       "         [88.4000],\n",
       "         [76.2900],\n",
       "         [57.1400],\n",
       "         [22.7300],\n",
       "         [ 9.5200],\n",
       "         [99.0500],\n",
       "         [99.0300],\n",
       "         [98.6100],\n",
       "         [96.8800],\n",
       "         [88.4000],\n",
       "         [76.2900],\n",
       "         [57.1400],\n",
       "         [22.7300],\n",
       "         [ 9.5200],\n",
       "         [99.0500],\n",
       "         [99.0300],\n",
       "         [98.6100],\n",
       "         [96.8800],\n",
       "         [88.4000],\n",
       "         [76.2900],\n",
       "         [57.1400],\n",
       "         [22.7300],\n",
       "         [ 9.5200],\n",
       "         [99.0500],\n",
       "         [99.0300],\n",
       "         [98.6100],\n",
       "         [96.8800],\n",
       "         [88.4000],\n",
       "         [76.2900],\n",
       "         [57.1400],\n",
       "         [22.7300],\n",
       "         [ 9.5200],\n",
       "         [99.0500],\n",
       "         [99.0300],\n",
       "         [98.6100],\n",
       "         [96.8800],\n",
       "         [88.4000],\n",
       "         [76.2900],\n",
       "         [57.1400],\n",
       "         [22.7300],\n",
       "         [ 9.5200],\n",
       "         [99.0500],\n",
       "         [99.0300],\n",
       "         [98.6100],\n",
       "         [96.8800],\n",
       "         [88.4000],\n",
       "         [76.2900],\n",
       "         [57.1400],\n",
       "         [22.7300],\n",
       "         [ 9.5200],\n",
       "         [99.0500],\n",
       "         [99.0300],\n",
       "         [98.6100],\n",
       "         [96.8800],\n",
       "         [88.4000],\n",
       "         [76.2900],\n",
       "         [57.1400],\n",
       "         [22.7300],\n",
       "         [ 9.5200],\n",
       "         [99.0500],\n",
       "         [99.0300],\n",
       "         [98.6100],\n",
       "         [96.8800],\n",
       "         [88.4000],\n",
       "         [76.2900],\n",
       "         [57.1400],\n",
       "         [22.7300],\n",
       "         [ 9.5200],\n",
       "         [99.0500],\n",
       "         [99.0300],\n",
       "         [98.6100],\n",
       "         [96.8800],\n",
       "         [88.4000],\n",
       "         [76.2900],\n",
       "         [57.1400],\n",
       "         [22.7300],\n",
       "         [ 9.5200],\n",
       "         [99.0500],\n",
       "         [99.0300],\n",
       "         [98.6100],\n",
       "         [96.8800],\n",
       "         [88.4000],\n",
       "         [76.2900],\n",
       "         [57.1400],\n",
       "         [22.7300],\n",
       "         [ 9.5200],\n",
       "         [99.0500],\n",
       "         [99.0300],\n",
       "         [98.6100],\n",
       "         [96.8800],\n",
       "         [88.4000],\n",
       "         [76.2900],\n",
       "         [57.1400],\n",
       "         [22.7300],\n",
       "         [ 9.5200],\n",
       "         [99.0500],\n",
       "         [99.0300],\n",
       "         [98.6100],\n",
       "         [96.8800],\n",
       "         [88.4000],\n",
       "         [76.2900],\n",
       "         [57.1400],\n",
       "         [22.7300],\n",
       "         [ 9.5200],\n",
       "         [99.0500],\n",
       "         [99.0300],\n",
       "         [98.6100],\n",
       "         [96.8800],\n",
       "         [88.4000],\n",
       "         [76.2900],\n",
       "         [57.1400],\n",
       "         [22.7300],\n",
       "         [ 9.5200],\n",
       "         [99.0500],\n",
       "         [99.0300],\n",
       "         [98.6100],\n",
       "         [96.8800],\n",
       "         [88.4000],\n",
       "         [76.2900],\n",
       "         [57.1400],\n",
       "         [22.7300],\n",
       "         [ 9.5200],\n",
       "         [99.0500],\n",
       "         [99.0300],\n",
       "         [98.6100],\n",
       "         [96.8800],\n",
       "         [88.4000],\n",
       "         [76.2900],\n",
       "         [57.1400],\n",
       "         [22.7300],\n",
       "         [ 9.5200],\n",
       "         [99.0500],\n",
       "         [99.0300],\n",
       "         [98.6100],\n",
       "         [96.8800],\n",
       "         [88.4000],\n",
       "         [76.2900],\n",
       "         [57.1400],\n",
       "         [22.7300],\n",
       "         [ 9.5200],\n",
       "         [99.0500],\n",
       "         [99.0300],\n",
       "         [98.6100],\n",
       "         [96.8800],\n",
       "         [88.4000],\n",
       "         [76.2900],\n",
       "         [57.1400],\n",
       "         [22.7300],\n",
       "         [ 9.5200],\n",
       "         [99.0500],\n",
       "         [99.0300],\n",
       "         [98.6100],\n",
       "         [96.8800],\n",
       "         [88.4000],\n",
       "         [76.2900],\n",
       "         [57.1400],\n",
       "         [22.7300],\n",
       "         [ 9.5200],\n",
       "         [99.0500],\n",
       "         [99.0300],\n",
       "         [98.6100],\n",
       "         [96.8800],\n",
       "         [88.4000],\n",
       "         [76.2900],\n",
       "         [57.1400],\n",
       "         [22.7300],\n",
       "         [ 9.5200],\n",
       "         [99.0500],\n",
       "         [99.0300],\n",
       "         [98.6100],\n",
       "         [96.8800],\n",
       "         [88.4000],\n",
       "         [76.2900],\n",
       "         [57.1400],\n",
       "         [22.7300],\n",
       "         [ 9.5200],\n",
       "         [99.0500],\n",
       "         [99.0300],\n",
       "         [98.6100],\n",
       "         [96.8800],\n",
       "         [88.4000],\n",
       "         [76.2900],\n",
       "         [57.1400],\n",
       "         [22.7300],\n",
       "         [ 9.5200],\n",
       "         [99.0500],\n",
       "         [99.0300],\n",
       "         [98.6100],\n",
       "         [96.8800],\n",
       "         [88.4000],\n",
       "         [76.2900],\n",
       "         [57.1400],\n",
       "         [22.7300],\n",
       "         [ 9.5200],\n",
       "         [99.0500],\n",
       "         [99.0300],\n",
       "         [98.6100],\n",
       "         [96.8800],\n",
       "         [88.4000],\n",
       "         [76.2900],\n",
       "         [57.1400],\n",
       "         [22.7300],\n",
       "         [ 9.5200],\n",
       "         [99.0500],\n",
       "         [99.0300],\n",
       "         [98.6100],\n",
       "         [96.8800],\n",
       "         [88.4000],\n",
       "         [76.2900],\n",
       "         [57.1400],\n",
       "         [22.7300],\n",
       "         [ 9.5200],\n",
       "         [99.0500],\n",
       "         [99.0300],\n",
       "         [98.6100],\n",
       "         [96.8800],\n",
       "         [88.4000],\n",
       "         [76.2900],\n",
       "         [57.1400],\n",
       "         [22.7300],\n",
       "         [ 9.5200],\n",
       "         [99.0500],\n",
       "         [99.0300],\n",
       "         [98.6100],\n",
       "         [96.8800],\n",
       "         [88.4000],\n",
       "         [76.2900],\n",
       "         [57.1400],\n",
       "         [22.7300],\n",
       "         [ 9.5200],\n",
       "         [99.0500],\n",
       "         [99.0300],\n",
       "         [98.6100],\n",
       "         [96.8800],\n",
       "         [88.4000],\n",
       "         [76.2900],\n",
       "         [57.1400],\n",
       "         [22.7300],\n",
       "         [ 9.5200],\n",
       "         [99.0500],\n",
       "         [99.0300],\n",
       "         [98.6100],\n",
       "         [96.8800],\n",
       "         [88.4000],\n",
       "         [76.2900],\n",
       "         [57.1400],\n",
       "         [22.7300],\n",
       "         [ 9.5200],\n",
       "         [99.0500],\n",
       "         [99.0300],\n",
       "         [98.6100],\n",
       "         [96.8800],\n",
       "         [88.4000],\n",
       "         [76.2900],\n",
       "         [57.1400],\n",
       "         [22.7300],\n",
       "         [ 9.5200],\n",
       "         [99.0500],\n",
       "         [99.0300],\n",
       "         [98.6100],\n",
       "         [96.8800],\n",
       "         [88.4000],\n",
       "         [76.2900],\n",
       "         [57.1400],\n",
       "         [22.7300],\n",
       "         [ 9.5200],\n",
       "         [99.0500],\n",
       "         [99.0300],\n",
       "         [98.6100],\n",
       "         [96.8800],\n",
       "         [88.4000],\n",
       "         [76.2900],\n",
       "         [57.1400],\n",
       "         [22.7300],\n",
       "         [ 9.5200],\n",
       "         [99.0500],\n",
       "         [99.0300],\n",
       "         [98.6100],\n",
       "         [96.8800],\n",
       "         [88.4000],\n",
       "         [76.2900],\n",
       "         [57.1400],\n",
       "         [22.7300],\n",
       "         [ 9.5200],\n",
       "         [99.0500],\n",
       "         [99.0300],\n",
       "         [98.6100],\n",
       "         [96.8800],\n",
       "         [88.4000],\n",
       "         [76.2900],\n",
       "         [57.1400],\n",
       "         [22.7300],\n",
       "         [ 9.5200],\n",
       "         [99.0500],\n",
       "         [99.0300],\n",
       "         [98.6100],\n",
       "         [96.8800],\n",
       "         [88.4000],\n",
       "         [76.2900],\n",
       "         [57.1400],\n",
       "         [22.7300],\n",
       "         [ 9.5200],\n",
       "         [99.0500],\n",
       "         [99.0300],\n",
       "         [98.6100],\n",
       "         [96.8800],\n",
       "         [88.4000],\n",
       "         [76.2900],\n",
       "         [57.1400],\n",
       "         [22.7300],\n",
       "         [ 9.5200],\n",
       "         [99.0500],\n",
       "         [99.0300],\n",
       "         [98.6100],\n",
       "         [96.8800],\n",
       "         [88.4000],\n",
       "         [76.2900],\n",
       "         [57.1400],\n",
       "         [22.7300],\n",
       "         [ 9.5200],\n",
       "         [99.0500],\n",
       "         [99.0300],\n",
       "         [98.6100],\n",
       "         [96.8800],\n",
       "         [88.4000],\n",
       "         [76.2900],\n",
       "         [57.1400],\n",
       "         [22.7300],\n",
       "         [ 9.5200],\n",
       "         [99.0500],\n",
       "         [99.0300],\n",
       "         [98.6100],\n",
       "         [96.8800],\n",
       "         [88.4000],\n",
       "         [76.2900],\n",
       "         [57.1400],\n",
       "         [22.7300],\n",
       "         [ 9.5200],\n",
       "         [99.0500],\n",
       "         [99.0300],\n",
       "         [98.6100],\n",
       "         [96.8800],\n",
       "         [88.4000],\n",
       "         [76.2900],\n",
       "         [57.1400],\n",
       "         [22.7300],\n",
       "         [ 9.5200],\n",
       "         [99.0500],\n",
       "         [99.0300],\n",
       "         [98.6100],\n",
       "         [96.8800],\n",
       "         [88.4000],\n",
       "         [76.2900],\n",
       "         [57.1400],\n",
       "         [22.7300],\n",
       "         [ 9.5200],\n",
       "         [99.0500],\n",
       "         [99.0300],\n",
       "         [98.6100],\n",
       "         [96.8800],\n",
       "         [88.4000],\n",
       "         [76.2900],\n",
       "         [57.1400],\n",
       "         [22.7300],\n",
       "         [ 9.5200],\n",
       "         [99.0500],\n",
       "         [99.0300],\n",
       "         [98.6100],\n",
       "         [96.8800],\n",
       "         [88.4000],\n",
       "         [76.2900],\n",
       "         [57.1400],\n",
       "         [22.7300],\n",
       "         [ 9.5200],\n",
       "         [99.0500],\n",
       "         [99.0300],\n",
       "         [98.6100],\n",
       "         [96.8800],\n",
       "         [88.4000],\n",
       "         [76.2900],\n",
       "         [57.1400],\n",
       "         [22.7300],\n",
       "         [ 9.5200],\n",
       "         [99.0500],\n",
       "         [99.0300],\n",
       "         [98.6100],\n",
       "         [96.8800],\n",
       "         [88.4000],\n",
       "         [76.2900],\n",
       "         [57.1400],\n",
       "         [22.7300],\n",
       "         [ 9.5200],\n",
       "         [99.0500],\n",
       "         [99.0300],\n",
       "         [98.6100],\n",
       "         [96.8800],\n",
       "         [88.4000],\n",
       "         [76.2900],\n",
       "         [57.1400],\n",
       "         [22.7300],\n",
       "         [ 9.5200],\n",
       "         [99.0500],\n",
       "         [99.0300],\n",
       "         [98.6100],\n",
       "         [96.8800],\n",
       "         [88.4000],\n",
       "         [76.2900],\n",
       "         [57.1400],\n",
       "         [22.7300],\n",
       "         [ 9.5200],\n",
       "         [99.0500],\n",
       "         [99.0300],\n",
       "         [98.6100],\n",
       "         [96.8800],\n",
       "         [88.4000],\n",
       "         [76.2900],\n",
       "         [57.1400],\n",
       "         [22.7300],\n",
       "         [ 9.5200],\n",
       "         [99.0500],\n",
       "         [99.0300],\n",
       "         [98.6100],\n",
       "         [96.8800],\n",
       "         [88.4000],\n",
       "         [76.2900],\n",
       "         [57.1400],\n",
       "         [22.7300],\n",
       "         [ 9.5200],\n",
       "         [99.0500],\n",
       "         [99.0300],\n",
       "         [98.6100],\n",
       "         [96.8800],\n",
       "         [88.4000],\n",
       "         [76.2900],\n",
       "         [57.1400],\n",
       "         [22.7300],\n",
       "         [ 9.5200],\n",
       "         [99.0500],\n",
       "         [99.0300],\n",
       "         [98.6100],\n",
       "         [96.8800],\n",
       "         [88.4000],\n",
       "         [76.2900],\n",
       "         [57.1400],\n",
       "         [22.7300],\n",
       "         [ 9.5200],\n",
       "         [99.0500],\n",
       "         [99.0300],\n",
       "         [98.6100],\n",
       "         [96.8800],\n",
       "         [88.4000],\n",
       "         [76.2900],\n",
       "         [57.1400],\n",
       "         [22.7300],\n",
       "         [ 9.5200],\n",
       "         [99.0500],\n",
       "         [99.0300],\n",
       "         [98.6100],\n",
       "         [96.8800],\n",
       "         [88.4000],\n",
       "         [76.2900],\n",
       "         [57.1400],\n",
       "         [22.7300],\n",
       "         [ 9.5200],\n",
       "         [99.0500],\n",
       "         [99.0300],\n",
       "         [98.6100],\n",
       "         [96.8800],\n",
       "         [88.4000],\n",
       "         [76.2900],\n",
       "         [57.1400],\n",
       "         [22.7300],\n",
       "         [ 9.5200],\n",
       "         [99.0500],\n",
       "         [99.0300],\n",
       "         [98.6100],\n",
       "         [96.8800],\n",
       "         [88.4000],\n",
       "         [76.2900],\n",
       "         [57.1400],\n",
       "         [22.7300],\n",
       "         [ 9.5200],\n",
       "         [99.0500],\n",
       "         [99.0300],\n",
       "         [98.6100],\n",
       "         [96.8800],\n",
       "         [88.4000],\n",
       "         [76.2900],\n",
       "         [57.1400],\n",
       "         [22.7300],\n",
       "         [ 9.5200],\n",
       "         [99.0500],\n",
       "         [99.0300],\n",
       "         [98.6100],\n",
       "         [96.8800],\n",
       "         [88.4000],\n",
       "         [76.2900],\n",
       "         [57.1400],\n",
       "         [22.7300],\n",
       "         [ 9.5200],\n",
       "         [99.0500],\n",
       "         [99.0300],\n",
       "         [98.6100],\n",
       "         [96.8800],\n",
       "         [88.4000],\n",
       "         [76.2900],\n",
       "         [57.1400],\n",
       "         [22.7300],\n",
       "         [ 9.5200],\n",
       "         [99.0500],\n",
       "         [99.0300],\n",
       "         [98.6100],\n",
       "         [96.8800],\n",
       "         [88.4000],\n",
       "         [76.2900],\n",
       "         [57.1400],\n",
       "         [22.7300],\n",
       "         [ 9.5200],\n",
       "         [99.0500],\n",
       "         [99.0300],\n",
       "         [98.6100],\n",
       "         [96.8800],\n",
       "         [88.4000],\n",
       "         [76.2900],\n",
       "         [57.1400],\n",
       "         [22.7300],\n",
       "         [ 9.5200],\n",
       "         [99.0500],\n",
       "         [99.0300],\n",
       "         [98.6100],\n",
       "         [96.8800],\n",
       "         [88.4000],\n",
       "         [76.2900],\n",
       "         [57.1400],\n",
       "         [22.7300],\n",
       "         [ 9.5200],\n",
       "         [99.0500],\n",
       "         [99.0300],\n",
       "         [98.6100],\n",
       "         [96.8800],\n",
       "         [88.4000],\n",
       "         [76.2900],\n",
       "         [57.1400],\n",
       "         [22.7300],\n",
       "         [ 9.5200],\n",
       "         [99.0500],\n",
       "         [99.0300],\n",
       "         [98.6100],\n",
       "         [96.8800],\n",
       "         [88.4000],\n",
       "         [76.2900],\n",
       "         [57.1400],\n",
       "         [22.7300],\n",
       "         [ 9.5200],\n",
       "         [99.0500],\n",
       "         [99.0300],\n",
       "         [98.6100],\n",
       "         [96.8800],\n",
       "         [88.4000],\n",
       "         [76.2900],\n",
       "         [57.1400],\n",
       "         [22.7300],\n",
       "         [ 9.5200],\n",
       "         [99.0500],\n",
       "         [99.0300],\n",
       "         [98.6100],\n",
       "         [96.8800],\n",
       "         [88.4000],\n",
       "         [76.2900],\n",
       "         [57.1400],\n",
       "         [22.7300],\n",
       "         [ 9.5200],\n",
       "         [99.0500],\n",
       "         [99.0300],\n",
       "         [98.6100],\n",
       "         [96.8800],\n",
       "         [88.4000],\n",
       "         [76.2900],\n",
       "         [57.1400],\n",
       "         [22.7300],\n",
       "         [ 9.5200],\n",
       "         [99.0500],\n",
       "         [99.0300],\n",
       "         [98.6100],\n",
       "         [96.8800],\n",
       "         [88.4000],\n",
       "         [76.2900],\n",
       "         [57.1400],\n",
       "         [22.7300],\n",
       "         [ 9.5200],\n",
       "         [99.0500],\n",
       "         [99.0300],\n",
       "         [98.6100],\n",
       "         [96.8800],\n",
       "         [88.4000],\n",
       "         [76.2900],\n",
       "         [57.1400],\n",
       "         [22.7300],\n",
       "         [ 9.5200],\n",
       "         [99.0500],\n",
       "         [99.0300],\n",
       "         [98.6100],\n",
       "         [96.8800],\n",
       "         [88.4000],\n",
       "         [76.2900],\n",
       "         [57.1400],\n",
       "         [22.7300],\n",
       "         [ 9.5200],\n",
       "         [99.0500],\n",
       "         [99.0300],\n",
       "         [98.6100],\n",
       "         [96.8800],\n",
       "         [88.4000],\n",
       "         [76.2900],\n",
       "         [57.1400],\n",
       "         [22.7300],\n",
       "         [ 9.5200],\n",
       "         [99.0500],\n",
       "         [99.0300],\n",
       "         [98.6100],\n",
       "         [96.8800],\n",
       "         [88.4000],\n",
       "         [76.2900],\n",
       "         [57.1400],\n",
       "         [22.7300],\n",
       "         [ 9.5200],\n",
       "         [99.0500],\n",
       "         [99.0300],\n",
       "         [98.6100],\n",
       "         [96.8800],\n",
       "         [88.4000],\n",
       "         [76.2900],\n",
       "         [57.1400],\n",
       "         [22.7300],\n",
       "         [ 9.5200],\n",
       "         [99.0500],\n",
       "         [99.0300],\n",
       "         [98.6100],\n",
       "         [96.8800],\n",
       "         [88.4000],\n",
       "         [76.2900],\n",
       "         [57.1400],\n",
       "         [22.7300],\n",
       "         [ 9.5200],\n",
       "         [99.0500],\n",
       "         [99.0300],\n",
       "         [98.6100],\n",
       "         [96.8800],\n",
       "         [88.4000],\n",
       "         [76.2900],\n",
       "         [57.1400],\n",
       "         [22.7300],\n",
       "         [ 9.5200],\n",
       "         [99.0500],\n",
       "         [99.0300],\n",
       "         [98.6100],\n",
       "         [96.8800],\n",
       "         [88.4000],\n",
       "         [76.2900],\n",
       "         [57.1400],\n",
       "         [22.7300],\n",
       "         [ 9.5200],\n",
       "         [99.0500],\n",
       "         [99.0300],\n",
       "         [98.6100],\n",
       "         [96.8800],\n",
       "         [88.4000],\n",
       "         [76.2900],\n",
       "         [57.1400],\n",
       "         [22.7300],\n",
       "         [ 9.5200],\n",
       "         [99.0500],\n",
       "         [99.0300],\n",
       "         [98.6100],\n",
       "         [96.8800],\n",
       "         [88.4000],\n",
       "         [76.2900],\n",
       "         [57.1400],\n",
       "         [22.7300],\n",
       "         [ 9.5200],\n",
       "         [99.0500],\n",
       "         [99.0300],\n",
       "         [98.6100],\n",
       "         [96.8800],\n",
       "         [88.4000],\n",
       "         [76.2900],\n",
       "         [57.1400],\n",
       "         [22.7300],\n",
       "         [ 9.5200],\n",
       "         [99.0500],\n",
       "         [99.0300],\n",
       "         [98.6100],\n",
       "         [96.8800],\n",
       "         [88.4000],\n",
       "         [76.2900],\n",
       "         [57.1400],\n",
       "         [22.7300],\n",
       "         [ 9.5200],\n",
       "         [99.0500],\n",
       "         [99.0300],\n",
       "         [98.6100],\n",
       "         [96.8800],\n",
       "         [88.4000],\n",
       "         [76.2900],\n",
       "         [57.1400],\n",
       "         [22.7300],\n",
       "         [ 9.5200],\n",
       "         [99.0500],\n",
       "         [99.0300],\n",
       "         [98.6100],\n",
       "         [96.8800],\n",
       "         [88.4000],\n",
       "         [76.2900],\n",
       "         [57.1400],\n",
       "         [22.7300],\n",
       "         [ 9.5200],\n",
       "         [99.0500],\n",
       "         [99.0300],\n",
       "         [98.6100],\n",
       "         [96.8800],\n",
       "         [88.4000],\n",
       "         [76.2900],\n",
       "         [57.1400],\n",
       "         [22.7300],\n",
       "         [ 9.5200],\n",
       "         [99.0500],\n",
       "         [99.0300],\n",
       "         [98.6100],\n",
       "         [96.8800],\n",
       "         [88.4000],\n",
       "         [76.2900],\n",
       "         [57.1400],\n",
       "         [22.7300],\n",
       "         [ 9.5200],\n",
       "         [99.0500],\n",
       "         [99.0300],\n",
       "         [98.6100],\n",
       "         [96.8800],\n",
       "         [88.4000],\n",
       "         [76.2900],\n",
       "         [57.1400],\n",
       "         [22.7300],\n",
       "         [ 9.5200],\n",
       "         [99.0500],\n",
       "         [99.0300],\n",
       "         [98.6100],\n",
       "         [96.8800],\n",
       "         [88.4000],\n",
       "         [76.2900],\n",
       "         [57.1400],\n",
       "         [22.7300],\n",
       "         [ 9.5200],\n",
       "         [99.0500],\n",
       "         [99.0300],\n",
       "         [98.6100],\n",
       "         [96.8800],\n",
       "         [88.4000],\n",
       "         [76.2900],\n",
       "         [57.1400],\n",
       "         [22.7300],\n",
       "         [ 9.5200],\n",
       "         [99.0500],\n",
       "         [99.0300],\n",
       "         [98.6100],\n",
       "         [96.8800],\n",
       "         [88.4000],\n",
       "         [76.2900],\n",
       "         [57.1400],\n",
       "         [22.7300],\n",
       "         [ 9.5200],\n",
       "         [99.0500],\n",
       "         [99.0300],\n",
       "         [98.6100],\n",
       "         [96.8800],\n",
       "         [88.4000],\n",
       "         [76.2900],\n",
       "         [57.1400],\n",
       "         [22.7300],\n",
       "         [ 9.5200],\n",
       "         [99.0500],\n",
       "         [99.0300],\n",
       "         [98.6100],\n",
       "         [96.8800],\n",
       "         [88.4000],\n",
       "         [76.2900],\n",
       "         [57.1400],\n",
       "         [22.7300],\n",
       "         [ 9.5200],\n",
       "         [99.0500],\n",
       "         [99.0300],\n",
       "         [98.6100],\n",
       "         [96.8800],\n",
       "         [88.4000],\n",
       "         [76.2900],\n",
       "         [57.1400],\n",
       "         [22.7300],\n",
       "         [ 9.5200],\n",
       "         [99.0500],\n",
       "         [99.0300],\n",
       "         [98.6100],\n",
       "         [96.8800],\n",
       "         [88.4000],\n",
       "         [76.2900],\n",
       "         [57.1400],\n",
       "         [22.7300],\n",
       "         [ 9.5200],\n",
       "         [99.0500],\n",
       "         [99.0300],\n",
       "         [98.6100],\n",
       "         [96.8800],\n",
       "         [88.4000],\n",
       "         [76.2900],\n",
       "         [57.1400],\n",
       "         [22.7300],\n",
       "         [ 9.5200],\n",
       "         [99.0500],\n",
       "         [99.0300],\n",
       "         [98.6100],\n",
       "         [96.8800],\n",
       "         [88.4000],\n",
       "         [76.2900],\n",
       "         [57.1400],\n",
       "         [22.7300],\n",
       "         [ 9.5200],\n",
       "         [99.0500],\n",
       "         [99.0300],\n",
       "         [98.6100],\n",
       "         [96.8800],\n",
       "         [88.4000],\n",
       "         [76.2900],\n",
       "         [57.1400],\n",
       "         [22.7300],\n",
       "         [ 9.5200],\n",
       "         [99.0500],\n",
       "         [99.0300],\n",
       "         [98.6100],\n",
       "         [96.8800],\n",
       "         [88.4000],\n",
       "         [76.2900],\n",
       "         [57.1400],\n",
       "         [22.7300],\n",
       "         [ 9.5200],\n",
       "         [99.0500],\n",
       "         [99.0300],\n",
       "         [98.6100],\n",
       "         [96.8800],\n",
       "         [88.4000],\n",
       "         [76.2900],\n",
       "         [57.1400],\n",
       "         [22.7300],\n",
       "         [ 9.5200]]))"
      ]
     },
     "execution_count": 12,
     "metadata": {},
     "output_type": "execute_result"
    }
   ],
   "source": [
    "X, y"
   ]
  },
  {
   "cell_type": "markdown",
   "id": "054ec3dd",
   "metadata": {},
   "source": [
    "## Original Model\n"
   ]
  },
  {
   "cell_type": "code",
   "execution_count": null,
   "id": "db4f01dc",
   "metadata": {},
   "outputs": [
    {
     "name": "stderr",
     "output_type": "stream",
     "text": [
      "100%|██████████| 313/313 [00:01<00:00, 239.41it/s]\n"
     ]
    },
    {
     "name": "stdout",
     "output_type": "stream",
     "text": [
      "The original model accuracy is 9915.00% with size 148240 bytes.\n",
      "tensor([[-29.0016, -22.3953, -21.4715,  30.5191, -33.2081,   0.8119, -33.4459,\n",
      "         -16.0511,  -6.0006,  -9.6175]], device='cuda:0')\n"
     ]
    },
    {
     "data": {
      "text/plain": [
       "(99.15, 148240)"
      ]
     },
     "execution_count": 13,
     "metadata": {},
     "output_type": "execute_result"
    }
   ],
   "source": [
    "lenet5_mcu_model = copy.deepcopy(lenet5_model)\n",
    "\n",
    "evaluate_result = lenet5_mcu_model.evaluate(mnist_test_loader, {\"acc\":accuracy_fun}, device=DEVICE)\n",
    "original_size = lenet5_mcu_model.get_size_in_bits()//8\n",
    "print(f\"The original model accuracy is {evaluate_result[\"acc\"]*100:.2f}% with size {original_size} bytes.\")\n",
    "\n",
    "# lenet5_mcu_model.convert_to_c(var_name=\"lenet5_mcu_model\", src_dir=\"./Arduino Nano 33 BLE/src/\", include_dir=\"./Arduino Nano 33 BLE/include/\")\n",
    "lenet5_mcu_model.convert_to_c(input_shape=input_shape, var_name=\"lenet5_mcu_model\", src_dir=\"./HP HP Pavilion Laptop 15-cs3xxx/src/\", include_dir=\"./HP HP Pavilion Laptop 15-cs3xxx/include/\")\n",
    "\n",
    "print(lenet5_mcu_model.test(device=DEVICE, var_name=\"lenet5_mcu_model\", src_dir=\"./HP HP Pavilion Laptop 15-cs3xxx/src/\", include_dir=\"./HP HP Pavilion Laptop 15-cs3xxx/include/\"))\n",
    "evaluate_result[\"acc\"], original_size"
   ]
  },
  {
   "cell_type": "code",
   "execution_count": null,
   "id": "b7ef5231",
   "metadata": {},
   "outputs": [
    {
     "name": "stderr",
     "output_type": "stream",
     "text": [
      "100%|██████████| 313/313 [00:01<00:00, 231.04it/s]\n"
     ]
    },
    {
     "name": "stdout",
     "output_type": "stream",
     "text": [
      "The original model accuracy is 9911.00% with size 148088 bytes.\n",
      "tensor([[-20.5041, -15.5337,  -1.6605,  -2.1882, -20.7473, -12.2588, -37.9503,\n",
      "          14.2805, -11.3950,  -7.5340]], device='cuda:0')\n"
     ]
    },
    {
     "data": {
      "text/plain": [
       "(99.11, 148088)"
      ]
     },
     "execution_count": 14,
     "metadata": {},
     "output_type": "execute_result"
    }
   ],
   "source": [
    "fused_lenet5_mcu_model = lenet5_mcu_model.fuse().to(DEVICE)\n",
    "\n",
    "evaluate_result = fused_lenet5_mcu_model.evaluate(mnist_test_loader, {\"acc\":accuracy_fun}, device=DEVICE)\n",
    "original_size = fused_lenet5_mcu_model.get_size_in_bits()//8\n",
    "print(f\"The original model accuracy is {evaluate_result[\"acc\"]*100:.2f}% with size {original_size} bytes.\")\n",
    "\n",
    "# fused_lenet5_mcu_model.convert_to_c(var_name=\"lenet5_mcu_model\", src_dir=\"./Arduino Nano 33 BLE/src/\", include_dir=\"./Arduino Nano 33 BLE/include/\")\n",
    "fused_lenet5_mcu_model.convert_to_c(input_shape=input_shape, var_name=\"lenet5_mcu_model\", src_dir=\"./HP HP Pavilion Laptop 15-cs3xxx/src/\", include_dir=\"./HP HP Pavilion Laptop 15-cs3xxx/include/\")\n",
    "\n",
    "print(fused_lenet5_mcu_model.test(device=DEVICE, var_name=\"lenet5_mcu_model\", src_dir=\"./HP HP Pavilion Laptop 15-cs3xxx/src/\", include_dir=\"./HP HP Pavilion Laptop 15-cs3xxx/include/\"))\n",
    "# print(fused_lenet5_mcu_model(lenet5_mcu_model.test_input[0].unsqueeze(dim=0).detach().clone()))\n",
    "evaluate_result[\"acc\"], original_size"
   ]
  },
  {
   "cell_type": "code",
   "execution_count": null,
   "id": "c4279cf1",
   "metadata": {},
   "outputs": [
    {
     "data": {
      "text/plain": [
       "(tensor([[-10.9922, -21.7113, -15.5854,   4.6235, -25.0249,   9.8817,  -9.2897,\n",
       "          -15.5343,   0.8853,  -8.7347]], device='cuda:0'),)"
      ]
     },
     "execution_count": 15,
     "metadata": {},
     "output_type": "execute_result"
    }
   ],
   "source": [
    "lenet5_mcu_model.test(device=DEVICE, var_name=\"lenet5_mcu_model\", src_dir=\"./HP HP Pavilion Laptop 15-cs3xxx/src/\", include_dir=\"./HP HP Pavilion Laptop 15-cs3xxx/include/\"), "
   ]
  },
  {
   "cell_type": "code",
   "execution_count": null,
   "id": "adf9f107",
   "metadata": {},
   "outputs": [
    {
     "ename": "RuntimeError",
     "evalue": "Input type (torch.FloatTensor) and weight type (torch.cuda.FloatTensor) should be the same or input should be a MKLDNN tensor and weight is a dense tensor",
     "output_type": "error",
     "traceback": [
      "\u001b[31m---------------------------------------------------------------------------\u001b[39m",
      "\u001b[31mRuntimeError\u001b[39m                              Traceback (most recent call last)",
      "\u001b[36mCell\u001b[39m\u001b[36m \u001b[39m\u001b[32mIn[16]\u001b[39m\u001b[32m, line 2\u001b[39m\n\u001b[32m      1\u001b[39m fused_lenet5_mcu_model.test(device=DEVICE, var_name=\u001b[33m\"\u001b[39m\u001b[33mlenet5_mcu_model\u001b[39m\u001b[33m\"\u001b[39m, src_dir=\u001b[33m\"\u001b[39m\u001b[33m./HP HP Pavilion Laptop 15-cs3xxx/src/\u001b[39m\u001b[33m\"\u001b[39m, include_dir=\u001b[33m\"\u001b[39m\u001b[33m./HP HP Pavilion Laptop 15-cs3xxx/include/\u001b[39m\u001b[33m\"\u001b[39m), \\\n\u001b[32m----> \u001b[39m\u001b[32m2\u001b[39m \u001b[43mfused_lenet5_mcu_model\u001b[49m\u001b[43m(\u001b[49m\u001b[43mlenet5_mcu_model\u001b[49m\u001b[43m.\u001b[49m\u001b[43mtest_input\u001b[49m\u001b[43m[\u001b[49m\u001b[32;43m0\u001b[39;49m\u001b[43m]\u001b[49m\u001b[43m.\u001b[49m\u001b[43munsqueeze\u001b[49m\u001b[43m(\u001b[49m\u001b[43mdim\u001b[49m\u001b[43m=\u001b[49m\u001b[32;43m0\u001b[39;49m\u001b[43m)\u001b[49m\u001b[43m.\u001b[49m\u001b[43mdetach\u001b[49m\u001b[43m(\u001b[49m\u001b[43m)\u001b[49m\u001b[43m.\u001b[49m\u001b[43mclone\u001b[49m\u001b[43m(\u001b[49m\u001b[43m)\u001b[49m\u001b[43m)\u001b[49m\n",
      "\u001b[36mFile \u001b[39m\u001b[32m~/Documents/EmbeddedAI/deep-microcompression/.venv/lib/python3.12/site-packages/torch/nn/modules/module.py:1751\u001b[39m, in \u001b[36mModule._wrapped_call_impl\u001b[39m\u001b[34m(self, *args, **kwargs)\u001b[39m\n\u001b[32m   1749\u001b[39m     \u001b[38;5;28;01mreturn\u001b[39;00m \u001b[38;5;28mself\u001b[39m._compiled_call_impl(*args, **kwargs)  \u001b[38;5;66;03m# type: ignore[misc]\u001b[39;00m\n\u001b[32m   1750\u001b[39m \u001b[38;5;28;01melse\u001b[39;00m:\n\u001b[32m-> \u001b[39m\u001b[32m1751\u001b[39m     \u001b[38;5;28;01mreturn\u001b[39;00m \u001b[38;5;28;43mself\u001b[39;49m\u001b[43m.\u001b[49m\u001b[43m_call_impl\u001b[49m\u001b[43m(\u001b[49m\u001b[43m*\u001b[49m\u001b[43margs\u001b[49m\u001b[43m,\u001b[49m\u001b[43m \u001b[49m\u001b[43m*\u001b[49m\u001b[43m*\u001b[49m\u001b[43mkwargs\u001b[49m\u001b[43m)\u001b[49m\n",
      "\u001b[36mFile \u001b[39m\u001b[32m~/Documents/EmbeddedAI/deep-microcompression/.venv/lib/python3.12/site-packages/torch/nn/modules/module.py:1762\u001b[39m, in \u001b[36mModule._call_impl\u001b[39m\u001b[34m(self, *args, **kwargs)\u001b[39m\n\u001b[32m   1757\u001b[39m \u001b[38;5;66;03m# If we don't have any hooks, we want to skip the rest of the logic in\u001b[39;00m\n\u001b[32m   1758\u001b[39m \u001b[38;5;66;03m# this function, and just call forward.\u001b[39;00m\n\u001b[32m   1759\u001b[39m \u001b[38;5;28;01mif\u001b[39;00m \u001b[38;5;129;01mnot\u001b[39;00m (\u001b[38;5;28mself\u001b[39m._backward_hooks \u001b[38;5;129;01mor\u001b[39;00m \u001b[38;5;28mself\u001b[39m._backward_pre_hooks \u001b[38;5;129;01mor\u001b[39;00m \u001b[38;5;28mself\u001b[39m._forward_hooks \u001b[38;5;129;01mor\u001b[39;00m \u001b[38;5;28mself\u001b[39m._forward_pre_hooks\n\u001b[32m   1760\u001b[39m         \u001b[38;5;129;01mor\u001b[39;00m _global_backward_pre_hooks \u001b[38;5;129;01mor\u001b[39;00m _global_backward_hooks\n\u001b[32m   1761\u001b[39m         \u001b[38;5;129;01mor\u001b[39;00m _global_forward_hooks \u001b[38;5;129;01mor\u001b[39;00m _global_forward_pre_hooks):\n\u001b[32m-> \u001b[39m\u001b[32m1762\u001b[39m     \u001b[38;5;28;01mreturn\u001b[39;00m \u001b[43mforward_call\u001b[49m\u001b[43m(\u001b[49m\u001b[43m*\u001b[49m\u001b[43margs\u001b[49m\u001b[43m,\u001b[49m\u001b[43m \u001b[49m\u001b[43m*\u001b[49m\u001b[43m*\u001b[49m\u001b[43mkwargs\u001b[49m\u001b[43m)\u001b[49m\n\u001b[32m   1764\u001b[39m result = \u001b[38;5;28;01mNone\u001b[39;00m\n\u001b[32m   1765\u001b[39m called_always_called_hooks = \u001b[38;5;28mset\u001b[39m()\n",
      "\u001b[36mFile \u001b[39m\u001b[32m~/Documents/EmbeddedAI/deep-microcompression/tests/lenet5_model/../../development/models/sequential.py:159\u001b[39m, in \u001b[36mSequential.forward\u001b[39m\u001b[34m(self, input)\u001b[39m\n\u001b[32m    156\u001b[39m         \u001b[38;5;28minput\u001b[39m = \u001b[38;5;28mself\u001b[39m.input_quantize(\u001b[38;5;28minput\u001b[39m)\n\u001b[32m    157\u001b[39m \u001b[38;5;28;01mfor\u001b[39;00m i, layer \u001b[38;5;129;01min\u001b[39;00m \u001b[38;5;28menumerate\u001b[39m(\u001b[38;5;28mself\u001b[39m):\n\u001b[32m    158\u001b[39m     \u001b[38;5;66;03m# print(f\"Layer {i} ({layer.__class__.__name__}): input shape = {input.shape} kernel_size {getattr(layer, \"kernel_size\", \"nan\")} stride {getattr(layer, \"stride\", \"nan\")} padding {getattr(layer, \"padding\", \"nan\")}\")\u001b[39;00m\n\u001b[32m--> \u001b[39m\u001b[32m159\u001b[39m     \u001b[38;5;28minput\u001b[39m = \u001b[43mlayer\u001b[49m\u001b[43m(\u001b[49m\u001b[38;5;28;43minput\u001b[39;49m\u001b[43m)\u001b[49m\n\u001b[32m    161\u001b[39m \u001b[38;5;28;01mreturn\u001b[39;00m \u001b[38;5;28minput\u001b[39m\n",
      "\u001b[36mFile \u001b[39m\u001b[32m~/Documents/EmbeddedAI/deep-microcompression/.venv/lib/python3.12/site-packages/torch/nn/modules/module.py:1751\u001b[39m, in \u001b[36mModule._wrapped_call_impl\u001b[39m\u001b[34m(self, *args, **kwargs)\u001b[39m\n\u001b[32m   1749\u001b[39m     \u001b[38;5;28;01mreturn\u001b[39;00m \u001b[38;5;28mself\u001b[39m._compiled_call_impl(*args, **kwargs)  \u001b[38;5;66;03m# type: ignore[misc]\u001b[39;00m\n\u001b[32m   1750\u001b[39m \u001b[38;5;28;01melse\u001b[39;00m:\n\u001b[32m-> \u001b[39m\u001b[32m1751\u001b[39m     \u001b[38;5;28;01mreturn\u001b[39;00m \u001b[38;5;28;43mself\u001b[39;49m\u001b[43m.\u001b[49m\u001b[43m_call_impl\u001b[49m\u001b[43m(\u001b[49m\u001b[43m*\u001b[49m\u001b[43margs\u001b[49m\u001b[43m,\u001b[49m\u001b[43m \u001b[49m\u001b[43m*\u001b[49m\u001b[43m*\u001b[49m\u001b[43mkwargs\u001b[49m\u001b[43m)\u001b[49m\n",
      "\u001b[36mFile \u001b[39m\u001b[32m~/Documents/EmbeddedAI/deep-microcompression/.venv/lib/python3.12/site-packages/torch/nn/modules/module.py:1762\u001b[39m, in \u001b[36mModule._call_impl\u001b[39m\u001b[34m(self, *args, **kwargs)\u001b[39m\n\u001b[32m   1757\u001b[39m \u001b[38;5;66;03m# If we don't have any hooks, we want to skip the rest of the logic in\u001b[39;00m\n\u001b[32m   1758\u001b[39m \u001b[38;5;66;03m# this function, and just call forward.\u001b[39;00m\n\u001b[32m   1759\u001b[39m \u001b[38;5;28;01mif\u001b[39;00m \u001b[38;5;129;01mnot\u001b[39;00m (\u001b[38;5;28mself\u001b[39m._backward_hooks \u001b[38;5;129;01mor\u001b[39;00m \u001b[38;5;28mself\u001b[39m._backward_pre_hooks \u001b[38;5;129;01mor\u001b[39;00m \u001b[38;5;28mself\u001b[39m._forward_hooks \u001b[38;5;129;01mor\u001b[39;00m \u001b[38;5;28mself\u001b[39m._forward_pre_hooks\n\u001b[32m   1760\u001b[39m         \u001b[38;5;129;01mor\u001b[39;00m _global_backward_pre_hooks \u001b[38;5;129;01mor\u001b[39;00m _global_backward_hooks\n\u001b[32m   1761\u001b[39m         \u001b[38;5;129;01mor\u001b[39;00m _global_forward_hooks \u001b[38;5;129;01mor\u001b[39;00m _global_forward_pre_hooks):\n\u001b[32m-> \u001b[39m\u001b[32m1762\u001b[39m     \u001b[38;5;28;01mreturn\u001b[39;00m \u001b[43mforward_call\u001b[49m\u001b[43m(\u001b[49m\u001b[43m*\u001b[49m\u001b[43margs\u001b[49m\u001b[43m,\u001b[49m\u001b[43m \u001b[49m\u001b[43m*\u001b[49m\u001b[43m*\u001b[49m\u001b[43mkwargs\u001b[49m\u001b[43m)\u001b[49m\n\u001b[32m   1764\u001b[39m result = \u001b[38;5;28;01mNone\u001b[39;00m\n\u001b[32m   1765\u001b[39m called_always_called_hooks = \u001b[38;5;28mset\u001b[39m()\n",
      "\u001b[36mFile \u001b[39m\u001b[32m~/Documents/EmbeddedAI/deep-microcompression/tests/lenet5_model/../../development/layers/fused_layers.py:151\u001b[39m, in \u001b[36mConv2dReLU6.forward\u001b[39m\u001b[34m(self, input)\u001b[39m\n\u001b[32m    147\u001b[39m             bias = \u001b[38;5;28mself\u001b[39m.bias_quantize(bias)\n\u001b[32m    150\u001b[39m \u001b[38;5;28minput\u001b[39m =  nn.functional.pad(\u001b[38;5;28minput\u001b[39m, \u001b[38;5;28mself\u001b[39m.pad, \u001b[33m\"\u001b[39m\u001b[33mconstant\u001b[39m\u001b[33m\"\u001b[39m, \u001b[32m0\u001b[39m) \n\u001b[32m--> \u001b[39m\u001b[32m151\u001b[39m \u001b[38;5;28minput\u001b[39m = \u001b[43mnn\u001b[49m\u001b[43m.\u001b[49m\u001b[43mfunctional\u001b[49m\u001b[43m.\u001b[49m\u001b[43mconv2d\u001b[49m\u001b[43m(\u001b[49m\n\u001b[32m    152\u001b[39m \u001b[43m    \u001b[49m\u001b[38;5;28;43minput\u001b[39;49m\u001b[43m,\u001b[49m\u001b[43m \u001b[49m\u001b[43mweight\u001b[49m\u001b[43m,\u001b[49m\u001b[43m \u001b[49m\u001b[43mbias\u001b[49m\u001b[43m,\u001b[49m\n\u001b[32m    153\u001b[39m \u001b[43m    \u001b[49m\u001b[38;5;28;43mself\u001b[39;49m\u001b[43m.\u001b[49m\u001b[43mstride\u001b[49m\u001b[43m,\u001b[49m\u001b[43m \u001b[49m\u001b[38;5;28;43mself\u001b[39;49m\u001b[43m.\u001b[49m\u001b[43mpadding\u001b[49m\u001b[43m,\u001b[49m\n\u001b[32m    154\u001b[39m \u001b[43m    \u001b[49m\u001b[38;5;28;43mself\u001b[39;49m\u001b[43m.\u001b[49m\u001b[43mdilation\u001b[49m\u001b[43m,\u001b[49m\u001b[43m \u001b[49m\u001b[38;5;28;43mself\u001b[39;49m\u001b[43m.\u001b[49m\u001b[43mgroups\u001b[49m\n\u001b[32m    155\u001b[39m \u001b[43m\u001b[49m\u001b[43m)\u001b[49m\n\u001b[32m    156\u001b[39m output = \u001b[38;5;28mself\u001b[39m.relu6.forward(\u001b[38;5;28minput\u001b[39m)\n\u001b[32m    158\u001b[39m \u001b[38;5;28;01mif\u001b[39;00m \u001b[38;5;28mself\u001b[39m.is_compressed:\n",
      "\u001b[31mRuntimeError\u001b[39m: Input type (torch.FloatTensor) and weight type (torch.cuda.FloatTensor) should be the same or input should be a MKLDNN tensor and weight is a dense tensor"
     ]
    }
   ],
   "source": [
    "fused_lenet5_mcu_model.test(device=DEVICE, var_name=\"lenet5_mcu_model\", src_dir=\"./HP HP Pavilion Laptop 15-cs3xxx/src/\", include_dir=\"./HP HP Pavilion Laptop 15-cs3xxx/include/\"), \\\n",
    "fused_lenet5_mcu_model(lenet5_mcu_model.test_input[0].unsqueeze(dim=0).detach().clone())"
   ]
  },
  {
   "cell_type": "code",
   "execution_count": null,
   "id": "f55aa992",
   "metadata": {},
   "outputs": [],
   "source": []
  },
  {
   "cell_type": "code",
   "execution_count": null,
   "id": "2013bd5f",
   "metadata": {},
   "outputs": [],
   "source": [
    "# compression_dict = lenet5_mcu_model.get_all_compression_hyperparameter()\n",
    "# print(len(compression_dict))\n",
    "# print((compression_dict)[0])\n",
    "# lenet5_mcu_model.decode_compression_dict_hyperparameter(compression_dict[0])"
   ]
  },
  {
   "cell_type": "code",
   "execution_count": null,
   "id": "8e407525",
   "metadata": {},
   "outputs": [
    {
     "name": "stderr",
     "output_type": "stream",
     "text": [
      "100%|██████████| 313/313 [00:01<00:00, 171.57it/s]\n"
     ]
    },
    {
     "ename": "NameError",
     "evalue": "name 'sp' is not defined",
     "output_type": "error",
     "traceback": [
      "\u001b[31m---------------------------------------------------------------------------\u001b[39m",
      "\u001b[31mNameError\u001b[39m                                 Traceback (most recent call last)",
      "\u001b[36mCell\u001b[39m\u001b[36m \u001b[39m\u001b[32mIn[16]\u001b[39m\u001b[32m, line 26\u001b[39m\n\u001b[32m     23\u001b[39m compressed_lenet5_mcu_model.convert_to_c(input_shape=input_shape, var_name=\u001b[33m\"\u001b[39m\u001b[33mlenet5_mcu_model\u001b[39m\u001b[33m\"\u001b[39m, src_dir=hp_src_dir, include_dir=hp_include_dir)\n\u001b[32m     25\u001b[39m size = compressed_lenet5_mcu_model.get_size_in_bits()//\u001b[32m8\u001b[39m\n\u001b[32m---> \u001b[39m\u001b[32m26\u001b[39m \u001b[38;5;28mprint\u001b[39m(\u001b[33mf\u001b[39m\u001b[33m\"\u001b[39m\u001b[33mBefore training, sparsity = \u001b[39m\u001b[38;5;132;01m{\u001b[39;00m\u001b[43msp\u001b[49m\u001b[38;5;132;01m}\u001b[39;00m\u001b[33m, scheme = \u001b[39m\u001b[38;5;132;01m{\u001b[39;00ms.name\u001b[38;5;132;01m}\u001b[39;00m\u001b[33m, granularity = \u001b[39m\u001b[38;5;132;01m{\u001b[39;00mg.name\u001b[38;5;132;01m}\u001b[39;00m\u001b[33m, bitwidth = \u001b[39m\u001b[38;5;132;01m{\u001b[39;00mb\u001b[38;5;132;01m}\u001b[39;00m\u001b[33m acc = \u001b[39m\u001b[38;5;132;01m{\u001b[39;00mbefore_acc\u001b[38;5;132;01m:\u001b[39;00m\u001b[33m.4f\u001b[39m\u001b[38;5;132;01m}\u001b[39;00m\u001b[33m size = \u001b[39m\u001b[38;5;132;01m{\u001b[39;00msize/original_size*\u001b[32m100\u001b[39m\u001b[38;5;132;01m:\u001b[39;00m\u001b[33m9.4f\u001b[39m\u001b[38;5;132;01m}\u001b[39;00m\u001b[33m \u001b[39m\u001b[38;5;132;01m{\u001b[39;00m\u001b[32m100\u001b[39m\u001b[38;5;250m \u001b[39m-\u001b[38;5;250m \u001b[39msize/original_size*\u001b[32m100\u001b[39m\u001b[38;5;132;01m:\u001b[39;00m\u001b[33m9.4f\u001b[39m\u001b[38;5;132;01m}\u001b[39;00m\u001b[33m\"\u001b[39m)\n\u001b[32m     28\u001b[39m \u001b[38;5;28mprint\u001b[39m(compressed_lenet5_mcu_model.test(device=DEVICE, var_name=\u001b[33m\"\u001b[39m\u001b[33mlenet5_mcu_model\u001b[39m\u001b[33m\"\u001b[39m, src_dir=arduino_src_dir, include_dir=arduino_include_dir))\n\u001b[32m     29\u001b[39m \u001b[38;5;28mprint\u001b[39m(compressed_lenet5_mcu_model.test(device=DEVICE, var_name=\u001b[33m\"\u001b[39m\u001b[33mlenet5_mcu_model\u001b[39m\u001b[33m\"\u001b[39m, src_dir=hp_src_dir, include_dir=hp_include_dir))\n",
      "\u001b[31mNameError\u001b[39m: name 'sp' is not defined"
     ]
    }
   ],
   "source": [
    "# sp = .9\n",
    "\n",
    "s = QuantizationScheme.DYNAMIC\n",
    "g = QuantizationGranularity.PER_TENSOR\n",
    "b = 4\n",
    "compression_config = {\n",
    "    # \"prune_channel\" :{\n",
    "    #     \"sparsity\" : sp,\n",
    "    #     \"metric\" : \"l2\"\n",
    "    # },\n",
    "    \"quantize\" : {\n",
    "        \"scheme\" : s,\n",
    "        \"granularity\": g,\n",
    "        \"bitwidth\" : b\n",
    "    }\n",
    "}\n",
    "\n",
    "# compressed_lenet5_mcu_model = lenet5_mcu_model.init_compress(compression_config, input_shape=input_shape, calibration_data=next(iter(mnist_test_loader))[0].to(DEVICE))\n",
    "compressed_lenet5_mcu_model = lenet5_mcu_model.fuse().init_compress(compression_config, input_shape=input_shape, calibration_data=next(iter(mnist_test_loader))[0].to(DEVICE))\n",
    "before_acc = compressed_lenet5_mcu_model.evaluate(mnist_test_loader, {\"acc\":accuracy_fun}, device=DEVICE)[\"acc\"]\n",
    "# compressed_lenet5_mcu_model.convert_to_c(input_shape=input_shape, var_name=\"lenet5_mcu_model\", src_dir=\"./HP HP Pavilion Laptop 15-cs3xxx/src/\", include_dir=\"./HP HP Pavilion Laptop 15-cs3xxx/include/\")\n",
    "compressed_lenet5_mcu_model.convert_to_c(input_shape=input_shape, var_name=\"lenet5_mcu_model\", src_dir=arduino_src_dir, include_dir=arduino_include_dir)\n",
    "compressed_lenet5_mcu_model.convert_to_c(input_shape=input_shape, var_name=\"lenet5_mcu_model\", src_dir=hp_src_dir, include_dir=hp_include_dir)\n",
    "\n",
    "size = compressed_lenet5_mcu_model.get_size_in_bits()//8\n",
    "print(f\"Before training, sparsity = {sp}, scheme = {s.name}, granularity = {g.name}, bitwidth = {b} acc = {before_acc:.4f} size = {size/original_size*100:9.4f} {100 - size/original_size*100:9.4f}\")\n",
    "\n",
    "print(compressed_lenet5_mcu_model.test(device=DEVICE, var_name=\"lenet5_mcu_model\", src_dir=arduino_src_dir, include_dir=arduino_include_dir))\n",
    "print(compressed_lenet5_mcu_model.test(device=DEVICE, var_name=\"lenet5_mcu_model\", src_dir=hp_src_dir, include_dir=hp_include_dir))\n"
   ]
  }
 ],
 "metadata": {
  "kernelspec": {
   "display_name": ".venv",
   "language": "python",
   "name": "python3"
  },
  "language_info": {
   "codemirror_mode": {
    "name": "ipython",
    "version": 3
   },
   "file_extension": ".py",
   "mimetype": "text/x-python",
   "name": "python",
   "nbconvert_exporter": "python",
   "pygments_lexer": "ipython3",
   "version": "3.12.3"
  }
 },
 "nbformat": 4,
 "nbformat_minor": 5
}
